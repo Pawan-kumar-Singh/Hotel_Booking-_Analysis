{
  "cells": [
    {
      "cell_type": "markdown",
      "metadata": {
        "id": "view-in-github",
        "colab_type": "text"
      },
      "source": [
        "<a href=\"https://colab.research.google.com/github/Pawan-kumar-Singh/Hotel_Booking-_Analysis/blob/main/Hotel_Booking_Analysis_Capstone_Project.ipynb\" target=\"_parent\"><img src=\"https://colab.research.google.com/assets/colab-badge.svg\" alt=\"Open In Colab\"/></a>"
      ]
    },
    {
      "cell_type": "markdown",
      "metadata": {
        "id": "Y06xIdG26kRF"
      },
      "source": [
        "## <b> Have you ever wondered when the best time of year to book a hotel room is? Or the optimal length of stay in order to get the best daily rate? What if you wanted to predict whether or not a hotel was likely to receive a disproportionately high number of special requests? This hotel booking dataset can help you explore those questions!\n",
        "\n",
        "## <b>This data set contains booking information for a city hotel and a resort hotel, and includes information such as when the booking was made, length of stay, the number of adults, children, and/or babies, and the number of available parking spaces, among other things. All personally identifying information has been removed from the data. </b>\n",
        "\n",
        "## <b> Explore and analyze the data to discover important factors that govern the bookings. </b>"
      ]
    },
    {
      "cell_type": "markdown",
      "metadata": {
        "id": "LjIq3kVc-32Z"
      },
      "source": [
        "## Hotel Booking Analysis"
      ]
    },
    {
      "cell_type": "markdown",
      "metadata": {
        "id": "7nCSLOKEmsXb"
      },
      "source": [
        "### * Collection and Understanding of data*"
      ]
    },
    {
      "cell_type": "markdown",
      "metadata": {
        "id": "-t_644LYDdxb"
      },
      "source": [
        "Steps we are going to take to collect and understand this data set\n",
        "\n"
      ]
    },
    {
      "cell_type": "markdown",
      "metadata": {
        "id": "UxZy-dVbDnw1"
      },
      "source": [
        "1 Import important libraries."
      ]
    },
    {
      "cell_type": "markdown",
      "metadata": {
        "id": "Yuiq1-3RDs9y"
      },
      "source": [
        "2 Mount the google drive."
      ]
    },
    {
      "cell_type": "markdown",
      "metadata": {
        "id": "ku249BstDy_J"
      },
      "source": [
        "3 Exploration namely: head, tail, summary, data dictionary."
      ]
    },
    {
      "cell_type": "markdown",
      "metadata": {
        "id": "X_0xvDtNbpsE"
      },
      "source": [
        "4 Find all the data description and information"
      ]
    },
    {
      "cell_type": "markdown",
      "metadata": {
        "id": "vRmwczGu9tP1"
      },
      "source": [
        "5 Find null and duplicated values."
      ]
    },
    {
      "cell_type": "markdown",
      "metadata": {
        "id": "-LSGj3kkbGWv"
      },
      "source": [
        "6 Explore all columns one by one and then find its meaning"
      ]
    },
    {
      "cell_type": "code",
      "execution_count": 216,
      "metadata": {
        "id": "dByMsuzT8Tnw"
      },
      "outputs": [],
      "source": [
        "#Importing the important library for EDA\n",
        "import numpy as np \n",
        "import pandas as pd\n",
        "import matplotlib.pyplot as plt\n",
        "import seaborn as sns\n",
        "import pycountry as pc\n",
        "\n",
        "pd.options.display.max_columns = None\n"
      ]
    },
    {
      "cell_type": "code",
      "source": [
        "!pip install pycountry"
      ],
      "metadata": {
        "colab": {
          "base_uri": "https://localhost:8080/",
          "height": 0
        },
        "id": "zRFYotdv2Rh7",
        "outputId": "37cdbd48-8f80-4235-e98f-4bc060e44c4b"
      },
      "execution_count": 217,
      "outputs": [
        {
          "output_type": "stream",
          "name": "stdout",
          "text": [
            "Looking in indexes: https://pypi.org/simple, https://us-python.pkg.dev/colab-wheels/public/simple/\n",
            "Requirement already satisfied: pycountry in /usr/local/lib/python3.7/dist-packages (22.3.5)\n",
            "Requirement already satisfied: setuptools in /usr/local/lib/python3.7/dist-packages (from pycountry) (57.4.0)\n"
          ]
        }
      ]
    },
    {
      "cell_type": "code",
      "execution_count": 218,
      "metadata": {
        "colab": {
          "base_uri": "https://localhost:8080/",
          "height": 0
        },
        "id": "jqC6075q_g6s",
        "outputId": "c1041eaa-1517-43d1-fb3d-1f5b4bab74df"
      },
      "outputs": [
        {
          "output_type": "stream",
          "name": "stdout",
          "text": [
            "Drive already mounted at /content/drive; to attempt to forcibly remount, call drive.mount(\"/content/drive\", force_remount=True).\n"
          ]
        }
      ],
      "source": [
        "#mounting the google drive\n",
        "from google.colab import drive\n",
        "drive.mount('/content/drive')"
      ]
    },
    {
      "cell_type": "code",
      "execution_count": 219,
      "metadata": {
        "id": "ELHJ_lpT_hgz"
      },
      "outputs": [],
      "source": [
        "#importing the hotel booking data set using pandas read_csv function\n",
        "df = pd.read_csv('/content/drive/MyDrive/Hotel Booking Analysis/Hotel Bookings.csv')"
      ]
    },
    {
      "cell_type": "code",
      "execution_count": 220,
      "metadata": {
        "colab": {
          "base_uri": "https://localhost:8080/",
          "height": 0
        },
        "id": "_ogw0QqVAC3z",
        "outputId": "0c9dc9e3-5a88-4052-abbf-b33daf84e986"
      },
      "outputs": [
        {
          "output_type": "execute_result",
          "data": {
            "text/plain": [
              "(119390, 32)"
            ]
          },
          "metadata": {},
          "execution_count": 220
        }
      ],
      "source": [
        "# shape function return the total numbers of row and coloumns present in the data set\n",
        "df.shape"
      ]
    },
    {
      "cell_type": "markdown",
      "metadata": {
        "id": "quT38TeSEZKy"
      },
      "source": [
        "So there is total 119390 rows and 32 columns"
      ]
    },
    {
      "cell_type": "code",
      "execution_count": 221,
      "metadata": {
        "colab": {
          "base_uri": "https://localhost:8080/",
          "height": 0
        },
        "id": "kUmYLWzeEkcO",
        "outputId": "5c2e3fa4-f4ef-4a9b-b4ac-28317c6cc838"
      },
      "outputs": [
        {
          "output_type": "execute_result",
          "data": {
            "text/plain": [
              "20"
            ]
          },
          "metadata": {},
          "execution_count": 221
        }
      ],
      "source": [
        "#lets check the numeric columns and categorical columns\n",
        "numeric = ['int16','int32','int64','float16','float32','float64']\n",
        "numeric_data = df.select_dtypes(include = numeric)\n",
        "len(numeric_data.columns)"
      ]
    },
    {
      "cell_type": "markdown",
      "metadata": {
        "id": "zP4E1jCBGQh9"
      },
      "source": [
        "Now we know that in our data 20 columns are numeric"
      ]
    },
    {
      "cell_type": "code",
      "execution_count": 222,
      "metadata": {
        "colab": {
          "base_uri": "https://localhost:8080/",
          "height": 0
        },
        "id": "fUfO0JG_AWKQ",
        "outputId": "e3fa2f15-68c9-49ba-d757-601c23bcecb0"
      },
      "outputs": [
        {
          "output_type": "execute_result",
          "data": {
            "text/plain": [
              "          hotel  is_canceled  lead_time  arrival_date_year arrival_date_month  \\\n",
              "0  Resort Hotel            0        342               2015               July   \n",
              "1  Resort Hotel            0        737               2015               July   \n",
              "2  Resort Hotel            0          7               2015               July   \n",
              "3  Resort Hotel            0         13               2015               July   \n",
              "4  Resort Hotel            0         14               2015               July   \n",
              "\n",
              "   arrival_date_week_number  arrival_date_day_of_month  \\\n",
              "0                        27                          1   \n",
              "1                        27                          1   \n",
              "2                        27                          1   \n",
              "3                        27                          1   \n",
              "4                        27                          1   \n",
              "\n",
              "   stays_in_weekend_nights  stays_in_week_nights  adults  children  babies  \\\n",
              "0                        0                     0       2       0.0       0   \n",
              "1                        0                     0       2       0.0       0   \n",
              "2                        0                     1       1       0.0       0   \n",
              "3                        0                     1       1       0.0       0   \n",
              "4                        0                     2       2       0.0       0   \n",
              "\n",
              "  meal country market_segment distribution_channel  is_repeated_guest  \\\n",
              "0   BB     PRT         Direct               Direct                  0   \n",
              "1   BB     PRT         Direct               Direct                  0   \n",
              "2   BB     GBR         Direct               Direct                  0   \n",
              "3   BB     GBR      Corporate            Corporate                  0   \n",
              "4   BB     GBR      Online TA                TA/TO                  0   \n",
              "\n",
              "   previous_cancellations  previous_bookings_not_canceled reserved_room_type  \\\n",
              "0                       0                               0                  C   \n",
              "1                       0                               0                  C   \n",
              "2                       0                               0                  A   \n",
              "3                       0                               0                  A   \n",
              "4                       0                               0                  A   \n",
              "\n",
              "  assigned_room_type  booking_changes deposit_type  agent  company  \\\n",
              "0                  C                3   No Deposit    NaN      NaN   \n",
              "1                  C                4   No Deposit    NaN      NaN   \n",
              "2                  C                0   No Deposit    NaN      NaN   \n",
              "3                  A                0   No Deposit  304.0      NaN   \n",
              "4                  A                0   No Deposit  240.0      NaN   \n",
              "\n",
              "   days_in_waiting_list customer_type   adr  required_car_parking_spaces  \\\n",
              "0                     0     Transient   0.0                            0   \n",
              "1                     0     Transient   0.0                            0   \n",
              "2                     0     Transient  75.0                            0   \n",
              "3                     0     Transient  75.0                            0   \n",
              "4                     0     Transient  98.0                            0   \n",
              "\n",
              "   total_of_special_requests reservation_status reservation_status_date  \n",
              "0                          0          Check-Out              2015-07-01  \n",
              "1                          0          Check-Out              2015-07-01  \n",
              "2                          0          Check-Out              2015-07-02  \n",
              "3                          0          Check-Out              2015-07-02  \n",
              "4                          1          Check-Out              2015-07-03  "
            ],
            "text/html": [
              "\n",
              "  <div id=\"df-ecc596eb-186a-4d11-8f1d-522c92d30876\">\n",
              "    <div class=\"colab-df-container\">\n",
              "      <div>\n",
              "<style scoped>\n",
              "    .dataframe tbody tr th:only-of-type {\n",
              "        vertical-align: middle;\n",
              "    }\n",
              "\n",
              "    .dataframe tbody tr th {\n",
              "        vertical-align: top;\n",
              "    }\n",
              "\n",
              "    .dataframe thead th {\n",
              "        text-align: right;\n",
              "    }\n",
              "</style>\n",
              "<table border=\"1\" class=\"dataframe\">\n",
              "  <thead>\n",
              "    <tr style=\"text-align: right;\">\n",
              "      <th></th>\n",
              "      <th>hotel</th>\n",
              "      <th>is_canceled</th>\n",
              "      <th>lead_time</th>\n",
              "      <th>arrival_date_year</th>\n",
              "      <th>arrival_date_month</th>\n",
              "      <th>arrival_date_week_number</th>\n",
              "      <th>arrival_date_day_of_month</th>\n",
              "      <th>stays_in_weekend_nights</th>\n",
              "      <th>stays_in_week_nights</th>\n",
              "      <th>adults</th>\n",
              "      <th>children</th>\n",
              "      <th>babies</th>\n",
              "      <th>meal</th>\n",
              "      <th>country</th>\n",
              "      <th>market_segment</th>\n",
              "      <th>distribution_channel</th>\n",
              "      <th>is_repeated_guest</th>\n",
              "      <th>previous_cancellations</th>\n",
              "      <th>previous_bookings_not_canceled</th>\n",
              "      <th>reserved_room_type</th>\n",
              "      <th>assigned_room_type</th>\n",
              "      <th>booking_changes</th>\n",
              "      <th>deposit_type</th>\n",
              "      <th>agent</th>\n",
              "      <th>company</th>\n",
              "      <th>days_in_waiting_list</th>\n",
              "      <th>customer_type</th>\n",
              "      <th>adr</th>\n",
              "      <th>required_car_parking_spaces</th>\n",
              "      <th>total_of_special_requests</th>\n",
              "      <th>reservation_status</th>\n",
              "      <th>reservation_status_date</th>\n",
              "    </tr>\n",
              "  </thead>\n",
              "  <tbody>\n",
              "    <tr>\n",
              "      <th>0</th>\n",
              "      <td>Resort Hotel</td>\n",
              "      <td>0</td>\n",
              "      <td>342</td>\n",
              "      <td>2015</td>\n",
              "      <td>July</td>\n",
              "      <td>27</td>\n",
              "      <td>1</td>\n",
              "      <td>0</td>\n",
              "      <td>0</td>\n",
              "      <td>2</td>\n",
              "      <td>0.0</td>\n",
              "      <td>0</td>\n",
              "      <td>BB</td>\n",
              "      <td>PRT</td>\n",
              "      <td>Direct</td>\n",
              "      <td>Direct</td>\n",
              "      <td>0</td>\n",
              "      <td>0</td>\n",
              "      <td>0</td>\n",
              "      <td>C</td>\n",
              "      <td>C</td>\n",
              "      <td>3</td>\n",
              "      <td>No Deposit</td>\n",
              "      <td>NaN</td>\n",
              "      <td>NaN</td>\n",
              "      <td>0</td>\n",
              "      <td>Transient</td>\n",
              "      <td>0.0</td>\n",
              "      <td>0</td>\n",
              "      <td>0</td>\n",
              "      <td>Check-Out</td>\n",
              "      <td>2015-07-01</td>\n",
              "    </tr>\n",
              "    <tr>\n",
              "      <th>1</th>\n",
              "      <td>Resort Hotel</td>\n",
              "      <td>0</td>\n",
              "      <td>737</td>\n",
              "      <td>2015</td>\n",
              "      <td>July</td>\n",
              "      <td>27</td>\n",
              "      <td>1</td>\n",
              "      <td>0</td>\n",
              "      <td>0</td>\n",
              "      <td>2</td>\n",
              "      <td>0.0</td>\n",
              "      <td>0</td>\n",
              "      <td>BB</td>\n",
              "      <td>PRT</td>\n",
              "      <td>Direct</td>\n",
              "      <td>Direct</td>\n",
              "      <td>0</td>\n",
              "      <td>0</td>\n",
              "      <td>0</td>\n",
              "      <td>C</td>\n",
              "      <td>C</td>\n",
              "      <td>4</td>\n",
              "      <td>No Deposit</td>\n",
              "      <td>NaN</td>\n",
              "      <td>NaN</td>\n",
              "      <td>0</td>\n",
              "      <td>Transient</td>\n",
              "      <td>0.0</td>\n",
              "      <td>0</td>\n",
              "      <td>0</td>\n",
              "      <td>Check-Out</td>\n",
              "      <td>2015-07-01</td>\n",
              "    </tr>\n",
              "    <tr>\n",
              "      <th>2</th>\n",
              "      <td>Resort Hotel</td>\n",
              "      <td>0</td>\n",
              "      <td>7</td>\n",
              "      <td>2015</td>\n",
              "      <td>July</td>\n",
              "      <td>27</td>\n",
              "      <td>1</td>\n",
              "      <td>0</td>\n",
              "      <td>1</td>\n",
              "      <td>1</td>\n",
              "      <td>0.0</td>\n",
              "      <td>0</td>\n",
              "      <td>BB</td>\n",
              "      <td>GBR</td>\n",
              "      <td>Direct</td>\n",
              "      <td>Direct</td>\n",
              "      <td>0</td>\n",
              "      <td>0</td>\n",
              "      <td>0</td>\n",
              "      <td>A</td>\n",
              "      <td>C</td>\n",
              "      <td>0</td>\n",
              "      <td>No Deposit</td>\n",
              "      <td>NaN</td>\n",
              "      <td>NaN</td>\n",
              "      <td>0</td>\n",
              "      <td>Transient</td>\n",
              "      <td>75.0</td>\n",
              "      <td>0</td>\n",
              "      <td>0</td>\n",
              "      <td>Check-Out</td>\n",
              "      <td>2015-07-02</td>\n",
              "    </tr>\n",
              "    <tr>\n",
              "      <th>3</th>\n",
              "      <td>Resort Hotel</td>\n",
              "      <td>0</td>\n",
              "      <td>13</td>\n",
              "      <td>2015</td>\n",
              "      <td>July</td>\n",
              "      <td>27</td>\n",
              "      <td>1</td>\n",
              "      <td>0</td>\n",
              "      <td>1</td>\n",
              "      <td>1</td>\n",
              "      <td>0.0</td>\n",
              "      <td>0</td>\n",
              "      <td>BB</td>\n",
              "      <td>GBR</td>\n",
              "      <td>Corporate</td>\n",
              "      <td>Corporate</td>\n",
              "      <td>0</td>\n",
              "      <td>0</td>\n",
              "      <td>0</td>\n",
              "      <td>A</td>\n",
              "      <td>A</td>\n",
              "      <td>0</td>\n",
              "      <td>No Deposit</td>\n",
              "      <td>304.0</td>\n",
              "      <td>NaN</td>\n",
              "      <td>0</td>\n",
              "      <td>Transient</td>\n",
              "      <td>75.0</td>\n",
              "      <td>0</td>\n",
              "      <td>0</td>\n",
              "      <td>Check-Out</td>\n",
              "      <td>2015-07-02</td>\n",
              "    </tr>\n",
              "    <tr>\n",
              "      <th>4</th>\n",
              "      <td>Resort Hotel</td>\n",
              "      <td>0</td>\n",
              "      <td>14</td>\n",
              "      <td>2015</td>\n",
              "      <td>July</td>\n",
              "      <td>27</td>\n",
              "      <td>1</td>\n",
              "      <td>0</td>\n",
              "      <td>2</td>\n",
              "      <td>2</td>\n",
              "      <td>0.0</td>\n",
              "      <td>0</td>\n",
              "      <td>BB</td>\n",
              "      <td>GBR</td>\n",
              "      <td>Online TA</td>\n",
              "      <td>TA/TO</td>\n",
              "      <td>0</td>\n",
              "      <td>0</td>\n",
              "      <td>0</td>\n",
              "      <td>A</td>\n",
              "      <td>A</td>\n",
              "      <td>0</td>\n",
              "      <td>No Deposit</td>\n",
              "      <td>240.0</td>\n",
              "      <td>NaN</td>\n",
              "      <td>0</td>\n",
              "      <td>Transient</td>\n",
              "      <td>98.0</td>\n",
              "      <td>0</td>\n",
              "      <td>1</td>\n",
              "      <td>Check-Out</td>\n",
              "      <td>2015-07-03</td>\n",
              "    </tr>\n",
              "  </tbody>\n",
              "</table>\n",
              "</div>\n",
              "      <button class=\"colab-df-convert\" onclick=\"convertToInteractive('df-ecc596eb-186a-4d11-8f1d-522c92d30876')\"\n",
              "              title=\"Convert this dataframe to an interactive table.\"\n",
              "              style=\"display:none;\">\n",
              "        \n",
              "  <svg xmlns=\"http://www.w3.org/2000/svg\" height=\"24px\"viewBox=\"0 0 24 24\"\n",
              "       width=\"24px\">\n",
              "    <path d=\"M0 0h24v24H0V0z\" fill=\"none\"/>\n",
              "    <path d=\"M18.56 5.44l.94 2.06.94-2.06 2.06-.94-2.06-.94-.94-2.06-.94 2.06-2.06.94zm-11 1L8.5 8.5l.94-2.06 2.06-.94-2.06-.94L8.5 2.5l-.94 2.06-2.06.94zm10 10l.94 2.06.94-2.06 2.06-.94-2.06-.94-.94-2.06-.94 2.06-2.06.94z\"/><path d=\"M17.41 7.96l-1.37-1.37c-.4-.4-.92-.59-1.43-.59-.52 0-1.04.2-1.43.59L10.3 9.45l-7.72 7.72c-.78.78-.78 2.05 0 2.83L4 21.41c.39.39.9.59 1.41.59.51 0 1.02-.2 1.41-.59l7.78-7.78 2.81-2.81c.8-.78.8-2.07 0-2.86zM5.41 20L4 18.59l7.72-7.72 1.47 1.35L5.41 20z\"/>\n",
              "  </svg>\n",
              "      </button>\n",
              "      \n",
              "  <style>\n",
              "    .colab-df-container {\n",
              "      display:flex;\n",
              "      flex-wrap:wrap;\n",
              "      gap: 12px;\n",
              "    }\n",
              "\n",
              "    .colab-df-convert {\n",
              "      background-color: #E8F0FE;\n",
              "      border: none;\n",
              "      border-radius: 50%;\n",
              "      cursor: pointer;\n",
              "      display: none;\n",
              "      fill: #1967D2;\n",
              "      height: 32px;\n",
              "      padding: 0 0 0 0;\n",
              "      width: 32px;\n",
              "    }\n",
              "\n",
              "    .colab-df-convert:hover {\n",
              "      background-color: #E2EBFA;\n",
              "      box-shadow: 0px 1px 2px rgba(60, 64, 67, 0.3), 0px 1px 3px 1px rgba(60, 64, 67, 0.15);\n",
              "      fill: #174EA6;\n",
              "    }\n",
              "\n",
              "    [theme=dark] .colab-df-convert {\n",
              "      background-color: #3B4455;\n",
              "      fill: #D2E3FC;\n",
              "    }\n",
              "\n",
              "    [theme=dark] .colab-df-convert:hover {\n",
              "      background-color: #434B5C;\n",
              "      box-shadow: 0px 1px 3px 1px rgba(0, 0, 0, 0.15);\n",
              "      filter: drop-shadow(0px 1px 2px rgba(0, 0, 0, 0.3));\n",
              "      fill: #FFFFFF;\n",
              "    }\n",
              "  </style>\n",
              "\n",
              "      <script>\n",
              "        const buttonEl =\n",
              "          document.querySelector('#df-ecc596eb-186a-4d11-8f1d-522c92d30876 button.colab-df-convert');\n",
              "        buttonEl.style.display =\n",
              "          google.colab.kernel.accessAllowed ? 'block' : 'none';\n",
              "\n",
              "        async function convertToInteractive(key) {\n",
              "          const element = document.querySelector('#df-ecc596eb-186a-4d11-8f1d-522c92d30876');\n",
              "          const dataTable =\n",
              "            await google.colab.kernel.invokeFunction('convertToInteractive',\n",
              "                                                     [key], {});\n",
              "          if (!dataTable) return;\n",
              "\n",
              "          const docLinkHtml = 'Like what you see? Visit the ' +\n",
              "            '<a target=\"_blank\" href=https://colab.research.google.com/notebooks/data_table.ipynb>data table notebook</a>'\n",
              "            + ' to learn more about interactive tables.';\n",
              "          element.innerHTML = '';\n",
              "          dataTable['output_type'] = 'display_data';\n",
              "          await google.colab.output.renderOutput(dataTable, element);\n",
              "          const docLink = document.createElement('div');\n",
              "          docLink.innerHTML = docLinkHtml;\n",
              "          element.appendChild(docLink);\n",
              "        }\n",
              "      </script>\n",
              "    </div>\n",
              "  </div>\n",
              "  "
            ]
          },
          "metadata": {},
          "execution_count": 222
        }
      ],
      "source": [
        "# Head function return the top 5 raw (records) of the data set\n",
        "df.head()"
      ]
    },
    {
      "cell_type": "code",
      "execution_count": 223,
      "metadata": {
        "colab": {
          "base_uri": "https://localhost:8080/",
          "height": 0
        },
        "id": "ukoIEAKxAigo",
        "outputId": "bc75dc68-c3a3-418c-d70a-e8a659999252"
      },
      "outputs": [
        {
          "output_type": "execute_result",
          "data": {
            "text/plain": [
              "             hotel  is_canceled  lead_time  arrival_date_year  \\\n",
              "119385  City Hotel            0         23               2017   \n",
              "119386  City Hotel            0        102               2017   \n",
              "119387  City Hotel            0         34               2017   \n",
              "119388  City Hotel            0        109               2017   \n",
              "119389  City Hotel            0        205               2017   \n",
              "\n",
              "       arrival_date_month  arrival_date_week_number  \\\n",
              "119385             August                        35   \n",
              "119386             August                        35   \n",
              "119387             August                        35   \n",
              "119388             August                        35   \n",
              "119389             August                        35   \n",
              "\n",
              "        arrival_date_day_of_month  stays_in_weekend_nights  \\\n",
              "119385                         30                        2   \n",
              "119386                         31                        2   \n",
              "119387                         31                        2   \n",
              "119388                         31                        2   \n",
              "119389                         29                        2   \n",
              "\n",
              "        stays_in_week_nights  adults  children  babies meal country  \\\n",
              "119385                     5       2       0.0       0   BB     BEL   \n",
              "119386                     5       3       0.0       0   BB     FRA   \n",
              "119387                     5       2       0.0       0   BB     DEU   \n",
              "119388                     5       2       0.0       0   BB     GBR   \n",
              "119389                     7       2       0.0       0   HB     DEU   \n",
              "\n",
              "       market_segment distribution_channel  is_repeated_guest  \\\n",
              "119385  Offline TA/TO                TA/TO                  0   \n",
              "119386      Online TA                TA/TO                  0   \n",
              "119387      Online TA                TA/TO                  0   \n",
              "119388      Online TA                TA/TO                  0   \n",
              "119389      Online TA                TA/TO                  0   \n",
              "\n",
              "        previous_cancellations  previous_bookings_not_canceled  \\\n",
              "119385                       0                               0   \n",
              "119386                       0                               0   \n",
              "119387                       0                               0   \n",
              "119388                       0                               0   \n",
              "119389                       0                               0   \n",
              "\n",
              "       reserved_room_type assigned_room_type  booking_changes deposit_type  \\\n",
              "119385                  A                  A                0   No Deposit   \n",
              "119386                  E                  E                0   No Deposit   \n",
              "119387                  D                  D                0   No Deposit   \n",
              "119388                  A                  A                0   No Deposit   \n",
              "119389                  A                  A                0   No Deposit   \n",
              "\n",
              "        agent  company  days_in_waiting_list customer_type     adr  \\\n",
              "119385  394.0      NaN                     0     Transient   96.14   \n",
              "119386    9.0      NaN                     0     Transient  225.43   \n",
              "119387    9.0      NaN                     0     Transient  157.71   \n",
              "119388   89.0      NaN                     0     Transient  104.40   \n",
              "119389    9.0      NaN                     0     Transient  151.20   \n",
              "\n",
              "        required_car_parking_spaces  total_of_special_requests  \\\n",
              "119385                            0                          0   \n",
              "119386                            0                          2   \n",
              "119387                            0                          4   \n",
              "119388                            0                          0   \n",
              "119389                            0                          2   \n",
              "\n",
              "       reservation_status reservation_status_date  \n",
              "119385          Check-Out              2017-09-06  \n",
              "119386          Check-Out              2017-09-07  \n",
              "119387          Check-Out              2017-09-07  \n",
              "119388          Check-Out              2017-09-07  \n",
              "119389          Check-Out              2017-09-07  "
            ],
            "text/html": [
              "\n",
              "  <div id=\"df-ca0469f6-8cf9-47b8-95b1-6e5a9e77781c\">\n",
              "    <div class=\"colab-df-container\">\n",
              "      <div>\n",
              "<style scoped>\n",
              "    .dataframe tbody tr th:only-of-type {\n",
              "        vertical-align: middle;\n",
              "    }\n",
              "\n",
              "    .dataframe tbody tr th {\n",
              "        vertical-align: top;\n",
              "    }\n",
              "\n",
              "    .dataframe thead th {\n",
              "        text-align: right;\n",
              "    }\n",
              "</style>\n",
              "<table border=\"1\" class=\"dataframe\">\n",
              "  <thead>\n",
              "    <tr style=\"text-align: right;\">\n",
              "      <th></th>\n",
              "      <th>hotel</th>\n",
              "      <th>is_canceled</th>\n",
              "      <th>lead_time</th>\n",
              "      <th>arrival_date_year</th>\n",
              "      <th>arrival_date_month</th>\n",
              "      <th>arrival_date_week_number</th>\n",
              "      <th>arrival_date_day_of_month</th>\n",
              "      <th>stays_in_weekend_nights</th>\n",
              "      <th>stays_in_week_nights</th>\n",
              "      <th>adults</th>\n",
              "      <th>children</th>\n",
              "      <th>babies</th>\n",
              "      <th>meal</th>\n",
              "      <th>country</th>\n",
              "      <th>market_segment</th>\n",
              "      <th>distribution_channel</th>\n",
              "      <th>is_repeated_guest</th>\n",
              "      <th>previous_cancellations</th>\n",
              "      <th>previous_bookings_not_canceled</th>\n",
              "      <th>reserved_room_type</th>\n",
              "      <th>assigned_room_type</th>\n",
              "      <th>booking_changes</th>\n",
              "      <th>deposit_type</th>\n",
              "      <th>agent</th>\n",
              "      <th>company</th>\n",
              "      <th>days_in_waiting_list</th>\n",
              "      <th>customer_type</th>\n",
              "      <th>adr</th>\n",
              "      <th>required_car_parking_spaces</th>\n",
              "      <th>total_of_special_requests</th>\n",
              "      <th>reservation_status</th>\n",
              "      <th>reservation_status_date</th>\n",
              "    </tr>\n",
              "  </thead>\n",
              "  <tbody>\n",
              "    <tr>\n",
              "      <th>119385</th>\n",
              "      <td>City Hotel</td>\n",
              "      <td>0</td>\n",
              "      <td>23</td>\n",
              "      <td>2017</td>\n",
              "      <td>August</td>\n",
              "      <td>35</td>\n",
              "      <td>30</td>\n",
              "      <td>2</td>\n",
              "      <td>5</td>\n",
              "      <td>2</td>\n",
              "      <td>0.0</td>\n",
              "      <td>0</td>\n",
              "      <td>BB</td>\n",
              "      <td>BEL</td>\n",
              "      <td>Offline TA/TO</td>\n",
              "      <td>TA/TO</td>\n",
              "      <td>0</td>\n",
              "      <td>0</td>\n",
              "      <td>0</td>\n",
              "      <td>A</td>\n",
              "      <td>A</td>\n",
              "      <td>0</td>\n",
              "      <td>No Deposit</td>\n",
              "      <td>394.0</td>\n",
              "      <td>NaN</td>\n",
              "      <td>0</td>\n",
              "      <td>Transient</td>\n",
              "      <td>96.14</td>\n",
              "      <td>0</td>\n",
              "      <td>0</td>\n",
              "      <td>Check-Out</td>\n",
              "      <td>2017-09-06</td>\n",
              "    </tr>\n",
              "    <tr>\n",
              "      <th>119386</th>\n",
              "      <td>City Hotel</td>\n",
              "      <td>0</td>\n",
              "      <td>102</td>\n",
              "      <td>2017</td>\n",
              "      <td>August</td>\n",
              "      <td>35</td>\n",
              "      <td>31</td>\n",
              "      <td>2</td>\n",
              "      <td>5</td>\n",
              "      <td>3</td>\n",
              "      <td>0.0</td>\n",
              "      <td>0</td>\n",
              "      <td>BB</td>\n",
              "      <td>FRA</td>\n",
              "      <td>Online TA</td>\n",
              "      <td>TA/TO</td>\n",
              "      <td>0</td>\n",
              "      <td>0</td>\n",
              "      <td>0</td>\n",
              "      <td>E</td>\n",
              "      <td>E</td>\n",
              "      <td>0</td>\n",
              "      <td>No Deposit</td>\n",
              "      <td>9.0</td>\n",
              "      <td>NaN</td>\n",
              "      <td>0</td>\n",
              "      <td>Transient</td>\n",
              "      <td>225.43</td>\n",
              "      <td>0</td>\n",
              "      <td>2</td>\n",
              "      <td>Check-Out</td>\n",
              "      <td>2017-09-07</td>\n",
              "    </tr>\n",
              "    <tr>\n",
              "      <th>119387</th>\n",
              "      <td>City Hotel</td>\n",
              "      <td>0</td>\n",
              "      <td>34</td>\n",
              "      <td>2017</td>\n",
              "      <td>August</td>\n",
              "      <td>35</td>\n",
              "      <td>31</td>\n",
              "      <td>2</td>\n",
              "      <td>5</td>\n",
              "      <td>2</td>\n",
              "      <td>0.0</td>\n",
              "      <td>0</td>\n",
              "      <td>BB</td>\n",
              "      <td>DEU</td>\n",
              "      <td>Online TA</td>\n",
              "      <td>TA/TO</td>\n",
              "      <td>0</td>\n",
              "      <td>0</td>\n",
              "      <td>0</td>\n",
              "      <td>D</td>\n",
              "      <td>D</td>\n",
              "      <td>0</td>\n",
              "      <td>No Deposit</td>\n",
              "      <td>9.0</td>\n",
              "      <td>NaN</td>\n",
              "      <td>0</td>\n",
              "      <td>Transient</td>\n",
              "      <td>157.71</td>\n",
              "      <td>0</td>\n",
              "      <td>4</td>\n",
              "      <td>Check-Out</td>\n",
              "      <td>2017-09-07</td>\n",
              "    </tr>\n",
              "    <tr>\n",
              "      <th>119388</th>\n",
              "      <td>City Hotel</td>\n",
              "      <td>0</td>\n",
              "      <td>109</td>\n",
              "      <td>2017</td>\n",
              "      <td>August</td>\n",
              "      <td>35</td>\n",
              "      <td>31</td>\n",
              "      <td>2</td>\n",
              "      <td>5</td>\n",
              "      <td>2</td>\n",
              "      <td>0.0</td>\n",
              "      <td>0</td>\n",
              "      <td>BB</td>\n",
              "      <td>GBR</td>\n",
              "      <td>Online TA</td>\n",
              "      <td>TA/TO</td>\n",
              "      <td>0</td>\n",
              "      <td>0</td>\n",
              "      <td>0</td>\n",
              "      <td>A</td>\n",
              "      <td>A</td>\n",
              "      <td>0</td>\n",
              "      <td>No Deposit</td>\n",
              "      <td>89.0</td>\n",
              "      <td>NaN</td>\n",
              "      <td>0</td>\n",
              "      <td>Transient</td>\n",
              "      <td>104.40</td>\n",
              "      <td>0</td>\n",
              "      <td>0</td>\n",
              "      <td>Check-Out</td>\n",
              "      <td>2017-09-07</td>\n",
              "    </tr>\n",
              "    <tr>\n",
              "      <th>119389</th>\n",
              "      <td>City Hotel</td>\n",
              "      <td>0</td>\n",
              "      <td>205</td>\n",
              "      <td>2017</td>\n",
              "      <td>August</td>\n",
              "      <td>35</td>\n",
              "      <td>29</td>\n",
              "      <td>2</td>\n",
              "      <td>7</td>\n",
              "      <td>2</td>\n",
              "      <td>0.0</td>\n",
              "      <td>0</td>\n",
              "      <td>HB</td>\n",
              "      <td>DEU</td>\n",
              "      <td>Online TA</td>\n",
              "      <td>TA/TO</td>\n",
              "      <td>0</td>\n",
              "      <td>0</td>\n",
              "      <td>0</td>\n",
              "      <td>A</td>\n",
              "      <td>A</td>\n",
              "      <td>0</td>\n",
              "      <td>No Deposit</td>\n",
              "      <td>9.0</td>\n",
              "      <td>NaN</td>\n",
              "      <td>0</td>\n",
              "      <td>Transient</td>\n",
              "      <td>151.20</td>\n",
              "      <td>0</td>\n",
              "      <td>2</td>\n",
              "      <td>Check-Out</td>\n",
              "      <td>2017-09-07</td>\n",
              "    </tr>\n",
              "  </tbody>\n",
              "</table>\n",
              "</div>\n",
              "      <button class=\"colab-df-convert\" onclick=\"convertToInteractive('df-ca0469f6-8cf9-47b8-95b1-6e5a9e77781c')\"\n",
              "              title=\"Convert this dataframe to an interactive table.\"\n",
              "              style=\"display:none;\">\n",
              "        \n",
              "  <svg xmlns=\"http://www.w3.org/2000/svg\" height=\"24px\"viewBox=\"0 0 24 24\"\n",
              "       width=\"24px\">\n",
              "    <path d=\"M0 0h24v24H0V0z\" fill=\"none\"/>\n",
              "    <path d=\"M18.56 5.44l.94 2.06.94-2.06 2.06-.94-2.06-.94-.94-2.06-.94 2.06-2.06.94zm-11 1L8.5 8.5l.94-2.06 2.06-.94-2.06-.94L8.5 2.5l-.94 2.06-2.06.94zm10 10l.94 2.06.94-2.06 2.06-.94-2.06-.94-.94-2.06-.94 2.06-2.06.94z\"/><path d=\"M17.41 7.96l-1.37-1.37c-.4-.4-.92-.59-1.43-.59-.52 0-1.04.2-1.43.59L10.3 9.45l-7.72 7.72c-.78.78-.78 2.05 0 2.83L4 21.41c.39.39.9.59 1.41.59.51 0 1.02-.2 1.41-.59l7.78-7.78 2.81-2.81c.8-.78.8-2.07 0-2.86zM5.41 20L4 18.59l7.72-7.72 1.47 1.35L5.41 20z\"/>\n",
              "  </svg>\n",
              "      </button>\n",
              "      \n",
              "  <style>\n",
              "    .colab-df-container {\n",
              "      display:flex;\n",
              "      flex-wrap:wrap;\n",
              "      gap: 12px;\n",
              "    }\n",
              "\n",
              "    .colab-df-convert {\n",
              "      background-color: #E8F0FE;\n",
              "      border: none;\n",
              "      border-radius: 50%;\n",
              "      cursor: pointer;\n",
              "      display: none;\n",
              "      fill: #1967D2;\n",
              "      height: 32px;\n",
              "      padding: 0 0 0 0;\n",
              "      width: 32px;\n",
              "    }\n",
              "\n",
              "    .colab-df-convert:hover {\n",
              "      background-color: #E2EBFA;\n",
              "      box-shadow: 0px 1px 2px rgba(60, 64, 67, 0.3), 0px 1px 3px 1px rgba(60, 64, 67, 0.15);\n",
              "      fill: #174EA6;\n",
              "    }\n",
              "\n",
              "    [theme=dark] .colab-df-convert {\n",
              "      background-color: #3B4455;\n",
              "      fill: #D2E3FC;\n",
              "    }\n",
              "\n",
              "    [theme=dark] .colab-df-convert:hover {\n",
              "      background-color: #434B5C;\n",
              "      box-shadow: 0px 1px 3px 1px rgba(0, 0, 0, 0.15);\n",
              "      filter: drop-shadow(0px 1px 2px rgba(0, 0, 0, 0.3));\n",
              "      fill: #FFFFFF;\n",
              "    }\n",
              "  </style>\n",
              "\n",
              "      <script>\n",
              "        const buttonEl =\n",
              "          document.querySelector('#df-ca0469f6-8cf9-47b8-95b1-6e5a9e77781c button.colab-df-convert');\n",
              "        buttonEl.style.display =\n",
              "          google.colab.kernel.accessAllowed ? 'block' : 'none';\n",
              "\n",
              "        async function convertToInteractive(key) {\n",
              "          const element = document.querySelector('#df-ca0469f6-8cf9-47b8-95b1-6e5a9e77781c');\n",
              "          const dataTable =\n",
              "            await google.colab.kernel.invokeFunction('convertToInteractive',\n",
              "                                                     [key], {});\n",
              "          if (!dataTable) return;\n",
              "\n",
              "          const docLinkHtml = 'Like what you see? Visit the ' +\n",
              "            '<a target=\"_blank\" href=https://colab.research.google.com/notebooks/data_table.ipynb>data table notebook</a>'\n",
              "            + ' to learn more about interactive tables.';\n",
              "          element.innerHTML = '';\n",
              "          dataTable['output_type'] = 'display_data';\n",
              "          await google.colab.output.renderOutput(dataTable, element);\n",
              "          const docLink = document.createElement('div');\n",
              "          docLink.innerHTML = docLinkHtml;\n",
              "          element.appendChild(docLink);\n",
              "        }\n",
              "      </script>\n",
              "    </div>\n",
              "  </div>\n",
              "  "
            ]
          },
          "metadata": {},
          "execution_count": 223
        }
      ],
      "source": [
        "# tail function return below 5 records of data set\n",
        "df.tail()"
      ]
    },
    {
      "cell_type": "code",
      "execution_count": 224,
      "metadata": {
        "colab": {
          "base_uri": "https://localhost:8080/",
          "height": 0
        },
        "id": "frBfgV3iAzdT",
        "outputId": "61808a4d-a4a3-42c6-f4f5-598184530272"
      },
      "outputs": [
        {
          "output_type": "stream",
          "name": "stdout",
          "text": [
            "<class 'pandas.core.frame.DataFrame'>\n",
            "RangeIndex: 119390 entries, 0 to 119389\n",
            "Data columns (total 32 columns):\n",
            " #   Column                          Non-Null Count   Dtype  \n",
            "---  ------                          --------------   -----  \n",
            " 0   hotel                           119390 non-null  object \n",
            " 1   is_canceled                     119390 non-null  int64  \n",
            " 2   lead_time                       119390 non-null  int64  \n",
            " 3   arrival_date_year               119390 non-null  int64  \n",
            " 4   arrival_date_month              119390 non-null  object \n",
            " 5   arrival_date_week_number        119390 non-null  int64  \n",
            " 6   arrival_date_day_of_month       119390 non-null  int64  \n",
            " 7   stays_in_weekend_nights         119390 non-null  int64  \n",
            " 8   stays_in_week_nights            119390 non-null  int64  \n",
            " 9   adults                          119390 non-null  int64  \n",
            " 10  children                        119386 non-null  float64\n",
            " 11  babies                          119390 non-null  int64  \n",
            " 12  meal                            119390 non-null  object \n",
            " 13  country                         118902 non-null  object \n",
            " 14  market_segment                  119390 non-null  object \n",
            " 15  distribution_channel            119390 non-null  object \n",
            " 16  is_repeated_guest               119390 non-null  int64  \n",
            " 17  previous_cancellations          119390 non-null  int64  \n",
            " 18  previous_bookings_not_canceled  119390 non-null  int64  \n",
            " 19  reserved_room_type              119390 non-null  object \n",
            " 20  assigned_room_type              119390 non-null  object \n",
            " 21  booking_changes                 119390 non-null  int64  \n",
            " 22  deposit_type                    119390 non-null  object \n",
            " 23  agent                           103050 non-null  float64\n",
            " 24  company                         6797 non-null    float64\n",
            " 25  days_in_waiting_list            119390 non-null  int64  \n",
            " 26  customer_type                   119390 non-null  object \n",
            " 27  adr                             119390 non-null  float64\n",
            " 28  required_car_parking_spaces     119390 non-null  int64  \n",
            " 29  total_of_special_requests       119390 non-null  int64  \n",
            " 30  reservation_status              119390 non-null  object \n",
            " 31  reservation_status_date         119390 non-null  object \n",
            "dtypes: float64(4), int64(16), object(12)\n",
            "memory usage: 29.1+ MB\n"
          ]
        }
      ],
      "source": [
        "# info function give us brief information about the columns name its datatype and present of null values.\n",
        "df.info()"
      ]
    },
    {
      "cell_type": "code",
      "execution_count": 225,
      "metadata": {
        "colab": {
          "base_uri": "https://localhost:8080/",
          "height": 0
        },
        "id": "iWFuYVOlAlwJ",
        "outputId": "f4f82777-81ae-4935-8e09-abbfa1707a34"
      },
      "outputs": [
        {
          "output_type": "execute_result",
          "data": {
            "text/plain": [
              "         is_canceled      lead_time  arrival_date_year  \\\n",
              "count  119390.000000  119390.000000      119390.000000   \n",
              "mean        0.370416     104.011416        2016.156554   \n",
              "std         0.482918     106.863097           0.707476   \n",
              "min         0.000000       0.000000        2015.000000   \n",
              "25%         0.000000      18.000000        2016.000000   \n",
              "50%         0.000000      69.000000        2016.000000   \n",
              "75%         1.000000     160.000000        2017.000000   \n",
              "max         1.000000     737.000000        2017.000000   \n",
              "\n",
              "       arrival_date_week_number  arrival_date_day_of_month  \\\n",
              "count             119390.000000              119390.000000   \n",
              "mean                  27.165173                  15.798241   \n",
              "std                   13.605138                   8.780829   \n",
              "min                    1.000000                   1.000000   \n",
              "25%                   16.000000                   8.000000   \n",
              "50%                   28.000000                  16.000000   \n",
              "75%                   38.000000                  23.000000   \n",
              "max                   53.000000                  31.000000   \n",
              "\n",
              "       stays_in_weekend_nights  stays_in_week_nights         adults  \\\n",
              "count            119390.000000         119390.000000  119390.000000   \n",
              "mean                  0.927599              2.500302       1.856403   \n",
              "std                   0.998613              1.908286       0.579261   \n",
              "min                   0.000000              0.000000       0.000000   \n",
              "25%                   0.000000              1.000000       2.000000   \n",
              "50%                   1.000000              2.000000       2.000000   \n",
              "75%                   2.000000              3.000000       2.000000   \n",
              "max                  19.000000             50.000000      55.000000   \n",
              "\n",
              "            children         babies  is_repeated_guest  \\\n",
              "count  119386.000000  119390.000000      119390.000000   \n",
              "mean        0.103890       0.007949           0.031912   \n",
              "std         0.398561       0.097436           0.175767   \n",
              "min         0.000000       0.000000           0.000000   \n",
              "25%         0.000000       0.000000           0.000000   \n",
              "50%         0.000000       0.000000           0.000000   \n",
              "75%         0.000000       0.000000           0.000000   \n",
              "max        10.000000      10.000000           1.000000   \n",
              "\n",
              "       previous_cancellations  previous_bookings_not_canceled  \\\n",
              "count           119390.000000                   119390.000000   \n",
              "mean                 0.087118                        0.137097   \n",
              "std                  0.844336                        1.497437   \n",
              "min                  0.000000                        0.000000   \n",
              "25%                  0.000000                        0.000000   \n",
              "50%                  0.000000                        0.000000   \n",
              "75%                  0.000000                        0.000000   \n",
              "max                 26.000000                       72.000000   \n",
              "\n",
              "       booking_changes          agent      company  days_in_waiting_list  \\\n",
              "count    119390.000000  103050.000000  6797.000000         119390.000000   \n",
              "mean          0.221124      86.693382   189.266735              2.321149   \n",
              "std           0.652306     110.774548   131.655015             17.594721   \n",
              "min           0.000000       1.000000     6.000000              0.000000   \n",
              "25%           0.000000       9.000000    62.000000              0.000000   \n",
              "50%           0.000000      14.000000   179.000000              0.000000   \n",
              "75%           0.000000     229.000000   270.000000              0.000000   \n",
              "max          21.000000     535.000000   543.000000            391.000000   \n",
              "\n",
              "                 adr  required_car_parking_spaces  total_of_special_requests  \n",
              "count  119390.000000                119390.000000              119390.000000  \n",
              "mean      101.831122                     0.062518                   0.571363  \n",
              "std        50.535790                     0.245291                   0.792798  \n",
              "min        -6.380000                     0.000000                   0.000000  \n",
              "25%        69.290000                     0.000000                   0.000000  \n",
              "50%        94.575000                     0.000000                   0.000000  \n",
              "75%       126.000000                     0.000000                   1.000000  \n",
              "max      5400.000000                     8.000000                   5.000000  "
            ],
            "text/html": [
              "\n",
              "  <div id=\"df-84fb33e6-a887-4ac2-9bc4-4254e51b73a9\">\n",
              "    <div class=\"colab-df-container\">\n",
              "      <div>\n",
              "<style scoped>\n",
              "    .dataframe tbody tr th:only-of-type {\n",
              "        vertical-align: middle;\n",
              "    }\n",
              "\n",
              "    .dataframe tbody tr th {\n",
              "        vertical-align: top;\n",
              "    }\n",
              "\n",
              "    .dataframe thead th {\n",
              "        text-align: right;\n",
              "    }\n",
              "</style>\n",
              "<table border=\"1\" class=\"dataframe\">\n",
              "  <thead>\n",
              "    <tr style=\"text-align: right;\">\n",
              "      <th></th>\n",
              "      <th>is_canceled</th>\n",
              "      <th>lead_time</th>\n",
              "      <th>arrival_date_year</th>\n",
              "      <th>arrival_date_week_number</th>\n",
              "      <th>arrival_date_day_of_month</th>\n",
              "      <th>stays_in_weekend_nights</th>\n",
              "      <th>stays_in_week_nights</th>\n",
              "      <th>adults</th>\n",
              "      <th>children</th>\n",
              "      <th>babies</th>\n",
              "      <th>is_repeated_guest</th>\n",
              "      <th>previous_cancellations</th>\n",
              "      <th>previous_bookings_not_canceled</th>\n",
              "      <th>booking_changes</th>\n",
              "      <th>agent</th>\n",
              "      <th>company</th>\n",
              "      <th>days_in_waiting_list</th>\n",
              "      <th>adr</th>\n",
              "      <th>required_car_parking_spaces</th>\n",
              "      <th>total_of_special_requests</th>\n",
              "    </tr>\n",
              "  </thead>\n",
              "  <tbody>\n",
              "    <tr>\n",
              "      <th>count</th>\n",
              "      <td>119390.000000</td>\n",
              "      <td>119390.000000</td>\n",
              "      <td>119390.000000</td>\n",
              "      <td>119390.000000</td>\n",
              "      <td>119390.000000</td>\n",
              "      <td>119390.000000</td>\n",
              "      <td>119390.000000</td>\n",
              "      <td>119390.000000</td>\n",
              "      <td>119386.000000</td>\n",
              "      <td>119390.000000</td>\n",
              "      <td>119390.000000</td>\n",
              "      <td>119390.000000</td>\n",
              "      <td>119390.000000</td>\n",
              "      <td>119390.000000</td>\n",
              "      <td>103050.000000</td>\n",
              "      <td>6797.000000</td>\n",
              "      <td>119390.000000</td>\n",
              "      <td>119390.000000</td>\n",
              "      <td>119390.000000</td>\n",
              "      <td>119390.000000</td>\n",
              "    </tr>\n",
              "    <tr>\n",
              "      <th>mean</th>\n",
              "      <td>0.370416</td>\n",
              "      <td>104.011416</td>\n",
              "      <td>2016.156554</td>\n",
              "      <td>27.165173</td>\n",
              "      <td>15.798241</td>\n",
              "      <td>0.927599</td>\n",
              "      <td>2.500302</td>\n",
              "      <td>1.856403</td>\n",
              "      <td>0.103890</td>\n",
              "      <td>0.007949</td>\n",
              "      <td>0.031912</td>\n",
              "      <td>0.087118</td>\n",
              "      <td>0.137097</td>\n",
              "      <td>0.221124</td>\n",
              "      <td>86.693382</td>\n",
              "      <td>189.266735</td>\n",
              "      <td>2.321149</td>\n",
              "      <td>101.831122</td>\n",
              "      <td>0.062518</td>\n",
              "      <td>0.571363</td>\n",
              "    </tr>\n",
              "    <tr>\n",
              "      <th>std</th>\n",
              "      <td>0.482918</td>\n",
              "      <td>106.863097</td>\n",
              "      <td>0.707476</td>\n",
              "      <td>13.605138</td>\n",
              "      <td>8.780829</td>\n",
              "      <td>0.998613</td>\n",
              "      <td>1.908286</td>\n",
              "      <td>0.579261</td>\n",
              "      <td>0.398561</td>\n",
              "      <td>0.097436</td>\n",
              "      <td>0.175767</td>\n",
              "      <td>0.844336</td>\n",
              "      <td>1.497437</td>\n",
              "      <td>0.652306</td>\n",
              "      <td>110.774548</td>\n",
              "      <td>131.655015</td>\n",
              "      <td>17.594721</td>\n",
              "      <td>50.535790</td>\n",
              "      <td>0.245291</td>\n",
              "      <td>0.792798</td>\n",
              "    </tr>\n",
              "    <tr>\n",
              "      <th>min</th>\n",
              "      <td>0.000000</td>\n",
              "      <td>0.000000</td>\n",
              "      <td>2015.000000</td>\n",
              "      <td>1.000000</td>\n",
              "      <td>1.000000</td>\n",
              "      <td>0.000000</td>\n",
              "      <td>0.000000</td>\n",
              "      <td>0.000000</td>\n",
              "      <td>0.000000</td>\n",
              "      <td>0.000000</td>\n",
              "      <td>0.000000</td>\n",
              "      <td>0.000000</td>\n",
              "      <td>0.000000</td>\n",
              "      <td>0.000000</td>\n",
              "      <td>1.000000</td>\n",
              "      <td>6.000000</td>\n",
              "      <td>0.000000</td>\n",
              "      <td>-6.380000</td>\n",
              "      <td>0.000000</td>\n",
              "      <td>0.000000</td>\n",
              "    </tr>\n",
              "    <tr>\n",
              "      <th>25%</th>\n",
              "      <td>0.000000</td>\n",
              "      <td>18.000000</td>\n",
              "      <td>2016.000000</td>\n",
              "      <td>16.000000</td>\n",
              "      <td>8.000000</td>\n",
              "      <td>0.000000</td>\n",
              "      <td>1.000000</td>\n",
              "      <td>2.000000</td>\n",
              "      <td>0.000000</td>\n",
              "      <td>0.000000</td>\n",
              "      <td>0.000000</td>\n",
              "      <td>0.000000</td>\n",
              "      <td>0.000000</td>\n",
              "      <td>0.000000</td>\n",
              "      <td>9.000000</td>\n",
              "      <td>62.000000</td>\n",
              "      <td>0.000000</td>\n",
              "      <td>69.290000</td>\n",
              "      <td>0.000000</td>\n",
              "      <td>0.000000</td>\n",
              "    </tr>\n",
              "    <tr>\n",
              "      <th>50%</th>\n",
              "      <td>0.000000</td>\n",
              "      <td>69.000000</td>\n",
              "      <td>2016.000000</td>\n",
              "      <td>28.000000</td>\n",
              "      <td>16.000000</td>\n",
              "      <td>1.000000</td>\n",
              "      <td>2.000000</td>\n",
              "      <td>2.000000</td>\n",
              "      <td>0.000000</td>\n",
              "      <td>0.000000</td>\n",
              "      <td>0.000000</td>\n",
              "      <td>0.000000</td>\n",
              "      <td>0.000000</td>\n",
              "      <td>0.000000</td>\n",
              "      <td>14.000000</td>\n",
              "      <td>179.000000</td>\n",
              "      <td>0.000000</td>\n",
              "      <td>94.575000</td>\n",
              "      <td>0.000000</td>\n",
              "      <td>0.000000</td>\n",
              "    </tr>\n",
              "    <tr>\n",
              "      <th>75%</th>\n",
              "      <td>1.000000</td>\n",
              "      <td>160.000000</td>\n",
              "      <td>2017.000000</td>\n",
              "      <td>38.000000</td>\n",
              "      <td>23.000000</td>\n",
              "      <td>2.000000</td>\n",
              "      <td>3.000000</td>\n",
              "      <td>2.000000</td>\n",
              "      <td>0.000000</td>\n",
              "      <td>0.000000</td>\n",
              "      <td>0.000000</td>\n",
              "      <td>0.000000</td>\n",
              "      <td>0.000000</td>\n",
              "      <td>0.000000</td>\n",
              "      <td>229.000000</td>\n",
              "      <td>270.000000</td>\n",
              "      <td>0.000000</td>\n",
              "      <td>126.000000</td>\n",
              "      <td>0.000000</td>\n",
              "      <td>1.000000</td>\n",
              "    </tr>\n",
              "    <tr>\n",
              "      <th>max</th>\n",
              "      <td>1.000000</td>\n",
              "      <td>737.000000</td>\n",
              "      <td>2017.000000</td>\n",
              "      <td>53.000000</td>\n",
              "      <td>31.000000</td>\n",
              "      <td>19.000000</td>\n",
              "      <td>50.000000</td>\n",
              "      <td>55.000000</td>\n",
              "      <td>10.000000</td>\n",
              "      <td>10.000000</td>\n",
              "      <td>1.000000</td>\n",
              "      <td>26.000000</td>\n",
              "      <td>72.000000</td>\n",
              "      <td>21.000000</td>\n",
              "      <td>535.000000</td>\n",
              "      <td>543.000000</td>\n",
              "      <td>391.000000</td>\n",
              "      <td>5400.000000</td>\n",
              "      <td>8.000000</td>\n",
              "      <td>5.000000</td>\n",
              "    </tr>\n",
              "  </tbody>\n",
              "</table>\n",
              "</div>\n",
              "      <button class=\"colab-df-convert\" onclick=\"convertToInteractive('df-84fb33e6-a887-4ac2-9bc4-4254e51b73a9')\"\n",
              "              title=\"Convert this dataframe to an interactive table.\"\n",
              "              style=\"display:none;\">\n",
              "        \n",
              "  <svg xmlns=\"http://www.w3.org/2000/svg\" height=\"24px\"viewBox=\"0 0 24 24\"\n",
              "       width=\"24px\">\n",
              "    <path d=\"M0 0h24v24H0V0z\" fill=\"none\"/>\n",
              "    <path d=\"M18.56 5.44l.94 2.06.94-2.06 2.06-.94-2.06-.94-.94-2.06-.94 2.06-2.06.94zm-11 1L8.5 8.5l.94-2.06 2.06-.94-2.06-.94L8.5 2.5l-.94 2.06-2.06.94zm10 10l.94 2.06.94-2.06 2.06-.94-2.06-.94-.94-2.06-.94 2.06-2.06.94z\"/><path d=\"M17.41 7.96l-1.37-1.37c-.4-.4-.92-.59-1.43-.59-.52 0-1.04.2-1.43.59L10.3 9.45l-7.72 7.72c-.78.78-.78 2.05 0 2.83L4 21.41c.39.39.9.59 1.41.59.51 0 1.02-.2 1.41-.59l7.78-7.78 2.81-2.81c.8-.78.8-2.07 0-2.86zM5.41 20L4 18.59l7.72-7.72 1.47 1.35L5.41 20z\"/>\n",
              "  </svg>\n",
              "      </button>\n",
              "      \n",
              "  <style>\n",
              "    .colab-df-container {\n",
              "      display:flex;\n",
              "      flex-wrap:wrap;\n",
              "      gap: 12px;\n",
              "    }\n",
              "\n",
              "    .colab-df-convert {\n",
              "      background-color: #E8F0FE;\n",
              "      border: none;\n",
              "      border-radius: 50%;\n",
              "      cursor: pointer;\n",
              "      display: none;\n",
              "      fill: #1967D2;\n",
              "      height: 32px;\n",
              "      padding: 0 0 0 0;\n",
              "      width: 32px;\n",
              "    }\n",
              "\n",
              "    .colab-df-convert:hover {\n",
              "      background-color: #E2EBFA;\n",
              "      box-shadow: 0px 1px 2px rgba(60, 64, 67, 0.3), 0px 1px 3px 1px rgba(60, 64, 67, 0.15);\n",
              "      fill: #174EA6;\n",
              "    }\n",
              "\n",
              "    [theme=dark] .colab-df-convert {\n",
              "      background-color: #3B4455;\n",
              "      fill: #D2E3FC;\n",
              "    }\n",
              "\n",
              "    [theme=dark] .colab-df-convert:hover {\n",
              "      background-color: #434B5C;\n",
              "      box-shadow: 0px 1px 3px 1px rgba(0, 0, 0, 0.15);\n",
              "      filter: drop-shadow(0px 1px 2px rgba(0, 0, 0, 0.3));\n",
              "      fill: #FFFFFF;\n",
              "    }\n",
              "  </style>\n",
              "\n",
              "      <script>\n",
              "        const buttonEl =\n",
              "          document.querySelector('#df-84fb33e6-a887-4ac2-9bc4-4254e51b73a9 button.colab-df-convert');\n",
              "        buttonEl.style.display =\n",
              "          google.colab.kernel.accessAllowed ? 'block' : 'none';\n",
              "\n",
              "        async function convertToInteractive(key) {\n",
              "          const element = document.querySelector('#df-84fb33e6-a887-4ac2-9bc4-4254e51b73a9');\n",
              "          const dataTable =\n",
              "            await google.colab.kernel.invokeFunction('convertToInteractive',\n",
              "                                                     [key], {});\n",
              "          if (!dataTable) return;\n",
              "\n",
              "          const docLinkHtml = 'Like what you see? Visit the ' +\n",
              "            '<a target=\"_blank\" href=https://colab.research.google.com/notebooks/data_table.ipynb>data table notebook</a>'\n",
              "            + ' to learn more about interactive tables.';\n",
              "          element.innerHTML = '';\n",
              "          dataTable['output_type'] = 'display_data';\n",
              "          await google.colab.output.renderOutput(dataTable, element);\n",
              "          const docLink = document.createElement('div');\n",
              "          docLink.innerHTML = docLinkHtml;\n",
              "          element.appendChild(docLink);\n",
              "        }\n",
              "      </script>\n",
              "    </div>\n",
              "  </div>\n",
              "  "
            ]
          },
          "metadata": {},
          "execution_count": 225
        }
      ],
      "source": [
        "# describe function give information about quantative data about its mean, standard deviation, total number of counts, data withs its percentile values\n",
        "df.describe()"
      ]
    },
    {
      "cell_type": "code",
      "execution_count": 226,
      "metadata": {
        "colab": {
          "base_uri": "https://localhost:8080/",
          "height": 0
        },
        "id": "eH9Xtb3FAof5",
        "outputId": "566dd018-f8e6-43d7-a733-9132b96a39d7"
      },
      "outputs": [
        {
          "output_type": "execute_result",
          "data": {
            "text/plain": [
              "hotel                                2\n",
              "is_canceled                          2\n",
              "lead_time                          479\n",
              "arrival_date_year                    3\n",
              "arrival_date_month                  12\n",
              "arrival_date_week_number            53\n",
              "arrival_date_day_of_month           31\n",
              "stays_in_weekend_nights             17\n",
              "stays_in_week_nights                35\n",
              "adults                              14\n",
              "children                             5\n",
              "babies                               5\n",
              "meal                                 5\n",
              "country                            177\n",
              "market_segment                       8\n",
              "distribution_channel                 5\n",
              "is_repeated_guest                    2\n",
              "previous_cancellations              15\n",
              "previous_bookings_not_canceled      73\n",
              "reserved_room_type                  10\n",
              "assigned_room_type                  12\n",
              "booking_changes                     21\n",
              "deposit_type                         3\n",
              "agent                              333\n",
              "company                            352\n",
              "days_in_waiting_list               128\n",
              "customer_type                        4\n",
              "adr                               8879\n",
              "required_car_parking_spaces          5\n",
              "total_of_special_requests            6\n",
              "reservation_status                   3\n",
              "reservation_status_date            926\n",
              "dtype: int64"
            ]
          },
          "metadata": {},
          "execution_count": 226
        }
      ],
      "source": [
        "# nunique function return total number of unique values in columns\n",
        "df.nunique()"
      ]
    },
    {
      "cell_type": "code",
      "execution_count": 227,
      "metadata": {
        "colab": {
          "base_uri": "https://localhost:8080/",
          "height": 0
        },
        "id": "Gl3Z4SqVNX0r",
        "outputId": "508d090f-bc23-45ff-cb5d-489251e5922d"
      },
      "outputs": [
        {
          "output_type": "execute_result",
          "data": {
            "text/plain": [
              "False    87396\n",
              "True     31994\n",
              "dtype: int64"
            ]
          },
          "metadata": {},
          "execution_count": 227
        }
      ],
      "source": [
        "# finding the duplicate values\n",
        "df.duplicated().value_counts()"
      ]
    },
    {
      "cell_type": "markdown",
      "metadata": {
        "id": "yAy0oYt4NlXq"
      },
      "source": [
        "Here we cans see in our data we have 31994 duplicate values(true means duplicated valuse)"
      ]
    },
    {
      "cell_type": "code",
      "execution_count": 228,
      "metadata": {
        "colab": {
          "base_uri": "https://localhost:8080/",
          "height": 0
        },
        "id": "VMCCPZmUFIfq",
        "outputId": "2cbd8ac0-07ec-4df6-8544-37b29819afd2"
      },
      "outputs": [
        {
          "output_type": "execute_result",
          "data": {
            "text/plain": [
              "array(['Resort Hotel', 'City Hotel'], dtype=object)"
            ]
          },
          "metadata": {},
          "execution_count": 228
        }
      ],
      "source": [
        "#hotel column contain two types of unique values Resort Hotel and City Hotel\n",
        "df['hotel'].unique()"
      ]
    },
    {
      "cell_type": "code",
      "execution_count": 229,
      "metadata": {
        "colab": {
          "base_uri": "https://localhost:8080/",
          "height": 0
        },
        "id": "Sf3RD5K4FqyJ",
        "outputId": "0e70a9dc-5f71-47fe-eb49-ff539f0a9878"
      },
      "outputs": [
        {
          "output_type": "execute_result",
          "data": {
            "text/plain": [
              "hotel                                  0\n",
              "is_canceled                            0\n",
              "lead_time                              0\n",
              "arrival_date_year                      0\n",
              "arrival_date_month                     0\n",
              "arrival_date_week_number               0\n",
              "arrival_date_day_of_month              0\n",
              "stays_in_weekend_nights                0\n",
              "stays_in_week_nights                   0\n",
              "adults                                 0\n",
              "children                               4\n",
              "babies                                 0\n",
              "meal                                   0\n",
              "country                              488\n",
              "market_segment                         0\n",
              "distribution_channel                   0\n",
              "is_repeated_guest                      0\n",
              "previous_cancellations                 0\n",
              "previous_bookings_not_canceled         0\n",
              "reserved_room_type                     0\n",
              "assigned_room_type                     0\n",
              "booking_changes                        0\n",
              "deposit_type                           0\n",
              "agent                              16340\n",
              "company                           112593\n",
              "days_in_waiting_list                   0\n",
              "customer_type                          0\n",
              "adr                                    0\n",
              "required_car_parking_spaces            0\n",
              "total_of_special_requests              0\n",
              "reservation_status                     0\n",
              "reservation_status_date                0\n",
              "dtype: int64"
            ]
          },
          "metadata": {},
          "execution_count": 229
        }
      ],
      "source": [
        "# Combination of isnull function with sum function return the sum of count of null values in each columns\n",
        "df.isna().sum()"
      ]
    },
    {
      "cell_type": "code",
      "execution_count": 230,
      "metadata": {
        "colab": {
          "base_uri": "https://localhost:8080/",
          "height": 0
        },
        "id": "pq7WeT6bHyeO",
        "outputId": "6b164ebb-f0b3-4e96-e08f-91a3a08f87cf"
      },
      "outputs": [
        {
          "output_type": "execute_result",
          "data": {
            "text/plain": [
              "company                           94.306893\n",
              "agent                             13.686238\n",
              "country                            0.408744\n",
              "children                           0.003350\n",
              "reserved_room_type                 0.000000\n",
              "assigned_room_type                 0.000000\n",
              "booking_changes                    0.000000\n",
              "deposit_type                       0.000000\n",
              "hotel                              0.000000\n",
              "previous_cancellations             0.000000\n",
              "days_in_waiting_list               0.000000\n",
              "customer_type                      0.000000\n",
              "adr                                0.000000\n",
              "required_car_parking_spaces        0.000000\n",
              "total_of_special_requests          0.000000\n",
              "reservation_status                 0.000000\n",
              "previous_bookings_not_canceled     0.000000\n",
              "is_repeated_guest                  0.000000\n",
              "is_canceled                        0.000000\n",
              "distribution_channel               0.000000\n",
              "market_segment                     0.000000\n",
              "meal                               0.000000\n",
              "babies                             0.000000\n",
              "adults                             0.000000\n",
              "stays_in_week_nights               0.000000\n",
              "stays_in_weekend_nights            0.000000\n",
              "arrival_date_day_of_month          0.000000\n",
              "arrival_date_week_number           0.000000\n",
              "arrival_date_month                 0.000000\n",
              "arrival_date_year                  0.000000\n",
              "lead_time                          0.000000\n",
              "reservation_status_date            0.000000\n",
              "dtype: float64"
            ]
          },
          "metadata": {},
          "execution_count": 230
        }
      ],
      "source": [
        "# Here we are checking the percentage of null values in columns\n",
        "df.isna().sum().sort_values(ascending = False)/len(df)*100"
      ]
    },
    {
      "cell_type": "markdown",
      "metadata": {
        "id": "La4qfgo5I4B3"
      },
      "source": [
        "Here we can see that comapny cloumns contains 94% of null values and agent columns contains 13% of null values"
      ]
    },
    {
      "cell_type": "markdown",
      "metadata": {
        "id": "T04WwJG9N9at"
      },
      "source": [
        "Country columns has 0.405 of missing values and children columns has 0.003% of missing valuse"
      ]
    },
    {
      "cell_type": "code",
      "execution_count": 231,
      "metadata": {
        "colab": {
          "base_uri": "https://localhost:8080/",
          "height": 0
        },
        "id": "80bh80_RwNrp",
        "outputId": "d109c010-d25d-4c36-feff-cb107c814967"
      },
      "outputs": [
        {
          "output_type": "execute_result",
          "data": {
            "text/plain": [
              "Index(['hotel', 'is_canceled', 'lead_time', 'arrival_date_year',\n",
              "       'arrival_date_month', 'arrival_date_week_number',\n",
              "       'arrival_date_day_of_month', 'stays_in_weekend_nights',\n",
              "       'stays_in_week_nights', 'adults', 'children', 'babies', 'meal',\n",
              "       'country', 'market_segment', 'distribution_channel',\n",
              "       'is_repeated_guest', 'previous_cancellations',\n",
              "       'previous_bookings_not_canceled', 'reserved_room_type',\n",
              "       'assigned_room_type', 'booking_changes', 'deposit_type', 'agent',\n",
              "       'company', 'days_in_waiting_list', 'customer_type', 'adr',\n",
              "       'required_car_parking_spaces', 'total_of_special_requests',\n",
              "       'reservation_status', 'reservation_status_date'],\n",
              "      dtype='object')"
            ]
          },
          "metadata": {},
          "execution_count": 231
        }
      ],
      "source": [
        "df.columns"
      ]
    },
    {
      "cell_type": "markdown",
      "metadata": {
        "id": "MeK0NqKcH9Da"
      },
      "source": [
        "hotel : The category of hotel, which are two resort hotel and city hotel."
      ]
    },
    {
      "cell_type": "markdown",
      "metadata": {
        "id": "x1tdwf89Ivqc"
      },
      "source": [
        "is_cancelled : The valuen of column show the cancellation type. If the booking was cancelled or not values will 0 and 1. where 0 indicate not cancelled."
      ]
    },
    {
      "cell_type": "markdown",
      "metadata": {
        "id": "gxVjUaAxJGk3"
      },
      "source": [
        "lead_time : The time between reservation and actual arrival."
      ]
    },
    {
      "cell_type": "markdown",
      "metadata": {
        "id": "JMMp4morMUs_"
      },
      "source": [
        "arrival_date_year : Year of arrival date."
      ]
    },
    {
      "cell_type": "markdown",
      "metadata": {
        "id": "UqagTrkyMdId"
      },
      "source": [
        "arrival_date_month : Month of arrival date"
      ]
    },
    {
      "cell_type": "markdown",
      "metadata": {
        "id": "aB_obdS6MkfX"
      },
      "source": [
        "arrival_date_week_number : Week number of year for arrival date"
      ]
    },
    {
      "cell_type": "markdown",
      "metadata": {
        "id": "ERSxv3nrM1Er"
      },
      "source": [
        "arrival_date_day_of_month : Day of arrival date."
      ]
    },
    {
      "cell_type": "markdown",
      "metadata": {
        "id": "oLCarcc7JPaP"
      },
      "source": [
        "stayed_in_weekend_nights : The number of weekend night stay per reservation."
      ]
    },
    {
      "cell_type": "markdown",
      "metadata": {
        "id": "C71Z14r1JqpV"
      },
      "source": [
        "stayed_in_weekday_nights : The number of weekday night stay per reservation"
      ]
    },
    {
      "cell_type": "markdown",
      "metadata": {
        "id": "A65ZSUp1NHNL"
      },
      "source": [
        "adult : Number of adult."
      ]
    },
    {
      "cell_type": "markdown",
      "metadata": {
        "id": "G6FY3MTKNL8V"
      },
      "source": [
        "children : Number of children.\n",
        "\n"
      ]
    },
    {
      "cell_type": "markdown",
      "metadata": {
        "id": "5YYTfT7mNWss"
      },
      "source": [
        "babies : Number of babies."
      ]
    },
    {
      "cell_type": "markdown",
      "metadata": {
        "id": "S9ccltIbJzzV"
      },
      "source": [
        "meal : Meal preferences per reservation. [BB, FB, HB, SC, Undefine]"
      ]
    },
    {
      "cell_type": "markdown",
      "metadata": {
        "id": "f0yGex3AKBk-"
      },
      "source": [
        "country : The origin country of guest."
      ]
    },
    {
      "cell_type": "markdown",
      "metadata": {
        "id": "p4tUdpzwKMd5"
      },
      "source": [
        "market_segment :  The columns show reservation was made and what is the purpose of reservation e.g corporate means corporate trip, TA for travel agency."
      ]
    },
    {
      "cell_type": "markdown",
      "metadata": {
        "id": "YaxqIObfKMTL"
      },
      "source": [
        "distribution_channel : The medium through booking was made. [Direct, Corporate, TA/TO, Undefine, GDS]"
      ]
    },
    {
      "cell_type": "markdown",
      "metadata": {
        "id": "F6lSWCWRKMGl"
      },
      "source": [
        "is_repeated_guest : show if the guest is who has arrived earlier or not. values[0,1]. where 0 indicate no and 1 indicate yes person is repeated guest."
      ]
    },
    {
      "cell_type": "markdown",
      "metadata": {
        "id": "oAwNojXYNsrb"
      },
      "source": [
        "previous_cancellations : Number of previous booking that were cancelled by the customers prior to the cutomer current booking."
      ]
    },
    {
      "cell_type": "markdown",
      "metadata": {
        "id": "HU5FAgzIOClq"
      },
      "source": [
        "previous_booking_not_canceled : Number of previous booking not cancelled by the customer proir to the current booking."
      ]
    },
    {
      "cell_type": "markdown",
      "metadata": {
        "id": "3W81ovudOW42"
      },
      "source": [
        "reserved_room_type: Code of room type reserved."
      ]
    },
    {
      "cell_type": "markdown",
      "metadata": {
        "id": "Ohgxd0jPOdNp"
      },
      "source": [
        "assigned_room_type : Code for the type of room assigned to the booking was wntered on PMS until the moment of check_in or cancellation."
      ]
    },
    {
      "cell_type": "markdown",
      "metadata": {
        "id": "NPcNbDVi-umi"
      },
      "source": [
        "booking_changes : Number of changes made to the booking ."
      ]
    },
    {
      "cell_type": "markdown",
      "metadata": {
        "id": "-XfQuZjuOvRf"
      },
      "source": [
        "deposite_type : No Deposite, Non Refund, Refundable. "
      ]
    },
    {
      "cell_type": "markdown",
      "metadata": {
        "id": "ZDRrxwIU6Y7p"
      },
      "source": [
        "agent :  ID of thettravel agency that made the bookings."
      ]
    },
    {
      "cell_type": "markdown",
      "metadata": {
        "id": "m-PZTXVQ6k6Q"
      },
      "source": [
        "company : ID of the companythat make the booking."
      ]
    },
    {
      "cell_type": "markdown",
      "metadata": {
        "id": "37B4hXavLLTs"
      },
      "source": [
        "days_in_waiting_list : Number of days bwtween actual booking and transact."
      ]
    },
    {
      "cell_type": "markdown",
      "metadata": {
        "id": "e_JCDhHf60L9"
      },
      "source": [
        "customer_type : Type of customer. Contract , Group, trnsiet, Transient party."
      ]
    },
    {
      "cell_type": "markdown",
      "metadata": {
        "id": "ToIubQfL6Uf_"
      },
      "source": [
        "adr : Average Daily Rate as define by dividing the sum of all lodging transactin by the total nnumber of staing nights."
      ]
    },
    {
      "cell_type": "markdown",
      "metadata": {
        "id": "sATJqO3Z7XdX"
      },
      "source": [
        "required_car_parking_spaces : number of car parking by the customers."
      ]
    },
    {
      "cell_type": "markdown",
      "metadata": {
        "id": "aopmXtxTLLQU"
      },
      "source": [
        "total_of_special_requests : Number of special requests made by the customers example twin bed or high floor"
      ]
    },
    {
      "cell_type": "markdown",
      "metadata": {
        "id": "a-xlJcpZ76Ms"
      },
      "source": [
        "reservation_status : Reservation last status."
      ]
    },
    {
      "cell_type": "markdown",
      "metadata": {
        "id": "DuLsQ5rXmzgB"
      },
      "source": [
        "### Data Prepration and Cleaning"
      ]
    },
    {
      "cell_type": "markdown",
      "metadata": {
        "id": "R01HferKm8NO"
      },
      "source": [
        "Data cleaning is the process of fixing or removing incorrect, corrupted, incorrectly formatted, duplicate, or incomplete data within a dataset. When combining multiple data sources, there are many opportunities for data to be duplicated or mislabeled."
      ]
    },
    {
      "cell_type": "markdown",
      "metadata": {
        "id": "ATJUI-JtoVKJ"
      },
      "source": [
        "Step 1: Remove duplicate or irrelevant observations\n",
        "\n",
        "Remove unwanted observations from your dataset, including duplicate observations or irrelevant observations. Duplicate observations will happen most often during data collection."
      ]
    },
    {
      "cell_type": "markdown",
      "metadata": {
        "id": "QEDZVBkSo3rD"
      },
      "source": [
        "Step 2: Fix structural errors\n",
        "\n",
        "Structural errors are when you measure or transfer data and notice strange naming conventions, typos, or incorrect capitalization. These inconsistencies can cause mislabeled categories or classes. For example, you may find “N/A” and “Not Applicable” both appear, but they should be analyzed as the same category."
      ]
    },
    {
      "cell_type": "markdown",
      "metadata": {
        "id": "w6ShETIjpFyd"
      },
      "source": [
        "Step 3: Filter unwanted outliers\n",
        "\n",
        "Often, there will be one-off observations where, at a glance, they do not appear to fit within the data you are analyzing. If you have a legitimate reason to remove an outlier, like improper data-entry, doing so will help the performance of the data you are working with."
      ]
    },
    {
      "cell_type": "markdown",
      "metadata": {
        "id": "O7D_zKVTpOeN"
      },
      "source": [
        "Step 4: Handle missing data\n",
        "\n",
        "You can’t ignore missing data because many algorithms will not accept missing values. There are a couple of ways to deal with missing data. Neither is optimal, but both can be considered.\n",
        "\n",
        "As a first option, you can drop observations that have missing values, but doing this will drop or lose information, so be mindful of this before you remove it.\n",
        "As a second option, you can input missing values based on other observations; again, there is an opportunity to lose integrity of the data because you may be operating from assumptions and not actual observations.\n",
        "As a third option, you might alter the way the data is used to effectively navigate null values."
      ]
    },
    {
      "cell_type": "markdown",
      "metadata": {
        "id": "H9t7_lHSpUn4"
      },
      "source": [
        "Step 5: Validate and QA\n",
        "\n",
        "At the end of the data cleaning process, you should be able to answer these questions as a part of basic validation:\n",
        "\n",
        "Does the data make sense?\n",
        "Does the data follow the appropriate rules for its field?\n",
        "Does it prove or disprove your working theory, or bring any insight to light?\n",
        "Can you find trends in the data to help you form your next theory?\n",
        "If not, is that because of a data quality issue?"
      ]
    },
    {
      "cell_type": "code",
      "execution_count": 232,
      "metadata": {
        "id": "jrpQe01IugLz"
      },
      "outputs": [],
      "source": [
        "# Removing the duplicated data from our data set\n",
        "df.drop_duplicates(keep=False, inplace=True)"
      ]
    },
    {
      "cell_type": "code",
      "execution_count": 233,
      "metadata": {
        "colab": {
          "base_uri": "https://localhost:8080/",
          "height": 0
        },
        "id": "1avxZZsBPT3y",
        "outputId": "96798be3-e778-4144-d867-757393dcba2d"
      },
      "outputs": [
        {
          "output_type": "execute_result",
          "data": {
            "text/plain": [
              "False    79225\n",
              "dtype: int64"
            ]
          },
          "metadata": {},
          "execution_count": 233
        }
      ],
      "source": [
        "df.duplicated().value_counts()"
      ]
    },
    {
      "cell_type": "markdown",
      "metadata": {
        "id": "drafClw7PmGb"
      },
      "source": [
        "Here we can see we have succesfully reomove all the duplicate data"
      ]
    },
    {
      "cell_type": "code",
      "execution_count": 234,
      "metadata": {
        "id": "znTC9cB8PvpY"
      },
      "outputs": [],
      "source": [
        "# Fill null values with zero\n",
        "df['company'].fillna(0, inplace= True)\n",
        "df['agent'].fillna(0, inplace= True)\n",
        "df['country'].fillna(0, inplace= True)\n",
        "df['children'].fillna(0, inplace= True)"
      ]
    },
    {
      "cell_type": "code",
      "execution_count": 235,
      "metadata": {
        "colab": {
          "base_uri": "https://localhost:8080/",
          "height": 0
        },
        "id": "olOYdUftQyJF",
        "outputId": "b6e6dfcb-ec47-4be2-ff1c-de23c668d06a"
      },
      "outputs": [
        {
          "output_type": "execute_result",
          "data": {
            "text/plain": [
              "hotel                             0\n",
              "is_canceled                       0\n",
              "lead_time                         0\n",
              "arrival_date_year                 0\n",
              "arrival_date_month                0\n",
              "arrival_date_week_number          0\n",
              "arrival_date_day_of_month         0\n",
              "stays_in_weekend_nights           0\n",
              "stays_in_week_nights              0\n",
              "adults                            0\n",
              "children                          0\n",
              "babies                            0\n",
              "meal                              0\n",
              "country                           0\n",
              "market_segment                    0\n",
              "distribution_channel              0\n",
              "is_repeated_guest                 0\n",
              "previous_cancellations            0\n",
              "previous_bookings_not_canceled    0\n",
              "reserved_room_type                0\n",
              "assigned_room_type                0\n",
              "booking_changes                   0\n",
              "deposit_type                      0\n",
              "agent                             0\n",
              "company                           0\n",
              "days_in_waiting_list              0\n",
              "customer_type                     0\n",
              "adr                               0\n",
              "required_car_parking_spaces       0\n",
              "total_of_special_requests         0\n",
              "reservation_status                0\n",
              "reservation_status_date           0\n",
              "dtype: int64"
            ]
          },
          "metadata": {},
          "execution_count": 235
        }
      ],
      "source": [
        "df.isna().sum()"
      ]
    },
    {
      "cell_type": "markdown",
      "metadata": {
        "id": "AgC4LSvGQ9Am"
      },
      "source": [
        "Here we are successfully remove all the null values with zeros."
      ]
    },
    {
      "cell_type": "code",
      "execution_count": 236,
      "metadata": {
        "colab": {
          "base_uri": "https://localhost:8080/",
          "height": 0
        },
        "id": "3tPKejJd_UdJ",
        "outputId": "95a98c53-2506-4304-c0e0-bbf3799bdaa9"
      },
      "outputs": [
        {
          "output_type": "execute_result",
          "data": {
            "text/plain": [
              "array(['Resort Hotel', 'City Hotel'], dtype=object)"
            ]
          },
          "metadata": {},
          "execution_count": 236
        }
      ],
      "source": [
        "df['hotel'].unique()"
      ]
    },
    {
      "cell_type": "markdown",
      "metadata": {
        "id": "txHCbard8JgP"
      },
      "source": [
        "Hotel column contain only two types of hotel Resort hotel and city hotel."
      ]
    },
    {
      "cell_type": "code",
      "execution_count": 237,
      "metadata": {
        "colab": {
          "base_uri": "https://localhost:8080/",
          "height": 0
        },
        "id": "psMJBUn6_eEN",
        "outputId": "6dcef9ac-eb3d-44a7-f9ca-096377c11c3e"
      },
      "outputs": [
        {
          "output_type": "execute_result",
          "data": {
            "text/plain": [
              "array([0, 1])"
            ]
          },
          "metadata": {},
          "execution_count": 237
        }
      ],
      "source": [
        "df['is_canceled'].unique()"
      ]
    },
    {
      "cell_type": "markdown",
      "metadata": {
        "id": "c8oOsOpFA0JA"
      },
      "source": [
        "is_canceled contain only true and false i.e 0 and 1"
      ]
    },
    {
      "cell_type": "code",
      "execution_count": 238,
      "metadata": {
        "colab": {
          "base_uri": "https://localhost:8080/",
          "height": 0
        },
        "id": "GuuMbUTV_rGa",
        "outputId": "1effee93-1a82-4050-9646-4d9bc7f3ee9d"
      },
      "outputs": [
        {
          "output_type": "execute_result",
          "data": {
            "text/plain": [
              "437"
            ]
          },
          "metadata": {},
          "execution_count": 238
        }
      ],
      "source": [
        "count_of_lead_time = df['lead_time'].unique()\n",
        "len(count_of_lead_time)"
      ]
    },
    {
      "cell_type": "markdown",
      "metadata": {
        "id": "2GngXO_gBKSz"
      },
      "source": [
        "There are 437 unique lead time."
      ]
    },
    {
      "cell_type": "code",
      "execution_count": 239,
      "metadata": {
        "colab": {
          "base_uri": "https://localhost:8080/",
          "height": 0
        },
        "id": "TxRq0KtD_2MO",
        "outputId": "d29759db-df21-4683-88c5-189459ae7276"
      },
      "outputs": [
        {
          "output_type": "execute_result",
          "data": {
            "text/plain": [
              "array([2015, 2016, 2017])"
            ]
          },
          "metadata": {},
          "execution_count": 239
        }
      ],
      "source": [
        "df['arrival_date_year'].unique()"
      ]
    },
    {
      "cell_type": "markdown",
      "metadata": {
        "id": "mg4p4OXWBTeT"
      },
      "source": [
        "data set contain data of the year 2015, 2016 and 2017."
      ]
    },
    {
      "cell_type": "code",
      "execution_count": 240,
      "metadata": {
        "colab": {
          "base_uri": "https://localhost:8080/",
          "height": 0
        },
        "id": "e_7zjPDL_2Hw",
        "outputId": "06f0089b-63cc-46d0-dfec-1c77790669e2"
      },
      "outputs": [
        {
          "output_type": "execute_result",
          "data": {
            "text/plain": [
              "array(['July', 'August', 'September', 'October', 'November', 'December',\n",
              "       'January', 'February', 'March', 'April', 'May', 'June'],\n",
              "      dtype=object)"
            ]
          },
          "metadata": {},
          "execution_count": 240
        }
      ],
      "source": [
        "df['arrival_date_month'].unique()"
      ]
    },
    {
      "cell_type": "markdown",
      "metadata": {
        "id": "SQG1Y2PMBtFE"
      },
      "source": [
        "arrival date month contain all month data jan to dec."
      ]
    },
    {
      "cell_type": "code",
      "execution_count": 241,
      "metadata": {
        "colab": {
          "base_uri": "https://localhost:8080/",
          "height": 0
        },
        "id": "hXpl3pcV_2FO",
        "outputId": "df2e486b-ca89-402f-dcff-57f835998071"
      },
      "outputs": [
        {
          "output_type": "execute_result",
          "data": {
            "text/plain": [
              "array([ 0,  1,  2,  4,  3,  6, 13,  8,  5,  7, 12,  9, 16, 18, 19, 10, 14])"
            ]
          },
          "metadata": {},
          "execution_count": 241
        }
      ],
      "source": [
        "df['stays_in_weekend_nights'].unique()"
      ]
    },
    {
      "cell_type": "markdown",
      "metadata": {
        "id": "ucnS4IHKB_Bu"
      },
      "source": [
        "minimum week end nights is 0 and maximum is 14."
      ]
    },
    {
      "cell_type": "code",
      "execution_count": 242,
      "metadata": {
        "colab": {
          "base_uri": "https://localhost:8080/",
          "height": 0
        },
        "id": "fJNwVsjE_2Cj",
        "outputId": "f0401ff7-8799-4e10-9615-16f2e7a5253c"
      },
      "outputs": [
        {
          "output_type": "execute_result",
          "data": {
            "text/plain": [
              "array([ 0,  1,  2,  3,  4,  5, 10, 11,  8,  6,  7, 15,  9, 12, 33, 20, 14,\n",
              "       16, 21, 13, 30, 19, 24, 40, 22, 42, 50, 25, 17, 32, 26, 18, 34, 35,\n",
              "       41])"
            ]
          },
          "metadata": {},
          "execution_count": 242
        }
      ],
      "source": [
        "df['stays_in_week_nights'].unique()"
      ]
    },
    {
      "cell_type": "code",
      "execution_count": 243,
      "metadata": {
        "colab": {
          "base_uri": "https://localhost:8080/",
          "height": 0
        },
        "id": "BnWHrfUN_2AV",
        "outputId": "44c74fe4-3555-4fd7-e2e9-1db6c4fafd92"
      },
      "outputs": [
        {
          "output_type": "execute_result",
          "data": {
            "text/plain": [
              "array([ 2,  1,  3,  4, 40, 26, 50, 27, 55,  0, 20,  6,  5, 10])"
            ]
          },
          "metadata": {},
          "execution_count": 243
        }
      ],
      "source": [
        "df['adults'].unique()"
      ]
    },
    {
      "cell_type": "markdown",
      "metadata": {
        "id": "dMAZh3XVCNDE"
      },
      "source": [
        "minimum 0 adult and maximum 55 adults stayed ."
      ]
    },
    {
      "cell_type": "code",
      "execution_count": 244,
      "metadata": {
        "colab": {
          "base_uri": "https://localhost:8080/",
          "height": 0
        },
        "id": "wax3xgM9_1zR",
        "outputId": "57112435-18fd-4e8e-fd62-3d36ec001b80"
      },
      "outputs": [
        {
          "output_type": "execute_result",
          "data": {
            "text/plain": [
              "array([ 0.,  1.,  2., 10.,  3.])"
            ]
          },
          "metadata": {},
          "execution_count": 244
        }
      ],
      "source": [
        "df['children'].unique()"
      ]
    },
    {
      "cell_type": "markdown",
      "metadata": {
        "id": "ZfWl5Bo6CWoD"
      },
      "source": [
        "minimum no of children is 0 and maxium 10."
      ]
    },
    {
      "cell_type": "code",
      "execution_count": 245,
      "metadata": {
        "colab": {
          "base_uri": "https://localhost:8080/",
          "height": 0
        },
        "id": "B0kJPWGRA3a-",
        "outputId": "3667ad56-efc5-4b56-f983-16a29ebd564d"
      },
      "outputs": [
        {
          "output_type": "execute_result",
          "data": {
            "text/plain": [
              "array([ 0,  1,  2, 10,  9])"
            ]
          },
          "metadata": {},
          "execution_count": 245
        }
      ],
      "source": [
        "df['babies'].unique()"
      ]
    },
    {
      "cell_type": "markdown",
      "metadata": {
        "id": "NfMt8OHlCcii"
      },
      "source": [
        "minimum no of babies is 0 and maxium is 10."
      ]
    },
    {
      "cell_type": "code",
      "execution_count": 246,
      "metadata": {
        "colab": {
          "base_uri": "https://localhost:8080/",
          "height": 0
        },
        "id": "i8a92QwjA3WK",
        "outputId": "4cb65a54-ec28-46c0-cc32-96e203198c74"
      },
      "outputs": [
        {
          "output_type": "execute_result",
          "data": {
            "text/plain": [
              "array(['BB', 'FB', 'HB', 'SC', 'Undefined'], dtype=object)"
            ]
          },
          "metadata": {},
          "execution_count": 246
        }
      ],
      "source": [
        "df['meal'].unique()"
      ]
    },
    {
      "cell_type": "markdown",
      "metadata": {
        "id": "FSr9OQtJCnfu"
      },
      "source": [
        "there are 5 uniques meal one is undefined"
      ]
    },
    {
      "cell_type": "code",
      "execution_count": 247,
      "metadata": {
        "colab": {
          "base_uri": "https://localhost:8080/",
          "height": 0
        },
        "id": "UQvWVSY-A3TK",
        "outputId": "30abca77-3b43-4107-b81b-2a635f18d9af"
      },
      "outputs": [
        {
          "output_type": "execute_result",
          "data": {
            "text/plain": [
              "176"
            ]
          },
          "metadata": {},
          "execution_count": 247
        }
      ],
      "source": [
        "count_of_country = df['country'].unique()\n",
        "len(count_of_country)\n"
      ]
    },
    {
      "cell_type": "markdown",
      "metadata": {
        "id": "sfH8AL2nDJbj"
      },
      "source": [
        "there are 176 no of unique country."
      ]
    },
    {
      "cell_type": "code",
      "execution_count": 248,
      "metadata": {
        "colab": {
          "base_uri": "https://localhost:8080/",
          "height": 0
        },
        "id": "b-huBfOcA3Qp",
        "outputId": "04ad0259-9e08-4598-d1ad-fa61ae537209"
      },
      "outputs": [
        {
          "output_type": "execute_result",
          "data": {
            "text/plain": [
              "array(['Direct', 'Corporate', 'Online TA', 'Offline TA/TO',\n",
              "       'Complementary', 'Groups', 'Undefined', 'Aviation'], dtype=object)"
            ]
          },
          "metadata": {},
          "execution_count": 248
        }
      ],
      "source": [
        "df['market_segment'].unique()"
      ]
    },
    {
      "cell_type": "markdown",
      "metadata": {
        "id": "W72XoDXDDWib"
      },
      "source": [
        "7 types of market segment."
      ]
    },
    {
      "cell_type": "code",
      "execution_count": 249,
      "metadata": {
        "colab": {
          "base_uri": "https://localhost:8080/",
          "height": 0
        },
        "id": "s04uxuQvA3Nv",
        "outputId": "c59444a8-f34f-4cb1-f306-617d033aa4b4"
      },
      "outputs": [
        {
          "output_type": "execute_result",
          "data": {
            "text/plain": [
              "array(['Direct', 'Corporate', 'TA/TO', 'Undefined', 'GDS'], dtype=object)"
            ]
          },
          "metadata": {},
          "execution_count": 249
        }
      ],
      "source": [
        "df['distribution_channel'].unique()"
      ]
    },
    {
      "cell_type": "markdown",
      "metadata": {
        "id": "vNARrj-FDdAJ"
      },
      "source": [
        "5 types of distribution channel one is undefined."
      ]
    },
    {
      "cell_type": "code",
      "execution_count": 250,
      "metadata": {
        "colab": {
          "base_uri": "https://localhost:8080/",
          "height": 0
        },
        "id": "AqVGHWN2A3LQ",
        "outputId": "f25fc155-7300-46c4-b5d9-03a4b49ab3b5"
      },
      "outputs": [
        {
          "output_type": "execute_result",
          "data": {
            "text/plain": [
              "array([0, 1])"
            ]
          },
          "metadata": {},
          "execution_count": 250
        }
      ],
      "source": [
        "df['is_repeated_guest'].unique()"
      ]
    },
    {
      "cell_type": "markdown",
      "metadata": {
        "id": "UavxRd7EDlBf"
      },
      "source": [
        "is repeated guest is either true or false."
      ]
    },
    {
      "cell_type": "code",
      "execution_count": 251,
      "metadata": {
        "colab": {
          "base_uri": "https://localhost:8080/",
          "height": 0
        },
        "id": "emn8637pA3JG",
        "outputId": "9a7ae7f0-a32d-4bb2-e75c-1ca61ab659ce"
      },
      "outputs": [
        {
          "output_type": "execute_result",
          "data": {
            "text/plain": [
              "array([ 0,  1,  2,  3, 25,  4,  5, 21,  6, 13, 11])"
            ]
          },
          "metadata": {},
          "execution_count": 251
        }
      ],
      "source": [
        "df['previous_cancellations'].unique()"
      ]
    },
    {
      "cell_type": "markdown",
      "metadata": {
        "id": "qFzqgB2qDrYY"
      },
      "source": [
        "minimum previous cancellations is 0 and max is 21."
      ]
    },
    {
      "cell_type": "code",
      "execution_count": 252,
      "metadata": {
        "colab": {
          "base_uri": "https://localhost:8080/",
          "height": 0
        },
        "id": "nwcRojhsA29V",
        "outputId": "efe80a54-7525-4c7d-d42b-9c9c8e01e953"
      },
      "outputs": [
        {
          "output_type": "execute_result",
          "data": {
            "text/plain": [
              "array([ 0,  1,  2,  3,  4,  5,  6,  7,  8,  9, 10, 11, 12, 13, 14, 15, 16,\n",
              "       17, 18, 20, 21, 22, 23, 24, 25, 27, 28, 29, 30, 19, 26, 31, 32, 33,\n",
              "       34, 35, 36, 37, 38, 39, 40, 41, 42, 43, 44, 45, 46, 47, 48, 49, 50,\n",
              "       51, 52, 53, 54, 55, 56, 57, 58, 59, 60, 61, 62, 63, 64, 65, 66, 67,\n",
              "       68, 69, 70, 71, 72])"
            ]
          },
          "metadata": {},
          "execution_count": 252
        }
      ],
      "source": [
        "df['previous_bookings_not_canceled'].unique()"
      ]
    },
    {
      "cell_type": "code",
      "execution_count": 253,
      "metadata": {
        "colab": {
          "base_uri": "https://localhost:8080/",
          "height": 0
        },
        "id": "kzykL1AGD7yH",
        "outputId": "21c82384-62fe-42d8-e792-f21f1d6f8999"
      },
      "outputs": [
        {
          "output_type": "execute_result",
          "data": {
            "text/plain": [
              "73"
            ]
          },
          "metadata": {},
          "execution_count": 253
        }
      ],
      "source": [
        "len(df['previous_bookings_not_canceled'].unique())"
      ]
    },
    {
      "cell_type": "markdown",
      "metadata": {
        "id": "8-qwUdLGEAWZ"
      },
      "source": [
        "73 uniques cacellation values"
      ]
    },
    {
      "cell_type": "code",
      "execution_count": 254,
      "metadata": {
        "colab": {
          "base_uri": "https://localhost:8080/",
          "height": 0
        },
        "id": "RaQLrJzSELI4",
        "outputId": "16234313-521d-43f2-879a-f3332fb3f890"
      },
      "outputs": [
        {
          "output_type": "execute_result",
          "data": {
            "text/plain": [
              "array(['C', 'A', 'D', 'E', 'G', 'F', 'H', 'L', 'P', 'B'], dtype=object)"
            ]
          },
          "metadata": {},
          "execution_count": 254
        }
      ],
      "source": [
        "df['reserved_room_type'].unique()"
      ]
    },
    {
      "cell_type": "code",
      "execution_count": 255,
      "metadata": {
        "colab": {
          "base_uri": "https://localhost:8080/",
          "height": 0
        },
        "id": "7TnPzSViEIkQ",
        "outputId": "e5c5e4b1-e5f8-4d2d-f70f-d6d14821cad7"
      },
      "outputs": [
        {
          "output_type": "execute_result",
          "data": {
            "text/plain": [
              "10"
            ]
          },
          "metadata": {},
          "execution_count": 255
        }
      ],
      "source": [
        "len(df['reserved_room_type'].unique())"
      ]
    },
    {
      "cell_type": "markdown",
      "metadata": {
        "id": "qUP9v63lEL1p"
      },
      "source": [
        "10 unique room type are availabel"
      ]
    },
    {
      "cell_type": "code",
      "execution_count": 256,
      "metadata": {
        "colab": {
          "base_uri": "https://localhost:8080/",
          "height": 0
        },
        "id": "_GB0-oBmEK9R",
        "outputId": "922d39fe-827a-40ca-8069-d0bb32dffbe2"
      },
      "outputs": [
        {
          "output_type": "execute_result",
          "data": {
            "text/plain": [
              "array(['C', 'A', 'D', 'E', 'G', 'F', 'I', 'B', 'H', 'P', 'L', 'K'],\n",
              "      dtype=object)"
            ]
          },
          "metadata": {},
          "execution_count": 256
        }
      ],
      "source": [
        "df['assigned_room_type'].unique()"
      ]
    },
    {
      "cell_type": "code",
      "execution_count": 257,
      "metadata": {
        "colab": {
          "base_uri": "https://localhost:8080/",
          "height": 0
        },
        "id": "f7dhglGoE0NN",
        "outputId": "ffd9f2f9-721e-4e90-81c1-de432a79cf41"
      },
      "outputs": [
        {
          "output_type": "execute_result",
          "data": {
            "text/plain": [
              "array([ 3,  4,  0,  1,  2,  5, 17,  6,  8,  7, 10, 16,  9, 13, 12, 20, 14,\n",
              "       15, 11, 21, 18])"
            ]
          },
          "metadata": {},
          "execution_count": 257
        }
      ],
      "source": [
        "df['booking_changes'].unique()"
      ]
    },
    {
      "cell_type": "code",
      "execution_count": 258,
      "metadata": {
        "colab": {
          "base_uri": "https://localhost:8080/",
          "height": 0
        },
        "id": "8VZ3lutLE0J9",
        "outputId": "5d6271de-afde-43ec-9c38-60d61f4e5075"
      },
      "outputs": [
        {
          "output_type": "execute_result",
          "data": {
            "text/plain": [
              "array(['No Deposit', 'Refundable', 'Non Refund'], dtype=object)"
            ]
          },
          "metadata": {},
          "execution_count": 258
        }
      ],
      "source": [
        "df['deposit_type'].unique()"
      ]
    },
    {
      "cell_type": "markdown",
      "metadata": {
        "id": "lsNJlRyAEU07"
      },
      "source": [
        "3 types of depositev values"
      ]
    },
    {
      "cell_type": "code",
      "execution_count": 259,
      "metadata": {
        "colab": {
          "base_uri": "https://localhost:8080/",
          "height": 0
        },
        "id": "aPxs3GAPE0HN",
        "outputId": "a27a030a-87d6-4e51-f069-8c09f2ba2233"
      },
      "outputs": [
        {
          "output_type": "execute_result",
          "data": {
            "text/plain": [
              "322"
            ]
          },
          "metadata": {},
          "execution_count": 259
        }
      ],
      "source": [
        "count_of_agents = df['agent'].unique()\n",
        "len(count_of_agents)"
      ]
    },
    {
      "cell_type": "markdown",
      "metadata": {
        "id": "4WrP_NNgEh-d"
      },
      "source": [
        "322 uniques types of agent"
      ]
    },
    {
      "cell_type": "code",
      "execution_count": 260,
      "metadata": {
        "colab": {
          "base_uri": "https://localhost:8080/",
          "height": 0
        },
        "id": "eDC74ltIE0Eo",
        "outputId": "6129837f-eb94-4a6f-86af-7ad2df7fe5c8"
      },
      "outputs": [
        {
          "output_type": "execute_result",
          "data": {
            "text/plain": [
              "341"
            ]
          },
          "metadata": {},
          "execution_count": 260
        }
      ],
      "source": [
        "count_of_company= df['company'].unique()\n",
        "len(count_of_company)"
      ]
    },
    {
      "cell_type": "markdown",
      "metadata": {
        "id": "7GpCIpEUEvMd"
      },
      "source": [
        "341 uniques company are making the booking."
      ]
    },
    {
      "cell_type": "code",
      "execution_count": 261,
      "metadata": {
        "colab": {
          "base_uri": "https://localhost:8080/",
          "height": 0
        },
        "id": "BX9-yj-TE0B8",
        "outputId": "12b23193-fb03-465f-c352-59e8f0d1970f"
      },
      "outputs": [
        {
          "output_type": "execute_result",
          "data": {
            "text/plain": [
              "array([  0,  47,  65, 122,  75, 101, 150, 125,  14,  60,  34,  50, 100,\n",
              "        22, 121,  61,  39,   5,   1,   8, 107,  43,  52,   2,  11, 142,\n",
              "       116,  13,  44,  97,  83,   4, 113,  18,  20, 185,  93, 109,   6,\n",
              "        37, 105, 154,  64,  99,  38,  48,  33,  77,  80,  59,  40,  89,\n",
              "        53,  49,  58,  87,  69, 111,  63, 224,  31, 187, 176, 259, 236,\n",
              "       207, 215,  30,  32,  27,  24, 108,  15,  96, 178, 330, 223, 193,\n",
              "        10,  76,  16,  28,  21,   9, 165,  17,  25,  46,   7,  84, 175,\n",
              "       183,  56,  23,  35, 117,  57,  12,  71,  54,  26,  73,  72,  98,\n",
              "       147, 174, 162,  81,  68,  92,  74, 167,  36])"
            ]
          },
          "metadata": {},
          "execution_count": 261
        }
      ],
      "source": [
        "df['days_in_waiting_list'].unique()"
      ]
    },
    {
      "cell_type": "code",
      "execution_count": 262,
      "metadata": {
        "colab": {
          "base_uri": "https://localhost:8080/",
          "height": 0
        },
        "id": "fbvxSayGFDaq",
        "outputId": "3f7c7d32-f3f1-4032-ea5f-6beb1db6c49c"
      },
      "outputs": [
        {
          "output_type": "execute_result",
          "data": {
            "text/plain": [
              "330"
            ]
          },
          "metadata": {},
          "execution_count": 262
        }
      ],
      "source": [
        "df['days_in_waiting_list'].unique().max()"
      ]
    },
    {
      "cell_type": "markdown",
      "metadata": {
        "id": "Qy39yY1vFFYd"
      },
      "source": [
        "max no of waiting is 330"
      ]
    },
    {
      "cell_type": "code",
      "execution_count": 263,
      "metadata": {
        "colab": {
          "base_uri": "https://localhost:8080/",
          "height": 0
        },
        "id": "StwdcdCyFdig",
        "outputId": "17d7b764-7565-4884-ba08-98f983404254"
      },
      "outputs": [
        {
          "output_type": "execute_result",
          "data": {
            "text/plain": [
              "array(['Transient', 'Contract', 'Transient-Party', 'Group'], dtype=object)"
            ]
          },
          "metadata": {},
          "execution_count": 263
        }
      ],
      "source": [
        "df['customer_type'].unique()"
      ]
    },
    {
      "cell_type": "markdown",
      "metadata": {
        "id": "xlnWRPnoFKjK"
      },
      "source": [
        "4 types of customers."
      ]
    },
    {
      "cell_type": "code",
      "execution_count": 264,
      "metadata": {
        "colab": {
          "base_uri": "https://localhost:8080/",
          "height": 0
        },
        "id": "hJfWdDXeFdf5",
        "outputId": "e1dff65c-25b8-4516-d521-b119844a0dd2"
      },
      "outputs": [
        {
          "output_type": "execute_result",
          "data": {
            "text/plain": [
              "array([  0.  ,  75.  , 107.  , ..., 266.75, 209.25, 157.71])"
            ]
          },
          "metadata": {},
          "execution_count": 264
        }
      ],
      "source": [
        "df['adr'].unique()"
      ]
    },
    {
      "cell_type": "code",
      "execution_count": 265,
      "metadata": {
        "colab": {
          "base_uri": "https://localhost:8080/",
          "height": 0
        },
        "id": "ekDMndzhFQty",
        "outputId": "8c9f9f74-6e81-4cfa-cc2f-1c8e36f986c1"
      },
      "outputs": [
        {
          "output_type": "execute_result",
          "data": {
            "text/plain": [
              "8721"
            ]
          },
          "metadata": {},
          "execution_count": 265
        }
      ],
      "source": [
        "len(df['adr'].unique())"
      ]
    },
    {
      "cell_type": "markdown",
      "metadata": {
        "id": "6yYAmo8oFiOa"
      },
      "source": [
        "maxmium average daily rate is 8721."
      ]
    },
    {
      "cell_type": "code",
      "execution_count": 266,
      "metadata": {
        "colab": {
          "base_uri": "https://localhost:8080/",
          "height": 0
        },
        "id": "ck108R7xFddL",
        "outputId": "9ba0101f-e3b7-4958-944f-2264423baebd"
      },
      "outputs": [
        {
          "output_type": "execute_result",
          "data": {
            "text/plain": [
              "array([0, 1, 2, 8, 3])"
            ]
          },
          "metadata": {},
          "execution_count": 266
        }
      ],
      "source": [
        "df['required_car_parking_spaces'].unique()"
      ]
    },
    {
      "cell_type": "markdown",
      "metadata": {
        "id": "MG5OSkApFn0I"
      },
      "source": [
        "minimum 0 parking space and maximum 8 parking space"
      ]
    },
    {
      "cell_type": "code",
      "execution_count": 267,
      "metadata": {
        "colab": {
          "base_uri": "https://localhost:8080/",
          "height": 0
        },
        "id": "n1TRmHWlGAtp",
        "outputId": "ed292a41-2607-4a2a-b8d3-feac5a262b91"
      },
      "outputs": [
        {
          "output_type": "execute_result",
          "data": {
            "text/plain": [
              "array([0, 1, 3, 2, 4, 5])"
            ]
          },
          "metadata": {},
          "execution_count": 267
        }
      ],
      "source": [
        "df['total_of_special_requests'].unique()"
      ]
    },
    {
      "cell_type": "code",
      "execution_count": 268,
      "metadata": {
        "colab": {
          "base_uri": "https://localhost:8080/",
          "height": 0
        },
        "id": "YnCGAO4mGAqz",
        "outputId": "2d0e6cf9-f18f-419c-b069-105198af269c"
      },
      "outputs": [
        {
          "output_type": "execute_result",
          "data": {
            "text/plain": [
              "array(['Check-Out', 'Canceled', 'No-Show'], dtype=object)"
            ]
          },
          "metadata": {},
          "execution_count": 268
        }
      ],
      "source": [
        "df['reservation_status'].unique()"
      ]
    },
    {
      "cell_type": "markdown",
      "metadata": {
        "id": "aCvTYF7UF3dR"
      },
      "source": [
        "3 types of reservation state."
      ]
    },
    {
      "cell_type": "code",
      "execution_count": 269,
      "metadata": {
        "colab": {
          "base_uri": "https://localhost:8080/",
          "height": 0
        },
        "id": "fJuE7TpDGAoH",
        "outputId": "0218b7f3-051b-4e7f-8508-d92bdd5747fc"
      },
      "outputs": [
        {
          "output_type": "execute_result",
          "data": {
            "text/plain": [
              "array(['2015-07-01', '2015-07-02', '2015-07-03', '2015-05-06',\n",
              "       '2015-04-22', '2015-06-23', '2015-07-05', '2015-07-06',\n",
              "       '2015-07-07', '2015-07-08', '2015-05-11', '2015-07-15',\n",
              "       '2015-07-16', '2015-05-29', '2015-05-19', '2015-06-19',\n",
              "       '2015-05-23', '2015-05-18', '2015-07-09', '2015-06-02',\n",
              "       '2015-07-13', '2015-07-04', '2015-06-29', '2015-06-16',\n",
              "       '2015-06-18', '2015-06-12', '2015-06-09', '2015-05-26',\n",
              "       '2015-07-11', '2015-07-12', '2015-07-17', '2015-04-15',\n",
              "       '2015-05-13', '2015-07-10', '2015-05-20', '2015-05-12',\n",
              "       '2015-07-14', '2015-06-17', '2015-05-01', '2015-03-30',\n",
              "       '2015-07-19', '2015-06-03', '2015-06-26', '2015-05-14',\n",
              "       '2015-07-20', '2015-05-07', '2015-05-28', '2015-04-13',\n",
              "       '2015-03-25', '2015-07-21', '2015-06-27', '2015-07-18',\n",
              "       '2015-07-23', '2015-06-08', '2015-06-22', '2015-06-24',\n",
              "       '2015-03-05', '2015-06-01', '2015-04-24', '2015-07-22',\n",
              "       '2015-05-27', '2015-04-06', '2015-04-11', '2015-07-25',\n",
              "       '2015-07-28', '2015-07-29', '2015-06-25', '2015-07-24',\n",
              "       '2015-06-05', '2015-06-30', '2015-06-13', '2015-06-11',\n",
              "       '2015-07-30', '2015-07-27', '2015-04-29', '2015-06-04',\n",
              "       '2015-08-01', '2015-07-26', '2015-08-02', '2015-04-23',\n",
              "       '2015-07-31', '2015-05-25', '2015-08-03', '2015-04-17',\n",
              "       '2015-08-04', '2015-08-06', '2015-05-15', '2015-06-15',\n",
              "       '2015-05-09', '2015-03-17', '2015-05-22', '2015-08-07',\n",
              "       '2015-04-04', '2015-08-05', '2015-08-08', '2015-08-10',\n",
              "       '2015-05-04', '2015-06-06', '2015-08-09', '2015-08-15',\n",
              "       '2015-08-11', '2015-03-28', '2015-08-14', '2015-08-12',\n",
              "       '2015-08-16', '2015-05-16', '2015-08-21', '2015-08-13',\n",
              "       '2015-08-17', '2015-08-18', '2015-08-23', '2015-08-19',\n",
              "       '2015-08-20', '2015-08-22', '2015-08-29', '2015-03-31',\n",
              "       '2015-05-30', '2015-08-25', '2015-04-14', '2015-08-24',\n",
              "       '2015-03-24', '2015-05-21', '2015-08-28', '2015-08-26',\n",
              "       '2015-08-27', '2015-08-30', '2015-08-31', '2015-09-06',\n",
              "       '2015-09-03', '2015-09-04', '2015-09-02', '2015-09-01',\n",
              "       '2015-09-05', '2015-06-20', '2015-04-20', '2015-09-07',\n",
              "       '2015-09-10', '2015-09-11', '2015-09-08', '2015-09-09',\n",
              "       '2015-09-13', '2015-09-15', '2015-04-10', '2015-01-02',\n",
              "       '2014-11-18', '2015-09-12', '2015-09-17', '2015-09-14',\n",
              "       '2015-04-07', '2015-09-19', '2015-09-16', '2015-09-20',\n",
              "       '2015-01-18', '2015-10-23', '2015-01-22', '2015-01-01',\n",
              "       '2015-09-22', '2015-09-24', '2015-09-18', '2015-09-21',\n",
              "       '2015-09-30', '2015-09-25', '2015-09-27', '2015-09-28',\n",
              "       '2015-10-12', '2015-09-29', '2015-09-23', '2015-10-01',\n",
              "       '2015-09-26', '2015-10-02', '2015-10-04', '2015-10-08',\n",
              "       '2015-10-03', '2015-10-07', '2015-10-09', '2015-10-11',\n",
              "       '2015-10-05', '2015-10-06', '2015-10-10', '2015-10-14',\n",
              "       '2015-10-15', '2015-10-18', '2015-10-13', '2015-10-20',\n",
              "       '2015-10-19', '2015-10-31', '2015-10-16', '2015-10-21',\n",
              "       '2015-10-22', '2015-10-17', '2015-10-24', '2015-10-25',\n",
              "       '2015-10-28', '2015-10-27', '2015-10-26', '2015-10-30',\n",
              "       '2015-11-05', '2015-10-29', '2015-11-03', '2015-11-07',\n",
              "       '2015-11-04', '2015-11-01', '2015-11-02', '2015-11-06',\n",
              "       '2015-11-10', '2015-11-08', '2015-11-09', '2015-11-15',\n",
              "       '2015-11-16', '2015-11-11', '2015-11-17', '2015-11-12',\n",
              "       '2015-11-14', '2015-11-13', '2015-11-18', '2015-11-22',\n",
              "       '2015-11-19', '2015-11-21', '2015-11-20', '2015-11-24',\n",
              "       '2015-11-25', '2015-11-23', '2015-11-28', '2015-11-26',\n",
              "       '2015-11-27', '2015-11-29', '2015-12-04', '2015-12-01',\n",
              "       '2015-12-06', '2015-12-08', '2015-12-02', '2015-12-03',\n",
              "       '2015-12-31', '2015-12-05', '2015-12-10', '2015-12-17',\n",
              "       '2015-11-30', '2015-12-12', '2015-12-07', '2016-01-05',\n",
              "       '2015-12-11', '2015-12-15', '2015-12-16', '2015-12-19',\n",
              "       '2015-12-18', '2015-12-26', '2015-12-27', '2015-12-22',\n",
              "       '2015-12-23', '2015-12-24', '2015-12-29', '2015-12-28',\n",
              "       '2015-12-20', '2015-12-30', '2016-01-02', '2016-01-01',\n",
              "       '2015-12-25', '2016-01-03', '2016-01-04', '2016-01-11',\n",
              "       '2016-01-07', '2016-01-09', '2016-01-10', '2016-01-08',\n",
              "       '2016-01-06', '2016-01-12', '2016-01-13', '2016-01-23',\n",
              "       '2016-02-09', '2016-01-15', '2016-01-16', '2016-01-17',\n",
              "       '2016-01-19', '2016-01-18', '2016-01-21', '2016-01-24',\n",
              "       '2016-01-22', '2016-01-29', '2016-01-27', '2016-01-25',\n",
              "       '2016-03-08', '2016-01-26', '2016-01-30', '2016-02-08',\n",
              "       '2016-02-07', '2016-01-20', '2016-01-28', '2016-02-05',\n",
              "       '2016-02-03', '2016-02-13', '2016-02-10', '2016-02-02',\n",
              "       '2016-02-04', '2016-02-12', '2016-02-11', '2016-02-16',\n",
              "       '2016-02-14', '2016-02-15', '2016-02-01', '2016-02-20',\n",
              "       '2016-02-06', '2016-01-14', '2016-02-17', '2016-02-21',\n",
              "       '2016-02-24', '2016-02-25', '2016-02-19', '2016-02-18',\n",
              "       '2016-02-26', '2016-02-23', '2016-02-22', '2016-02-27',\n",
              "       '2016-03-03', '2016-03-24', '2016-03-04', '2016-03-01',\n",
              "       '2016-03-02', '2016-03-30', '2016-03-05', '2016-03-07',\n",
              "       '2016-03-14', '2016-03-21', '2016-03-09', '2016-02-29',\n",
              "       '2016-03-12', '2016-03-22', '2016-03-11', '2016-03-20',\n",
              "       '2016-03-15', '2016-03-17', '2016-03-16', '2016-03-19',\n",
              "       '2016-03-27', '2016-03-18', '2016-03-26', '2016-03-31',\n",
              "       '2016-03-28', '2016-03-29', '2016-04-01', '2016-03-10',\n",
              "       '2016-03-23', '2016-04-02', '2016-03-25', '2016-03-13',\n",
              "       '2016-04-04', '2016-04-03', '2016-04-05', '2016-04-08',\n",
              "       '2016-04-06', '2016-04-09', '2016-04-12', '2016-04-16',\n",
              "       '2016-04-17', '2016-04-27', '2016-04-14', '2016-04-18',\n",
              "       '2016-04-21', '2016-04-19', '2016-04-20', '2016-04-10',\n",
              "       '2016-04-13', '2016-04-11', '2016-04-07', '2016-04-15',\n",
              "       '2016-04-22', '2016-04-23', '2016-04-26', '2016-04-24',\n",
              "       '2016-04-28', '2016-04-25', '2016-04-29', '2016-04-30',\n",
              "       '2016-05-01', '2016-05-10', '2016-05-02', '2016-05-07',\n",
              "       '2016-05-08', '2016-05-12', '2016-05-04', '2016-05-06',\n",
              "       '2016-05-03', '2016-05-09', '2016-05-05', '2016-05-13',\n",
              "       '2016-05-14', '2016-05-18', '2016-05-19', '2016-05-15',\n",
              "       '2016-05-11', '2016-05-21', '2016-05-16', '2016-05-20',\n",
              "       '2016-05-24', '2016-05-22', '2016-05-25', '2016-05-26',\n",
              "       '2016-05-23', '2016-05-27', '2016-05-17', '2016-05-29',\n",
              "       '2016-05-28', '2016-05-30', '2016-05-31', '2016-06-01',\n",
              "       '2016-06-03', '2016-06-08', '2016-06-02', '2016-06-05',\n",
              "       '2016-06-06', '2016-06-13', '2016-06-07', '2016-06-11',\n",
              "       '2016-06-10', '2016-06-16', '2016-06-12', '2016-06-14',\n",
              "       '2016-06-17', '2016-06-04', '2016-06-18', '2016-06-21',\n",
              "       '2016-06-09', '2016-06-24', '2016-06-20', '2016-06-25',\n",
              "       '2016-06-22', '2016-06-26', '2016-06-23', '2016-07-01',\n",
              "       '2016-06-15', '2016-06-28', '2016-07-02', '2016-06-19',\n",
              "       '2016-06-27', '2016-07-04', '2016-06-30', '2016-07-05',\n",
              "       '2016-07-08', '2016-07-09', '2016-07-07', '2016-07-12',\n",
              "       '2016-06-29', '2016-07-10', '2016-07-15', '2016-07-03',\n",
              "       '2016-07-16', '2016-07-14', '2016-07-18', '2016-07-13',\n",
              "       '2016-07-06', '2016-07-20', '2016-07-21', '2016-07-23',\n",
              "       '2016-07-19', '2016-07-11', '2016-07-28', '2016-07-17',\n",
              "       '2016-07-25', '2016-07-22', '2016-07-29', '2016-08-03',\n",
              "       '2016-08-02', '2016-08-04', '2016-08-10', '2016-08-01',\n",
              "       '2016-08-06', '2016-08-05', '2016-08-08', '2016-07-26',\n",
              "       '2016-08-07', '2016-07-30', '2016-07-24', '2016-08-12',\n",
              "       '2016-07-27', '2016-08-13', '2016-08-18', '2016-08-16',\n",
              "       '2016-08-15', '2016-08-17', '2016-08-11', '2016-07-31',\n",
              "       '2016-08-19', '2016-09-01', '2016-08-23', '2016-08-26',\n",
              "       '2016-08-20', '2016-08-21', '2016-09-04', '2016-08-22',\n",
              "       '2016-08-27', '2016-08-25', '2016-08-09', '2016-09-05',\n",
              "       '2016-08-24', '2016-09-10', '2016-08-29', '2016-09-09',\n",
              "       '2016-08-30', '2016-09-13', '2016-08-31', '2016-09-14',\n",
              "       '2016-09-12', '2016-09-15', '2016-08-14', '2016-09-02',\n",
              "       '2016-09-08', '2016-03-06', '2016-09-19', '2016-09-16',\n",
              "       '2016-09-07', '2016-09-21', '2016-09-06', '2016-09-22',\n",
              "       '2016-09-17', '2016-09-20', '2016-09-03', '2016-09-26',\n",
              "       '2016-09-23', '2016-09-18', '2016-09-29', '2016-10-02',\n",
              "       '2016-10-01', '2016-09-27', '2016-09-25', '2016-10-05',\n",
              "       '2016-09-11', '2016-09-30', '2016-10-09', '2016-10-03',\n",
              "       '2016-10-06', '2016-09-24', '2016-10-13', '2016-10-08',\n",
              "       '2016-09-28', '2016-10-07', '2016-10-16', '2016-08-28',\n",
              "       '2016-10-17', '2016-10-18', '2016-10-10', '2016-10-04',\n",
              "       '2016-10-11', '2016-10-15', '2016-10-19', '2016-10-21',\n",
              "       '2016-10-12', '2016-10-24', '2016-10-26', '2016-10-23',\n",
              "       '2016-10-20', '2016-10-25', '2016-10-27', '2016-10-30',\n",
              "       '2016-10-28', '2016-10-29', '2016-11-01', '2016-11-04',\n",
              "       '2016-10-14', '2016-11-07', '2016-11-03', '2016-11-10',\n",
              "       '2016-11-14', '2016-11-02', '2016-10-31', '2016-11-11',\n",
              "       '2016-11-08', '2016-11-05', '2016-11-25', '2016-11-09',\n",
              "       '2016-11-20', '2016-11-21', '2016-10-22', '2016-11-22',\n",
              "       '2016-11-16', '2016-11-23', '2016-11-17', '2016-11-06',\n",
              "       '2016-11-15', '2016-11-13', '2016-11-12', '2016-11-27',\n",
              "       '2016-11-19', '2016-11-30', '2016-11-18', '2016-12-02',\n",
              "       '2016-12-04', '2016-12-07', '2016-11-28', '2016-12-03',\n",
              "       '2016-12-06', '2016-11-24', '2016-12-08', '2016-12-05',\n",
              "       '2016-12-10', '2016-12-13', '2016-12-14', '2016-12-16',\n",
              "       '2016-12-15', '2016-12-17', '2016-12-19', '2016-12-21',\n",
              "       '2016-12-20', '2016-12-22', '2016-12-23', '2016-12-24',\n",
              "       '2016-12-01', '2016-12-27', '2016-12-29', '2016-12-30',\n",
              "       '2016-12-12', '2017-01-02', '2016-12-11', '2017-01-03',\n",
              "       '2017-01-04', '2017-01-01', '2017-01-06', '2016-12-28',\n",
              "       '2016-12-26', '2016-12-18', '2017-01-10', '2017-01-11',\n",
              "       '2017-01-07', '2017-01-12', '2017-01-16', '2017-01-14',\n",
              "       '2017-01-13', '2017-01-17', '2017-01-05', '2017-01-20',\n",
              "       '2016-12-09', '2017-01-26', '2016-12-31', '2017-01-23',\n",
              "       '2017-01-27', '2017-01-28', '2017-01-19', '2017-01-25',\n",
              "       '2017-01-24', '2017-01-29', '2017-01-18', '2016-12-25',\n",
              "       '2017-01-15', '2017-01-21', '2017-02-01', '2017-02-02',\n",
              "       '2017-01-31', '2017-02-03', '2017-02-04', '2017-02-06',\n",
              "       '2017-02-07', '2017-02-08', '2017-01-30', '2017-02-09',\n",
              "       '2017-01-09', '2017-02-11', '2017-02-12', '2017-02-13',\n",
              "       '2017-02-14', '2017-02-10', '2017-02-16', '2017-02-17',\n",
              "       '2017-02-18', '2017-02-19', '2017-02-20', '2017-02-15',\n",
              "       '2017-02-21', '2017-02-22', '2017-02-26', '2017-02-23',\n",
              "       '2017-02-24', '2017-02-25', '2017-02-28', '2017-03-05',\n",
              "       '2017-02-27', '2017-03-03', '2017-03-06', '2017-03-02',\n",
              "       '2017-03-08', '2017-03-09', '2017-03-10', '2017-03-07',\n",
              "       '2017-03-12', '2017-03-13', '2017-03-14', '2017-03-01',\n",
              "       '2016-11-29', '2017-03-17', '2017-03-18', '2017-03-24',\n",
              "       '2017-03-22', '2017-03-26', '2017-03-27', '2017-03-11',\n",
              "       '2017-03-28', '2017-03-29', '2017-03-30', '2017-03-31',\n",
              "       '2017-03-19', '2017-01-22', '2017-04-02', '2017-03-20',\n",
              "       '2017-01-08', '2017-04-03', '2017-04-05', '2017-02-05',\n",
              "       '2017-04-04', '2017-03-15', '2017-04-07', '2017-03-25',\n",
              "       '2017-04-08', '2017-04-06', '2017-03-21', '2017-03-23',\n",
              "       '2017-04-10', '2017-04-01', '2017-04-11', '2017-04-13',\n",
              "       '2017-04-15', '2017-04-12', '2017-03-04', '2017-04-19',\n",
              "       '2017-04-20', '2017-05-02', '2017-04-09', '2017-04-23',\n",
              "       '2017-04-22', '2017-04-24', '2017-04-16', '2017-04-28',\n",
              "       '2017-04-18', '2017-04-26', '2017-04-25', '2017-04-17',\n",
              "       '2017-04-21', '2017-05-03', '2017-05-04', '2017-03-16',\n",
              "       '2017-05-05', '2017-04-29', '2017-04-14', '2017-04-27',\n",
              "       '2017-05-08', '2017-05-11', '2017-05-01', '2017-05-10',\n",
              "       '2017-05-13', '2017-05-06', '2017-05-14', '2017-05-16',\n",
              "       '2017-04-30', '2017-05-15', '2017-05-07', '2017-05-09',\n",
              "       '2017-05-21', '2017-05-17', '2017-05-12', '2017-05-22',\n",
              "       '2017-05-24', '2017-05-23', '2017-05-25', '2017-05-26',\n",
              "       '2017-05-28', '2017-05-27', '2017-05-29', '2017-05-19',\n",
              "       '2017-05-20', '2017-06-01', '2017-05-30', '2017-06-02',\n",
              "       '2016-11-26', '2017-06-04', '2017-06-05', '2017-05-31',\n",
              "       '2017-06-06', '2017-06-07', '2017-05-18', '2017-06-09',\n",
              "       '2017-06-10', '2017-06-11', '2017-06-12', '2017-06-14',\n",
              "       '2017-06-08', '2017-06-16', '2017-06-13', '2017-06-03',\n",
              "       '2017-06-24', '2017-06-20', '2017-06-19', '2017-06-21',\n",
              "       '2017-06-26', '2017-06-27', '2017-06-22', '2017-06-28',\n",
              "       '2017-06-15', '2017-06-29', '2017-06-30', '2017-06-18',\n",
              "       '2017-07-08', '2017-07-05', '2017-07-03', '2017-07-07',\n",
              "       '2017-07-01', '2017-07-06', '2017-07-11', '2017-07-12',\n",
              "       '2017-06-23', '2017-07-13', '2017-07-02', '2017-07-10',\n",
              "       '2017-07-14', '2017-07-15', '2017-07-16', '2017-07-04',\n",
              "       '2017-07-18', '2017-07-17', '2017-07-19', '2017-07-21',\n",
              "       '2017-06-25', '2017-07-24', '2017-07-20', '2017-07-26',\n",
              "       '2017-07-27', '2017-07-28', '2017-07-09', '2017-07-31',\n",
              "       '2017-07-29', '2017-07-22', '2017-08-02', '2017-08-01',\n",
              "       '2017-08-03', '2017-08-04', '2017-07-25', '2017-07-23',\n",
              "       '2017-08-09', '2017-08-10', '2017-07-30', '2017-08-07',\n",
              "       '2017-08-13', '2017-08-05', '2017-08-14', '2017-08-08',\n",
              "       '2017-06-17', '2017-08-17', '2017-08-18', '2017-08-20',\n",
              "       '2017-08-22', '2017-08-06', '2017-08-25', '2017-08-26',\n",
              "       '2017-08-23', '2017-08-15', '2017-08-16', '2017-08-11',\n",
              "       '2017-08-27', '2017-08-21', '2017-08-29', '2017-08-31',\n",
              "       '2017-08-12', '2017-08-19', '2016-01-31', '2017-09-01',\n",
              "       '2017-08-28', '2015-04-03', '2015-01-21', '2015-01-28',\n",
              "       '2015-01-29', '2015-01-30', '2015-02-05', '2015-02-06',\n",
              "       '2015-02-09', '2015-02-10', '2015-02-11', '2015-02-12',\n",
              "       '2015-02-19', '2015-02-20', '2015-02-23', '2015-02-24',\n",
              "       '2015-02-25', '2015-02-26', '2015-02-27', '2015-03-03',\n",
              "       '2015-03-04', '2015-03-06', '2015-03-09', '2015-03-11',\n",
              "       '2015-03-12', '2015-03-18', '2015-04-02', '2015-06-14',\n",
              "       '2015-04-08', '2015-04-16', '2015-04-25', '2015-04-28',\n",
              "       '2017-09-06', '2016-02-28', '2015-12-09', '2015-12-13',\n",
              "       '2015-12-14', '2015-12-21', '2017-09-09', '2017-09-02',\n",
              "       '2017-08-24', '2017-08-30', '2017-09-03', '2017-09-04',\n",
              "       '2017-09-05', '2017-09-07', '2017-09-08', '2017-09-10',\n",
              "       '2017-09-12', '2017-09-14', '2015-04-30', '2015-04-21',\n",
              "       '2015-04-05', '2015-03-13', '2015-05-08', '2015-05-05',\n",
              "       '2015-03-29', '2015-06-10', '2015-04-27', '2014-10-17',\n",
              "       '2015-03-10', '2015-03-23'], dtype=object)"
            ]
          },
          "metadata": {},
          "execution_count": 269
        }
      ],
      "source": [
        "df['reservation_status_date'].unique()"
      ]
    },
    {
      "cell_type": "code",
      "execution_count": 270,
      "metadata": {
        "colab": {
          "base_uri": "https://localhost:8080/",
          "height": 0
        },
        "id": "Hh8CU94yGDub",
        "outputId": "53dc71e8-b625-4ca9-cdf0-c23d911eb0b0"
      },
      "outputs": [
        {
          "output_type": "execute_result",
          "data": {
            "text/plain": [
              "922"
            ]
          },
          "metadata": {},
          "execution_count": 270
        }
      ],
      "source": [
        "len(df['reservation_status_date'].unique())"
      ]
    },
    {
      "cell_type": "markdown",
      "metadata": {
        "id": "Pl5GXaL8GLIK"
      },
      "source": [
        "922 days of booking data is availabel in 3 years."
      ]
    },
    {
      "cell_type": "markdown",
      "metadata": {
        "id": "a3pEHyllHPem"
      },
      "source": [
        "After going through each column of data set now we can say there is not any structural errors"
      ]
    },
    {
      "cell_type": "code",
      "execution_count": 270,
      "metadata": {
        "id": "LQnvdSSXGAlW"
      },
      "outputs": [],
      "source": []
    },
    {
      "cell_type": "markdown",
      "metadata": {
        "id": "CyRVii7C7c-I"
      },
      "source": [
        "### Exploratory Analysis and Visulations"
      ]
    },
    {
      "cell_type": "code",
      "execution_count": 271,
      "metadata": {
        "colab": {
          "base_uri": "https://localhost:8080/",
          "height": 0
        },
        "id": "1t22p_2ZTgIp",
        "outputId": "c2781126-16c7-49f2-85d4-caf5af2a3585"
      },
      "outputs": [
        {
          "output_type": "execute_result",
          "data": {
            "text/plain": [
              "Index(['hotel', 'is_canceled', 'lead_time', 'arrival_date_year',\n",
              "       'arrival_date_month', 'arrival_date_week_number',\n",
              "       'arrival_date_day_of_month', 'stays_in_weekend_nights',\n",
              "       'stays_in_week_nights', 'adults', 'children', 'babies', 'meal',\n",
              "       'country', 'market_segment', 'distribution_channel',\n",
              "       'is_repeated_guest', 'previous_cancellations',\n",
              "       'previous_bookings_not_canceled', 'reserved_room_type',\n",
              "       'assigned_room_type', 'booking_changes', 'deposit_type', 'agent',\n",
              "       'company', 'days_in_waiting_list', 'customer_type', 'adr',\n",
              "       'required_car_parking_spaces', 'total_of_special_requests',\n",
              "       'reservation_status', 'reservation_status_date'],\n",
              "      dtype='object')"
            ]
          },
          "metadata": {},
          "execution_count": 271
        }
      ],
      "source": [
        "df.columns"
      ]
    },
    {
      "cell_type": "code",
      "source": [
        "df['hotel'].value_counts()"
      ],
      "metadata": {
        "colab": {
          "base_uri": "https://localhost:8080/",
          "height": 0
        },
        "id": "fvt9NP_i6wmu",
        "outputId": "e5d31973-cf0e-4892-be14-fdd1be7ccfda"
      },
      "execution_count": 272,
      "outputs": [
        {
          "output_type": "execute_result",
          "data": {
            "text/plain": [
              "City Hotel      47582\n",
              "Resort Hotel    31643\n",
              "Name: hotel, dtype: int64"
            ]
          },
          "metadata": {},
          "execution_count": 272
        }
      ]
    },
    {
      "cell_type": "code",
      "source": [
        "sns.catplot(x='hotel', kind='count', data=df)\n"
      ],
      "metadata": {
        "colab": {
          "base_uri": "https://localhost:8080/",
          "height": 387
        },
        "id": "a_C8dVPSianI",
        "outputId": "a00660b3-6858-4230-8023-358f68268389"
      },
      "execution_count": 273,
      "outputs": [
        {
          "output_type": "execute_result",
          "data": {
            "text/plain": [
              "<seaborn.axisgrid.FacetGrid at 0x7fb22fe03490>"
            ]
          },
          "metadata": {},
          "execution_count": 273
        },
        {
          "output_type": "display_data",
          "data": {
            "text/plain": [
              "<Figure size 360x360 with 1 Axes>"
            ],
            "image/png": "[encoded data removed]"
          },
          "metadata": {
            "needs_background": "light"
          }
        }
      ]
    },
    {
      "cell_type": "markdown",
      "source": [
        "Q. Describe hotel type"
      ],
      "metadata": {
        "id": "uy6Hj9XUoQD2"
      }
    },
    {
      "cell_type": "markdown",
      "source": [
        "There are only teo type of hotel are present in our data set .Resort hotel and city hotel. Where 48k hotel are city hote type and 30k hotel are city hotel type. If we talk in percentage then in our data set we have 60 % data of city hotel and 39% data of resort hotel."
      ],
      "metadata": {
        "id": "jMEvJC1ZoP_P"
      }
    },
    {
      "cell_type": "code",
      "source": [
        "ind = df['hotel'].value_counts().index\n",
        "val = df['hotel'].value_counts().values\n",
        "\n",
        "plt.figure(figsize=(7,7))\n",
        "plt.pie(val, labels=ind, autopct='%.3f', explode=(0,0.1))\n",
        "plt.show()"
      ],
      "metadata": {
        "colab": {
          "base_uri": "https://localhost:8080/",
          "height": 411
        },
        "id": "V0864L5nkKRb",
        "outputId": "da18725f-2784-41d6-ad29-072285dec0f3"
      },
      "execution_count": 274,
      "outputs": [
        {
          "output_type": "display_data",
          "data": {
            "text/plain": [
              "<Figure size 504x504 with 1 Axes>"
            ],
            "image/png": "[encoded data removed]"
          },
          "metadata": {}
        }
      ]
    },
    {
      "cell_type": "code",
      "source": [
        "df['is_canceled'].value_counts()"
      ],
      "metadata": {
        "colab": {
          "base_uri": "https://localhost:8080/",
          "height": 0
        },
        "id": "UFvvEcZn7gf1",
        "outputId": "56528d3c-4267-4927-fd9c-7f1e0a0e1693"
      },
      "execution_count": 275,
      "outputs": [
        {
          "output_type": "execute_result",
          "data": {
            "text/plain": [
              "0    58452\n",
              "1    20773\n",
              "Name: is_canceled, dtype: int64"
            ]
          },
          "metadata": {},
          "execution_count": 275
        }
      ]
    },
    {
      "cell_type": "code",
      "source": [
        "sns.catplot(x='is_canceled', kind='count', data=df)"
      ],
      "metadata": {
        "colab": {
          "base_uri": "https://localhost:8080/",
          "height": 387
        },
        "id": "nCXDmxapm8J3",
        "outputId": "ce816303-faff-4c48-96ac-899690ff0633"
      },
      "execution_count": 276,
      "outputs": [
        {
          "output_type": "execute_result",
          "data": {
            "text/plain": [
              "<seaborn.axisgrid.FacetGrid at 0x7fb22df42b10>"
            ]
          },
          "metadata": {},
          "execution_count": 276
        },
        {
          "output_type": "display_data",
          "data": {
            "text/plain": [
              "<Figure size 360x360 with 1 Axes>"
            ],
            "image/png": "[encoded data removed]"
          },
          "metadata": {
            "needs_background": "light"
          }
        }
      ]
    },
    {
      "cell_type": "markdown",
      "source": [
        "Q. About guest booking cancelation."
      ],
      "metadata": {
        "id": "rRS72U9YohLZ"
      }
    },
    {
      "cell_type": "markdown",
      "source": [
        "In this data set approx 10 million guest making the booking out of which approx 58k thousand are not canceling there booking but still 20k guest were canceld there booking. if we talk about percentage 73% guest are not canceling there booking but 26% guest were canceled there booking."
      ],
      "metadata": {
        "id": "V18wbo-Fon99"
      }
    },
    {
      "cell_type": "code",
      "source": [
        "plt.pie(df['is_canceled'].value_counts(),autopct='%.3f')"
      ],
      "metadata": {
        "colab": {
          "base_uri": "https://localhost:8080/",
          "height": 359
        },
        "id": "mZJGel76k3oe",
        "outputId": "9df3f9c1-2045-41e9-dd71-47350a797978"
      },
      "execution_count": 277,
      "outputs": [
        {
          "output_type": "execute_result",
          "data": {
            "text/plain": [
              "([<matplotlib.patches.Wedge at 0x7fb22d173a50>,\n",
              "  <matplotlib.patches.Wedge at 0x7fb22d166190>],\n",
              " [Text(-0.7474352862780399, 0.80705668501442, ''),\n",
              "  Text(0.747435361840137, -0.8070566150344742, '')],\n",
              " [Text(-0.4076919743334763, 0.4402127372805927, '73.780'),\n",
              "  Text(0.4076920155491656, -0.4402126991097132, '26.220')])"
            ]
          },
          "metadata": {},
          "execution_count": 277
        },
        {
          "output_type": "display_data",
          "data": {
            "text/plain": [
              "<Figure size 432x288 with 1 Axes>"
            ],
            "image/png": "[encoded data removed]"
          },
          "metadata": {}
        }
      ]
    },
    {
      "cell_type": "code",
      "source": [
        "df['arrival_date_month'].value_counts()"
      ],
      "metadata": {
        "colab": {
          "base_uri": "https://localhost:8080/",
          "height": 0
        },
        "id": "n7pQQWnq7r2h",
        "outputId": "73bf0f25-7d37-414e-fa34-6569bdbe31bb"
      },
      "execution_count": 278,
      "outputs": [
        {
          "output_type": "execute_result",
          "data": {
            "text/plain": [
              "August       10465\n",
              "July          9294\n",
              "May           7489\n",
              "April         7090\n",
              "June          7057\n",
              "March         6853\n",
              "October       5995\n",
              "September     5892\n",
              "February      5641\n",
              "December      4627\n",
              "November      4498\n",
              "January       4324\n",
              "Name: arrival_date_month, dtype: int64"
            ]
          },
          "metadata": {},
          "execution_count": 278
        }
      ]
    },
    {
      "cell_type": "code",
      "source": [
        "\n",
        "sns.catplot(x='arrival_date_month', kind='count',data=df,height=7.27, aspect=11.7/8.27)"
      ],
      "metadata": {
        "colab": {
          "base_uri": "https://localhost:8080/",
          "height": 551
        },
        "id": "IZ-NEupOn4Yh",
        "outputId": "5db6f3cb-cf06-40ab-8116-216e80b4fa40"
      },
      "execution_count": 279,
      "outputs": [
        {
          "output_type": "execute_result",
          "data": {
            "text/plain": [
              "<seaborn.axisgrid.FacetGrid at 0x7fb22ddf9790>"
            ]
          },
          "metadata": {},
          "execution_count": 279
        },
        {
          "output_type": "display_data",
          "data": {
            "text/plain": [
              "<Figure size 740.538x523.44 with 1 Axes>"
            ],
            "image/png": "[encoded data removed]"
          },
          "metadata": {
            "needs_background": "light"
          }
        }
      ]
    },
    {
      "cell_type": "markdown",
      "source": [
        "Q. In which month of the year we have more number of guest?"
      ],
      "metadata": {
        "id": "2UPBsq7XpN5o"
      }
    },
    {
      "cell_type": "markdown",
      "source": [
        "During summer in the month of may, june, july and aguest we have more guest.\n",
        "In the month of nov, dec nd jan we have very les no of guest."
      ],
      "metadata": {
        "id": "nNKdO6K8pXP3"
      }
    },
    {
      "cell_type": "code",
      "source": [
        "df['adults'].value_counts()"
      ],
      "metadata": {
        "colab": {
          "base_uri": "https://localhost:8080/",
          "height": 0
        },
        "id": "CB8IZoV-74Dp",
        "outputId": "56de09b9-76a7-4e2c-fb0b-fbe3e2016085"
      },
      "execution_count": 280,
      "outputs": [
        {
          "output_type": "execute_result",
          "data": {
            "text/plain": [
              "2     58474\n",
              "1     14559\n",
              "3      5747\n",
              "0       371\n",
              "4        58\n",
              "26        5\n",
              "27        2\n",
              "20        2\n",
              "5         2\n",
              "40        1\n",
              "50        1\n",
              "55        1\n",
              "6         1\n",
              "10        1\n",
              "Name: adults, dtype: int64"
            ]
          },
          "metadata": {},
          "execution_count": 280
        }
      ]
    },
    {
      "cell_type": "code",
      "execution_count": 281,
      "metadata": {
        "id": "pEHpE1b4USq5",
        "colab": {
          "base_uri": "https://localhost:8080/",
          "height": 387
        },
        "outputId": "e02c22b9-8292-4cc4-c948-2eb67a817d4d"
      },
      "outputs": [
        {
          "output_type": "execute_result",
          "data": {
            "text/plain": [
              "<seaborn.axisgrid.FacetGrid at 0x7fb22dea2910>"
            ]
          },
          "metadata": {},
          "execution_count": 281
        },
        {
          "output_type": "display_data",
          "data": {
            "text/plain": [
              "<Figure size 360x360 with 1 Axes>"
            ],
            "image/png": "[encoded data removed]"
          },
          "metadata": {
            "needs_background": "light"
          }
        }
      ],
      "source": [
        "sns.catplot(x='adults', kind='count', data=df)"
      ]
    },
    {
      "cell_type": "markdown",
      "source": [
        "Q. How many adults are there in every booking of guest."
      ],
      "metadata": {
        "id": "WVqBLvAnpij-"
      }
    },
    {
      "cell_type": "markdown",
      "source": [
        "in this data set approx 59k guest have 2 adults , 15k guest have 1 guest and 5k guest have only 1 adults ."
      ],
      "metadata": {
        "id": "um5YtDWzpigR"
      }
    },
    {
      "cell_type": "code",
      "source": [
        "df['children'].value_counts()"
      ],
      "metadata": {
        "colab": {
          "base_uri": "https://localhost:8080/",
          "height": 0
        },
        "id": "6PLe6GFi8RwE",
        "outputId": "ca277ed4-b2f9-48bc-98a6-bacd6fbb033d"
      },
      "execution_count": 282,
      "outputs": [
        {
          "output_type": "execute_result",
          "data": {
            "text/plain": [
              "0.0     71052\n",
              "1.0      4559\n",
              "2.0      3539\n",
              "3.0        74\n",
              "10.0        1\n",
              "Name: children, dtype: int64"
            ]
          },
          "metadata": {},
          "execution_count": 282
        }
      ]
    },
    {
      "cell_type": "code",
      "source": [
        "sns.catplot(x='children', kind='count', data=df)"
      ],
      "metadata": {
        "colab": {
          "base_uri": "https://localhost:8080/",
          "height": 387
        },
        "id": "BPKrfA6hi-Jc",
        "outputId": "cf3fa18c-e2af-4b78-b61c-722480bea7e2"
      },
      "execution_count": 283,
      "outputs": [
        {
          "output_type": "execute_result",
          "data": {
            "text/plain": [
              "<seaborn.axisgrid.FacetGrid at 0x7fb22cfefb90>"
            ]
          },
          "metadata": {},
          "execution_count": 283
        },
        {
          "output_type": "display_data",
          "data": {
            "text/plain": [
              "<Figure size 360x360 with 1 Axes>"
            ],
            "image/png": "[encoded data removed]"
          },
          "metadata": {
            "needs_background": "light"
          }
        }
      ]
    },
    {
      "cell_type": "markdown",
      "source": [
        "Q. Number of children in the guest"
      ],
      "metadata": {
        "id": "8skF_mlwloXH"
      }
    },
    {
      "cell_type": "markdown",
      "source": [
        "72k guest have no children , 5k guest have 1 children and 5k guest have 2 childrens"
      ],
      "metadata": {
        "id": "mi1ZnTRYl20R"
      }
    },
    {
      "cell_type": "code",
      "source": [
        "df['babies'].value_counts()"
      ],
      "metadata": {
        "colab": {
          "base_uri": "https://localhost:8080/",
          "height": 0
        },
        "id": "0JNLXk0c8bCK",
        "outputId": "64630c28-80c9-47e6-caa0-808f03461351"
      },
      "execution_count": 284,
      "outputs": [
        {
          "output_type": "execute_result",
          "data": {
            "text/plain": [
              "0     78314\n",
              "1       894\n",
              "2        15\n",
              "10        1\n",
              "9         1\n",
              "Name: babies, dtype: int64"
            ]
          },
          "metadata": {},
          "execution_count": 284
        }
      ]
    },
    {
      "cell_type": "code",
      "source": [
        "sns.catplot(x='babies', kind='count', data=df)"
      ],
      "metadata": {
        "colab": {
          "base_uri": "https://localhost:8080/",
          "height": 387
        },
        "id": "t7QH8MZWj5Lm",
        "outputId": "937559af-bf88-4e67-9b38-d1dbb219ca84"
      },
      "execution_count": 285,
      "outputs": [
        {
          "output_type": "execute_result",
          "data": {
            "text/plain": [
              "<seaborn.axisgrid.FacetGrid at 0x7fb22d086b50>"
            ]
          },
          "metadata": {},
          "execution_count": 285
        },
        {
          "output_type": "display_data",
          "data": {
            "text/plain": [
              "<Figure size 360x360 with 1 Axes>"
            ],
            "image/png": "[encoded data removed]"
          },
          "metadata": {
            "needs_background": "light"
          }
        }
      ]
    },
    {
      "cell_type": "markdown",
      "source": [
        "Q. Babies with the guest"
      ],
      "metadata": {
        "id": "VvYC_P61mMFT"
      }
    },
    {
      "cell_type": "markdown",
      "source": [
        "aprox 90k guest dont have any babies only aprx 2k guest have babies."
      ],
      "metadata": {
        "id": "cvUWVuiAmU3W"
      }
    },
    {
      "cell_type": "code",
      "source": [
        "df['meal'].value_counts()"
      ],
      "metadata": {
        "colab": {
          "base_uri": "https://localhost:8080/",
          "height": 0
        },
        "id": "6FUAT4St8itu",
        "outputId": "c3616345-19df-49b3-a06d-260370543e04"
      },
      "execution_count": 286,
      "outputs": [
        {
          "output_type": "execute_result",
          "data": {
            "text/plain": [
              "BB           61845\n",
              "SC            8703\n",
              "HB            7997\n",
              "Undefined      371\n",
              "FB             309\n",
              "Name: meal, dtype: int64"
            ]
          },
          "metadata": {},
          "execution_count": 286
        }
      ]
    },
    {
      "cell_type": "code",
      "source": [
        "sns.catplot(x='meal', kind='count', data=df)"
      ],
      "metadata": {
        "colab": {
          "base_uri": "https://localhost:8080/",
          "height": 387
        },
        "id": "ITBqqZv9jTQl",
        "outputId": "d333d749-4f52-4533-fd38-5a370308c26f"
      },
      "execution_count": 287,
      "outputs": [
        {
          "output_type": "execute_result",
          "data": {
            "text/plain": [
              "<seaborn.axisgrid.FacetGrid at 0x7fb22dcd0910>"
            ]
          },
          "metadata": {},
          "execution_count": 287
        },
        {
          "output_type": "display_data",
          "data": {
            "text/plain": [
              "<Figure size 360x360 with 1 Axes>"
            ],
            "image/png": "[encoded data removed]"
          },
          "metadata": {
            "needs_background": "light"
          }
        }
      ]
    },
    {
      "cell_type": "markdown",
      "source": [
        "Q. Types of meal offered and what are most in demand."
      ],
      "metadata": {
        "id": "La7c-BdCmj0i"
      }
    },
    {
      "cell_type": "markdown",
      "source": [
        "offered meal are BB,SC,HB,FB and undefine. Meal which are most in demand are BB then SC then HB,FB and undefind "
      ],
      "metadata": {
        "id": "n06mTcGzmql7"
      }
    },
    {
      "cell_type": "markdown",
      "source": [],
      "metadata": {
        "id": "ClLLPEIT9IeC"
      }
    },
    {
      "cell_type": "code",
      "source": [
        "df['arrival_date_year'].value_counts()"
      ],
      "metadata": {
        "colab": {
          "base_uri": "https://localhost:8080/",
          "height": 0
        },
        "id": "oNhDucVg8qVl",
        "outputId": "e59ee024-5707-43b3-88e5-46d7021355d5"
      },
      "execution_count": 288,
      "outputs": [
        {
          "output_type": "execute_result",
          "data": {
            "text/plain": [
              "2016    38666\n",
              "2017    28979\n",
              "2015    11580\n",
              "Name: arrival_date_year, dtype: int64"
            ]
          },
          "metadata": {},
          "execution_count": 288
        }
      ]
    },
    {
      "cell_type": "code",
      "source": [
        "sns.catplot(x='arrival_date_year', kind='count', data=df)"
      ],
      "metadata": {
        "colab": {
          "base_uri": "https://localhost:8080/",
          "height": 387
        },
        "id": "pFKlluoFjlHH",
        "outputId": "b9b95d98-9aed-44dd-fc07-beffb71bbbd5"
      },
      "execution_count": 289,
      "outputs": [
        {
          "output_type": "execute_result",
          "data": {
            "text/plain": [
              "<seaborn.axisgrid.FacetGrid at 0x7fb22ced06d0>"
            ]
          },
          "metadata": {},
          "execution_count": 289
        },
        {
          "output_type": "display_data",
          "data": {
            "text/plain": [
              "<Figure size 360x360 with 1 Axes>"
            ],
            "image/png": "[encoded data removed]"
          },
          "metadata": {
            "needs_background": "light"
          }
        }
      ]
    },
    {
      "cell_type": "markdown",
      "source": [
        "Q. which year maxium guest visited?"
      ],
      "metadata": {
        "id": "AZSDjuIym0J6"
      }
    },
    {
      "cell_type": "markdown",
      "source": [
        "In the year of 2016 most guest wisited then 2017 and 2015. If we describe in percentage then 48% guest visited in 2016 then 36% guest visited in 2017 and only 14% guest visited in year 2015."
      ],
      "metadata": {
        "id": "eepZynvMnAJT"
      }
    },
    {
      "cell_type": "code",
      "source": [
        "plt.figure(figsize=(5,5))\n",
        "plt.pie(df['arrival_date_year'].value_counts(),startangle=90, autopct='%.3f',shadow=True,labels=['2016','2017','2015'])"
      ],
      "metadata": {
        "colab": {
          "base_uri": "https://localhost:8080/",
          "height": 469
        },
        "id": "OV0P2iFejkaS",
        "outputId": "397691db-5798-492d-f56b-b8378c6ee37b"
      },
      "execution_count": 290,
      "outputs": [
        {
          "output_type": "execute_result",
          "data": {
            "text/plain": [
              "([<matplotlib.patches.Wedge at 0x7fb22ce27ed0>,\n",
              "  <matplotlib.patches.Wedge at 0x7fb22db238d0>,\n",
              "  <matplotlib.patches.Wedge at 0x7fb22ce3cd90>],\n",
              " [Text(-1.0992253108954007, 0.04127609340659381, '2016'),\n",
              "  Text(0.9670620028479203, -0.5242051913590413, '2017'),\n",
              "  Text(0.48754820191698767, 0.9860510893495896, '2015')],\n",
              " [Text(-0.5995774423065822, 0.022514232767232984, '48.805'),\n",
              "  Text(0.5274883651897746, -0.28593010437765887, '36.578'),\n",
              "  Text(0.2659353828638114, 0.5378460487361397, '14.617')])"
            ]
          },
          "metadata": {},
          "execution_count": 290
        },
        {
          "output_type": "display_data",
          "data": {
            "text/plain": [
              "<Figure size 360x360 with 1 Axes>"
            ],
            "image/png": "[encoded data removed]"
          },
          "metadata": {}
        }
      ]
    },
    {
      "cell_type": "code",
      "source": [
        "df['reserved_room_type'].value_counts()"
      ],
      "metadata": {
        "colab": {
          "base_uri": "https://localhost:8080/",
          "height": 0
        },
        "id": "jxM98IlD8y3R",
        "outputId": "38561988-6f54-4f9d-891a-b31e349ff9de"
      },
      "execution_count": 291,
      "outputs": [
        {
          "output_type": "execute_result",
          "data": {
            "text/plain": [
              "A    49971\n",
              "D    16340\n",
              "E     5745\n",
              "F     2759\n",
              "G     2016\n",
              "C      904\n",
              "B      889\n",
              "H      592\n",
              "L        6\n",
              "P        3\n",
              "Name: reserved_room_type, dtype: int64"
            ]
          },
          "metadata": {},
          "execution_count": 291
        }
      ]
    },
    {
      "cell_type": "code",
      "source": [
        "sns.catplot(x='reserved_room_type', kind='count', data=df)"
      ],
      "metadata": {
        "colab": {
          "base_uri": "https://localhost:8080/",
          "height": 387
        },
        "id": "l6JPSNAtkMxe",
        "outputId": "c67c9958-34a1-46a3-b07b-b492d44d121e"
      },
      "execution_count": 292,
      "outputs": [
        {
          "output_type": "execute_result",
          "data": {
            "text/plain": [
              "<seaborn.axisgrid.FacetGrid at 0x7fb22db92ed0>"
            ]
          },
          "metadata": {},
          "execution_count": 292
        },
        {
          "output_type": "display_data",
          "data": {
            "text/plain": [
              "<Figure size 360x360 with 1 Axes>"
            ],
            "image/png": "[encoded data removed]"
          },
          "metadata": {
            "needs_background": "light"
          }
        }
      ]
    },
    {
      "cell_type": "markdown",
      "source": [
        "Q.What type of room offered and what ae most in demand."
      ],
      "metadata": {
        "id": "nJQi3TxPiCLR"
      }
    },
    {
      "cell_type": "markdown",
      "source": [
        "Room offered are A,B, C, D,E,F,G,H,L and P. A type room are most in demand folled by D,E,F,G. C,H,B are less in demand."
      ],
      "metadata": {
        "id": "1fx5j863iBWz"
      }
    },
    {
      "cell_type": "code",
      "source": [
        "df['assigned_room_type'].value_counts()"
      ],
      "metadata": {
        "colab": {
          "base_uri": "https://localhost:8080/",
          "height": 0
        },
        "id": "EV6vaN3y87dZ",
        "outputId": "5209eac9-92fc-4573-f775-e90d59eb6d47"
      },
      "execution_count": 293,
      "outputs": [
        {
          "output_type": "execute_result",
          "data": {
            "text/plain": [
              "A    40576\n",
              "D    20867\n",
              "E     6823\n",
              "F     3524\n",
              "G     2452\n",
              "C     2070\n",
              "B     1584\n",
              "H      701\n",
              "I      351\n",
              "K      273\n",
              "P        3\n",
              "L        1\n",
              "Name: assigned_room_type, dtype: int64"
            ]
          },
          "metadata": {},
          "execution_count": 293
        }
      ]
    },
    {
      "cell_type": "code",
      "source": [
        "sns.catplot(x='assigned_room_type', kind='count', data=df)"
      ],
      "metadata": {
        "colab": {
          "base_uri": "https://localhost:8080/",
          "height": 387
        },
        "id": "fhr-uBjikaeZ",
        "outputId": "f42c28ae-0566-4d35-a281-ec0130d1f2c4"
      },
      "execution_count": 294,
      "outputs": [
        {
          "output_type": "execute_result",
          "data": {
            "text/plain": [
              "<seaborn.axisgrid.FacetGrid at 0x7fb22dac4850>"
            ]
          },
          "metadata": {},
          "execution_count": 294
        },
        {
          "output_type": "display_data",
          "data": {
            "text/plain": [
              "<Figure size 360x360 with 1 Axes>"
            ],
            "image/png": "[encoded data removed]"
          },
          "metadata": {
            "needs_background": "light"
          }
        }
      ]
    },
    {
      "cell_type": "markdown",
      "source": [
        "Q. What are the room assigned to the guest ?"
      ],
      "metadata": {
        "id": "yobJttloixCs"
      }
    },
    {
      "cell_type": "markdown",
      "source": [
        "A room type are mmostly assigned to the guest followed by D,E,F,C and B. I,P,L,K are very less no of time assigned to the guest."
      ],
      "metadata": {
        "id": "mCdBvIYtiw1I"
      }
    },
    {
      "cell_type": "code",
      "source": [
        "df['customer_type'].value_counts()"
      ],
      "metadata": {
        "colab": {
          "base_uri": "https://localhost:8080/",
          "height": 0
        },
        "id": "YdPWr0Fj9Bi8",
        "outputId": "b9b786c9-64f7-4fe2-b263-a10b4d5d109f"
      },
      "execution_count": 295,
      "outputs": [
        {
          "output_type": "execute_result",
          "data": {
            "text/plain": [
              "Transient          67404\n",
              "Transient-Party     8413\n",
              "Contract            2888\n",
              "Group                520\n",
              "Name: customer_type, dtype: int64"
            ]
          },
          "metadata": {},
          "execution_count": 295
        }
      ]
    },
    {
      "cell_type": "code",
      "source": [
        "sns.catplot(x='customer_type', kind='count', data=df)"
      ],
      "metadata": {
        "colab": {
          "base_uri": "https://localhost:8080/",
          "height": 387
        },
        "id": "Rqd0XT8DkwvT",
        "outputId": "58145401-cf89-4cf6-b0c1-e84fe8c4a477"
      },
      "execution_count": 296,
      "outputs": [
        {
          "output_type": "execute_result",
          "data": {
            "text/plain": [
              "<seaborn.axisgrid.FacetGrid at 0x7fb22cd49f50>"
            ]
          },
          "metadata": {},
          "execution_count": 296
        },
        {
          "output_type": "display_data",
          "data": {
            "text/plain": [
              "<Figure size 360x360 with 1 Axes>"
            ],
            "image/png": "[encoded data removed]"
          },
          "metadata": {
            "needs_background": "light"
          }
        }
      ]
    },
    {
      "cell_type": "markdown",
      "source": [
        "Q. what are the customer type ? which are mostly visit."
      ],
      "metadata": {
        "id": "cS3Dg8oujSDN"
      }
    },
    {
      "cell_type": "markdown",
      "source": [
        "Transient, Contact, Transient-Party and group are the customer type in which Transient are highly visiting then Tansient_Party, Contract and then Group."
      ],
      "metadata": {
        "id": "JYq4ePD9jg_r"
      }
    },
    {
      "cell_type": "code",
      "source": [
        "df['market_segment'].value_counts()"
      ],
      "metadata": {
        "colab": {
          "base_uri": "https://localhost:8080/",
          "height": 0
        },
        "id": "IFgnZvAz9L5Y",
        "outputId": "96ceb7ca-1543-4c9d-8e87-64d39fe48289"
      },
      "execution_count": 297,
      "outputs": [
        {
          "output_type": "execute_result",
          "data": {
            "text/plain": [
              "Online TA        48208\n",
              "Offline TA/TO    12009\n",
              "Direct           11201\n",
              "Corporate         3821\n",
              "Groups            3098\n",
              "Complementary      668\n",
              "Aviation           218\n",
              "Undefined            2\n",
              "Name: market_segment, dtype: int64"
            ]
          },
          "metadata": {},
          "execution_count": 297
        }
      ]
    },
    {
      "cell_type": "code",
      "source": [
        "sns.catplot(x='market_segment', kind='count', data=df,height=7.27, aspect=11.7/8.27)"
      ],
      "metadata": {
        "colab": {
          "base_uri": "https://localhost:8080/",
          "height": 551
        },
        "id": "aFkrjbPKr0n2",
        "outputId": "f5a7eaf7-3251-4126-d45e-16da22ef7b2d"
      },
      "execution_count": 298,
      "outputs": [
        {
          "output_type": "execute_result",
          "data": {
            "text/plain": [
              "<seaborn.axisgrid.FacetGrid at 0x7fb22c9fe650>"
            ]
          },
          "metadata": {},
          "execution_count": 298
        },
        {
          "output_type": "display_data",
          "data": {
            "text/plain": [
              "<Figure size 740.538x523.44 with 1 Axes>"
            ],
            "image/png": "[encoded data removed]"
          },
          "metadata": {
            "needs_background": "light"
          }
        }
      ]
    },
    {
      "cell_type": "markdown",
      "source": [
        "Q. What are the market segment?"
      ],
      "metadata": {
        "id": "TwiTA7l6kB1T"
      }
    },
    {
      "cell_type": "markdown",
      "source": [
        "Direct,corporate,Online TA, Office TA/To, complementry,Group,Undefined and Aviation are the narket segment in which Online TA market segment are most in number and Aviationa and undefined is almmost zero."
      ],
      "metadata": {
        "id": "KcQO-eDUkIpi"
      }
    },
    {
      "cell_type": "code",
      "source": [
        "df['is_repeated_guest'].value_counts()"
      ],
      "metadata": {
        "colab": {
          "base_uri": "https://localhost:8080/",
          "height": 0
        },
        "id": "XiH3oi-p9WEy",
        "outputId": "d2daca2a-9cc1-4681-b6fb-545dbc7ca2dc"
      },
      "execution_count": 299,
      "outputs": [
        {
          "output_type": "execute_result",
          "data": {
            "text/plain": [
              "0    75897\n",
              "1     3328\n",
              "Name: is_repeated_guest, dtype: int64"
            ]
          },
          "metadata": {},
          "execution_count": 299
        }
      ]
    },
    {
      "cell_type": "code",
      "source": [
        "sns.catplot(x='is_repeated_guest', kind='count', data=df)"
      ],
      "metadata": {
        "colab": {
          "base_uri": "https://localhost:8080/",
          "height": 387
        },
        "id": "RlzsBbWMtkpY",
        "outputId": "4863df9f-016d-4720-82e3-89ba5d49e1f5"
      },
      "execution_count": 300,
      "outputs": [
        {
          "output_type": "execute_result",
          "data": {
            "text/plain": [
              "<seaborn.axisgrid.FacetGrid at 0x7fb22db482d0>"
            ]
          },
          "metadata": {},
          "execution_count": 300
        },
        {
          "output_type": "display_data",
          "data": {
            "text/plain": [
              "<Figure size 360x360 with 1 Axes>"
            ],
            "image/png": "[encoded data removed]"
          },
          "metadata": {
            "needs_background": "light"
          }
        }
      ]
    },
    {
      "cell_type": "markdown",
      "source": [
        "Q. Is the guest are revisited are new guest only."
      ],
      "metadata": {
        "id": "FNo_o4eSkxh9"
      }
    },
    {
      "cell_type": "markdown",
      "source": [
        "More then75k guest are new visiter and only 5k is re-visiting."
      ],
      "metadata": {
        "id": "IQgpEEamk5QP"
      }
    },
    {
      "cell_type": "code",
      "source": [
        "df['previous_cancellations'].value_counts()"
      ],
      "metadata": {
        "colab": {
          "base_uri": "https://localhost:8080/",
          "height": 0
        },
        "id": "oeUz3Uc59c3u",
        "outputId": "4132dda3-3dd5-472e-e2b6-4c67ffdb3f54"
      },
      "execution_count": 301,
      "outputs": [
        {
          "output_type": "execute_result",
          "data": {
            "text/plain": [
              "0     77949\n",
              "1      1017\n",
              "2       108\n",
              "3        58\n",
              "4        29\n",
              "11       25\n",
              "5        19\n",
              "6        16\n",
              "13        2\n",
              "25        1\n",
              "21        1\n",
              "Name: previous_cancellations, dtype: int64"
            ]
          },
          "metadata": {},
          "execution_count": 301
        }
      ]
    },
    {
      "cell_type": "code",
      "source": [
        "sns.catplot(x='previous_cancellations', kind='count',data=df)"
      ],
      "metadata": {
        "colab": {
          "base_uri": "https://localhost:8080/",
          "height": 387
        },
        "id": "9XrTyY0Bt1ui",
        "outputId": "15ce0e06-819b-4d0a-be6c-9d14be22fad2"
      },
      "execution_count": 302,
      "outputs": [
        {
          "output_type": "execute_result",
          "data": {
            "text/plain": [
              "<seaborn.axisgrid.FacetGrid at 0x7fb22c9fe950>"
            ]
          },
          "metadata": {},
          "execution_count": 302
        },
        {
          "output_type": "display_data",
          "data": {
            "text/plain": [
              "<Figure size 360x360 with 1 Axes>"
            ],
            "image/png": "[encoded data removed]"
          },
          "metadata": {
            "needs_background": "light"
          }
        }
      ]
    },
    {
      "cell_type": "markdown",
      "source": [
        "Q. did the customer are canceling the booking ?"
      ],
      "metadata": {
        "id": "Upbhw-V8lHRb"
      }
    },
    {
      "cell_type": "markdown",
      "source": [
        "No only less then 1k approx guest are making prevous cancelation."
      ],
      "metadata": {
        "id": "1s1Sf6eHlHDi"
      }
    },
    {
      "cell_type": "code",
      "source": [
        "df.columns"
      ],
      "metadata": {
        "colab": {
          "base_uri": "https://localhost:8080/",
          "height": 0
        },
        "id": "i9la6crouCyS",
        "outputId": "fe6bae71-7ab7-45d9-8f76-f00233129823"
      },
      "execution_count": 303,
      "outputs": [
        {
          "output_type": "execute_result",
          "data": {
            "text/plain": [
              "Index(['hotel', 'is_canceled', 'lead_time', 'arrival_date_year',\n",
              "       'arrival_date_month', 'arrival_date_week_number',\n",
              "       'arrival_date_day_of_month', 'stays_in_weekend_nights',\n",
              "       'stays_in_week_nights', 'adults', 'children', 'babies', 'meal',\n",
              "       'country', 'market_segment', 'distribution_channel',\n",
              "       'is_repeated_guest', 'previous_cancellations',\n",
              "       'previous_bookings_not_canceled', 'reserved_room_type',\n",
              "       'assigned_room_type', 'booking_changes', 'deposit_type', 'agent',\n",
              "       'company', 'days_in_waiting_list', 'customer_type', 'adr',\n",
              "       'required_car_parking_spaces', 'total_of_special_requests',\n",
              "       'reservation_status', 'reservation_status_date'],\n",
              "      dtype='object')"
            ]
          },
          "metadata": {},
          "execution_count": 303
        }
      ]
    },
    {
      "cell_type": "code",
      "source": [
        "df['previous_bookings_not_canceled'].value_counts()"
      ],
      "metadata": {
        "colab": {
          "base_uri": "https://localhost:8080/",
          "height": 0
        },
        "id": "gcQnPIeY9t3I",
        "outputId": "8a98ddba-456f-4c40-f53d-569b0a9767d5"
      },
      "execution_count": 304,
      "outputs": [
        {
          "output_type": "execute_result",
          "data": {
            "text/plain": [
              "0     75727\n",
              "1      1444\n",
              "2       580\n",
              "3       329\n",
              "4       227\n",
              "      ...  \n",
              "47        1\n",
              "49        1\n",
              "50        1\n",
              "51        1\n",
              "72        1\n",
              "Name: previous_bookings_not_canceled, Length: 73, dtype: int64"
            ]
          },
          "metadata": {},
          "execution_count": 304
        }
      ]
    },
    {
      "cell_type": "code",
      "source": [
        "sns.catplot(x='previous_bookings_not_canceled', kind='count', data=df,height=7.27, aspect=11.7/8.27)"
      ],
      "metadata": {
        "colab": {
          "base_uri": "https://localhost:8080/",
          "height": 551
        },
        "id": "3edlep2vuHgJ",
        "outputId": "a2801e49-a6f5-4f50-93ff-be729ab0a223"
      },
      "execution_count": 305,
      "outputs": [
        {
          "output_type": "execute_result",
          "data": {
            "text/plain": [
              "<seaborn.axisgrid.FacetGrid at 0x7fb22cc87250>"
            ]
          },
          "metadata": {},
          "execution_count": 305
        },
        {
          "output_type": "display_data",
          "data": {
            "text/plain": [
              "<Figure size 740.538x523.44 with 1 Axes>"
            ],
            "image/png": "[encoded data removed]"
          },
          "metadata": {
            "needs_background": "light"
          }
        }
      ]
    },
    {
      "cell_type": "markdown",
      "source": [
        "Q. How many guest are not canceling their booking?"
      ],
      "metadata": {
        "id": "2QK0HxJNltQF"
      }
    },
    {
      "cell_type": "markdown",
      "source": [
        "More then 75k guest are not canceling there booking."
      ],
      "metadata": {
        "id": "aVdAdokSlzD5"
      }
    },
    {
      "cell_type": "code",
      "source": [
        "from pandas.io.pytables import annotations\n",
        "plt.pie(df['previous_bookings_not_canceled'].value_counts(),autopct='%.3f')"
      ],
      "metadata": {
        "colab": {
          "base_uri": "https://localhost:8080/",
          "height": 1000
        },
        "id": "bAzXyVoplzKk",
        "outputId": "fdfb6a4a-cc6d-462f-f53f-895bc9982b96"
      },
      "execution_count": 306,
      "outputs": [
        {
          "output_type": "execute_result",
          "data": {
            "text/plain": [
              "([<matplotlib.patches.Wedge at 0x7fb22d883b90>,\n",
              "  <matplotlib.patches.Wedge at 0x7fb22d88c2d0>,\n",
              "  <matplotlib.patches.Wedge at 0x7fb22d88cb90>,\n",
              "  <matplotlib.patches.Wedge at 0x7fb22d893290>,\n",
              "  <matplotlib.patches.Wedge at 0x7fb22d893d90>,\n",
              "  <matplotlib.patches.Wedge at 0x7fb22d8a0650>,\n",
              "  <matplotlib.patches.Wedge at 0x7fb22d8a0c50>,\n",
              "  <matplotlib.patches.Wedge at 0x7fb22d7eb450>,\n",
              "  <matplotlib.patches.Wedge at 0x7fb22d893b90>,\n",
              "  <matplotlib.patches.Wedge at 0x7fb22d8a0450>,\n",
              "  <matplotlib.patches.Wedge at 0x7fb22d883b50>,\n",
              "  <matplotlib.patches.Wedge at 0x7fb22d806250>,\n",
              "  <matplotlib.patches.Wedge at 0x7fb22d806a10>,\n",
              "  <matplotlib.patches.Wedge at 0x7fb22d811210>,\n",
              "  <matplotlib.patches.Wedge at 0x7fb22d8119d0>,\n",
              "  <matplotlib.patches.Wedge at 0x7fb22d81e1d0>,\n",
              "  <matplotlib.patches.Wedge at 0x7fb22d81e990>,\n",
              "  <matplotlib.patches.Wedge at 0x7fb22d76b190>,\n",
              "  <matplotlib.patches.Wedge at 0x7fb22d76b950>,\n",
              "  <matplotlib.patches.Wedge at 0x7fb22d777150>,\n",
              "  <matplotlib.patches.Wedge at 0x7fb22d777910>,\n",
              "  <matplotlib.patches.Wedge at 0x7fb22d7778d0>,\n",
              "  <matplotlib.patches.Wedge at 0x7fb22d7848d0>,\n",
              "  <matplotlib.patches.Wedge at 0x7fb22d784890>,\n",
              "  <matplotlib.patches.Wedge at 0x7fb22d78f890>,\n",
              "  <matplotlib.patches.Wedge at 0x7fb22d78f850>,\n",
              "  <matplotlib.patches.Wedge at 0x7fb22d79b850>,\n",
              "  <matplotlib.patches.Wedge at 0x7fb22d79b810>,\n",
              "  <matplotlib.patches.Wedge at 0x7fb22d6ea810>,\n",
              "  <matplotlib.patches.Wedge at 0x7fb22d6eafd0>,\n",
              "  <matplotlib.patches.Wedge at 0x7fb22d6f67d0>,\n",
              "  <matplotlib.patches.Wedge at 0x7fb22d6f6f90>,\n",
              "  <matplotlib.patches.Wedge at 0x7fb22d703790>,\n",
              "  <matplotlib.patches.Wedge at 0x7fb22d703f50>,\n",
              "  <matplotlib.patches.Wedge at 0x7fb22d70f750>,\n",
              "  <matplotlib.patches.Wedge at 0x7fb22d70ff10>,\n",
              "  <matplotlib.patches.Wedge at 0x7fb22d71c710>,\n",
              "  <matplotlib.patches.Wedge at 0x7fb22d71ced0>,\n",
              "  <matplotlib.patches.Wedge at 0x7fb22d6a66d0>,\n",
              "  <matplotlib.patches.Wedge at 0x7fb22d6a6e90>,\n",
              "  <matplotlib.patches.Wedge at 0x7fb22d6b3690>,\n",
              "  <matplotlib.patches.Wedge at 0x7fb22d6b3e50>,\n",
              "  <matplotlib.patches.Wedge at 0x7fb22d6bf650>,\n",
              "  <matplotlib.patches.Wedge at 0x7fb22d6bfe10>,\n",
              "  <matplotlib.patches.Wedge at 0x7fb22d6cc610>,\n",
              "  <matplotlib.patches.Wedge at 0x7fb22d6ccdd0>,\n",
              "  <matplotlib.patches.Wedge at 0x7fb22d6db5d0>,\n",
              "  <matplotlib.patches.Wedge at 0x7fb22d6dbd90>,\n",
              "  <matplotlib.patches.Wedge at 0x7fb22de0d310>,\n",
              "  <matplotlib.patches.Wedge at 0x7fb22ddecb10>,\n",
              "  <matplotlib.patches.Wedge at 0x7fb22dde8750>,\n",
              "  <matplotlib.patches.Wedge at 0x7fb22df90f50>,\n",
              "  <matplotlib.patches.Wedge at 0x7fb22d204d10>,\n",
              "  <matplotlib.patches.Wedge at 0x7fb22de70850>,\n",
              "  <matplotlib.patches.Wedge at 0x7fb22d166d50>,\n",
              "  <matplotlib.patches.Wedge at 0x7fb22df06510>,\n",
              "  <matplotlib.patches.Wedge at 0x7fb22deee3d0>,\n",
              "  <matplotlib.patches.Wedge at 0x7fb22de972d0>,\n",
              "  <matplotlib.patches.Wedge at 0x7fb22d08d150>,\n",
              "  <matplotlib.patches.Wedge at 0x7fb22df17e50>,\n",
              "  <matplotlib.patches.Wedge at 0x7fb22def5510>,\n",
              "  <matplotlib.patches.Wedge at 0x7fb22d078990>,\n",
              "  <matplotlib.patches.Wedge at 0x7fb22d0836d0>,\n",
              "  <matplotlib.patches.Wedge at 0x7fb22ddf9bd0>,\n",
              "  <matplotlib.patches.Wedge at 0x7fb22d094e50>,\n",
              "  <matplotlib.patches.Wedge at 0x7fb22d0052d0>,\n",
              "  <matplotlib.patches.Wedge at 0x7fb22dd99150>,\n",
              "  <matplotlib.patches.Wedge at 0x7fb22d06e090>,\n",
              "  <matplotlib.patches.Wedge at 0x7fb22cfef6d0>,\n",
              "  <matplotlib.patches.Wedge at 0x7fb22dcda350>,\n",
              "  <matplotlib.patches.Wedge at 0x7fb22dd86510>,\n",
              "  <matplotlib.patches.Wedge at 0x7fb22dd94190>,\n",
              "  <matplotlib.patches.Wedge at 0x7fb22dcbc050>],\n",
              " [Text(-1.0894347143695313, 0.1520920876527705, ''),\n",
              "  Text(1.0734489235999336, -0.24022366332679218, ''),\n",
              "  Text(1.089253007684956, -0.15338802185724104, ''),\n",
              "  Text(1.094073218085185, -0.11403417675735318, ''),\n",
              "  Text(1.0963212974434104, -0.08988666626367528, ''),\n",
              "  Text(1.0976320164908964, -0.07213845281213703, ''),\n",
              "  Text(1.0983984167165737, -0.05933732513793063, ''),\n",
              "  Text(1.0988324533765916, -0.050667932722588675, ''),\n",
              "  Text(1.099124860428811, -0.043869592969920455, ''),\n",
              "  Text(1.0993333709015007, -0.038290202693949324, ''),\n",
              "  Text(1.099488602859029, -0.03353821973660029, ''),\n",
              "  Text(1.0996036391956483, -0.02952688042592321, ''),\n",
              "  Text(1.0996897063658622, -0.02612565239308055, ''),\n",
              "  Text(1.0997552362982668, -0.02320388404004471, ''),\n",
              "  Text(1.0998056949945798, -0.020674459061591405, ''),\n",
              "  Text(1.0998437903283425, -0.018537445244302835, ''),\n",
              "  Text(1.0998724752006415, -0.0167492774773945, ''),\n",
              "  Text(1.0998952648499372, -0.01517914229088329, ''),\n",
              "  Text(1.0999125439972266, -0.013870672570184496, ''),\n",
              "  Text(1.0999267643410453, -0.012693032980297482, ''),\n",
              "  Text(1.0999388071035778, -0.011602612962535546, ''),\n",
              "  Text(1.09994935115518, -0.010555799036480844, ''),\n",
              "  Text(1.0999581413542916, -0.00959621114881321, ''),\n",
              "  Text(1.0999650592023011, -0.008767470221125692, ''),\n",
              "  Text(1.0999710369850275, -0.007982342643823772, ''),\n",
              "  Text(1.0999764543633765, -0.0071972109997422646, ''),\n",
              "  Text(1.0999807993455601, -0.006499313125459381, ''),\n",
              "  Text(1.0999842379766842, -0.0058886503422714296, ''),\n",
              "  Text(1.0999873375937035, -0.005277985744206995, ''),\n",
              "  Text(1.0999899122526426, -0.00471093859264131, ''),\n",
              "  Text(1.0999916938472007, -0.004274747614347083, ''),\n",
              "  Text(1.099992679779555, -0.004013032692791433, ''),\n",
              "  Text(1.099993302474251, -0.0038385559513007526, ''),\n",
              "  Text(1.0999938974940962, -0.003664079113235427, ''),\n",
              "  Text(1.0999944648390758, -0.0034896021829851384, ''),\n",
              "  Text(1.0999950045091753, -0.00331512516493957, ''),\n",
              "  Text(1.0999953911001021, -0.003184267346430657, ''),\n",
              "  Text(1.0999956401789797, -0.003097028775608644, ''),\n",
              "  Text(1.0999958823391298, -0.0030097901853060336, ''),\n",
              "  Text(1.099996117580551, -0.002922551576073491, ''),\n",
              "  Text(1.0999963459032418, -0.0028353129484587503, ''),\n",
              "  Text(1.099996567307201, -0.002748074303009546, ''),\n",
              "  Text(1.0999967817924268, -0.002660835640276544, ''),\n",
              "  Text(1.099996989358918, -0.002573596960806502, ''),\n",
              "  Text(1.0999971900066734, -0.0024863582651500856, ''),\n",
              "  Text(1.0999973837356916, -0.0023991195538540532, ''),\n",
              "  Text(1.0999975705459717, -0.0023118808274690704, ''),\n",
              "  Text(1.099997750437512, -0.0022246420865428725, ''),\n",
              "  Text(1.0999979234103119, -0.002137403331623195, ''),\n",
              "  Text(1.09999808946437, -0.0020501645632607043, ''),\n",
              "  Text(1.099998248599685, -0.001962925782002158, ''),\n",
              "  Text(1.0999984008162564, -0.0018756869883982232, ''),\n",
              "  Text(1.0999985461140833, -0.0017884481829956581, ''),\n",
              "  Text(1.0999986844931644, -0.00170120936634513, ''),\n",
              "  Text(1.0999988159534988, -0.001613970538994374, ''),\n",
              "  Text(1.099998940495086, -0.001526731701491126, ''),\n",
              "  Text(1.099999058117925, -0.0014394928543860533, ''),\n",
              "  Text(1.0999991688220152, -0.0013522539982259141, ''),\n",
              "  Text(1.099999272607356, -0.0012650151335613755, ''),\n",
              "  Text(1.0999993694739463, -0.001177776260939197, ''),\n",
              "  Text(1.099999459421786, -0.0010905373809100454, ''),\n",
              "  Text(1.099999542450874, -0.0010032984940206795, ''),\n",
              "  Text(1.0999996185612102, -0.000916059600821767, ''),\n",
              "  Text(1.099999687752794, -0.0008288207018610436, ''),\n",
              "  Text(1.0999997500256251, -0.0007415817976862459, ''),\n",
              "  Text(1.0999998053797029, -0.0006543428888480409, ''),\n",
              "  Text(1.099999853815027, -0.000567103975893188, ''),\n",
              "  Text(1.0999998953315973, -0.00047986505937235447, ''),\n",
              "  Text(1.0999999299294134, -0.00039262613983229974, ''),\n",
              "  Text(1.0999999576084751, -0.00030538721782369106, ''),\n",
              "  Text(1.0999999783687826, -0.0002181482938942649, ''),\n",
              "  Text(1.0999999922103352, -0.00013090936859175758, ''),\n",
              "  Text(1.099999999133133, -4.367044246683652e-05, '')],\n",
              " [Text(-0.5942371169288352, 0.0829593205378748, '95.585'),\n",
              "  Text(0.5855175946908728, -0.13103108908734118, '1.823'),\n",
              "  Text(0.5941380041917941, -0.0836661937403133, '0.732'),\n",
              "  Text(0.5967672098646463, -0.06220046004946536, '0.415'),\n",
              "  Text(0.5979934349691329, -0.04902909068927742, '0.287'),\n",
              "  Text(0.5987083726313979, -0.039348246988438376, '0.228'),\n",
              "  Text(0.599126409118131, -0.03236581371159852, '0.143'),\n",
              "  Text(0.5993631563872317, -0.027637054212321096, '0.109'),\n",
              "  Text(0.5995226511429879, -0.02392886889268388, '0.088'),\n",
              "  Text(0.5996363841280912, -0.020885565105790538, '0.073'),\n",
              "  Text(0.5997210561049249, -0.018293574401781972, '0.064'),\n",
              "  Text(0.5997838031976263, -0.01610557114141266, '0.052'),\n",
              "  Text(0.5998307489268339, -0.014250355850771208, '0.047'),\n",
              "  Text(0.5998664925263272, -0.01265666402184257, '0.038'),\n",
              "  Text(0.5998940154515889, -0.011276977669958948, '0.035'),\n",
              "  Text(0.5999147947245503, -0.010111333769619726, '0.027'),\n",
              "  Text(0.5999304410185317, -0.009135969533124271, '0.025'),\n",
              "  Text(0.5999428717363292, -0.008279532158663611, '0.020'),\n",
              "  Text(0.5999522967257599, -0.0075658214019188146, '0.018'),\n",
              "  Text(0.5999600532769337, -0.006923472534707716, '0.016'),\n",
              "  Text(0.599966622056497, -0.006328697979564843, '0.015'),\n",
              "  Text(0.5999723733573709, -0.005757708565353186, '0.015'),\n",
              "  Text(0.5999771680114316, -0.0052342969902617505, '0.013'),\n",
              "  Text(0.5999809413830732, -0.004782256484250376, '0.011'),\n",
              "  Text(0.5999842019918331, -0.00435400507844933, '0.011'),\n",
              "  Text(0.599987156925478, -0.003925751454404871, '0.011'),\n",
              "  Text(0.59998952691576, -0.0035450798866142074, '0.009'),\n",
              "  Text(0.5999914025327368, -0.0032119910957844155, '0.009'),\n",
              "  Text(0.5999930932329292, -0.002878901315021997, '0.009'),\n",
              "  Text(0.5999944975923505, -0.0025696028687134417, '0.008'),\n",
              "  Text(0.5999954693712003, -0.0023316805169165907, '0.005'),\n",
              "  Text(0.5999960071524845, -0.0021889269233407813, '0.003'),\n",
              "  Text(0.5999963468041368, -0.002093757791618592, '0.003'),\n",
              "  Text(0.599996671360416, -0.001998588607219324, '0.003'),\n",
              "  Text(0.599996980821314, -0.001903419372537348, '0.003'),\n",
              "  Text(0.5999972751868229, -0.0018082500899670381, '0.003'),\n",
              "  Text(0.5999974860546011, -0.0017368730980530853, '0.001'),\n",
              "  Text(0.599997621915807, -0.0016892884230592603, '0.001'),\n",
              "  Text(0.5999977540031616, -0.0016417037374396547, '0.001'),\n",
              "  Text(0.5999978823166641, -0.001594119041494631, '0.001'),\n",
              "  Text(0.5999980068563137, -0.0015465343355229545, '0.001'),\n",
              "  Text(0.5999981276221095, -0.0014989496198233884, '0.001'),\n",
              "  Text(0.5999982446140508, -0.0014513648946962966, '0.001'),\n",
              "  Text(0.5999983578321371, -0.0014037801604399101, '0.001'),\n",
              "  Text(0.5999984672763672, -0.001356195417354592, '0.001'),\n",
              "  Text(0.5999985729467409, -0.0013086106657385745, '0.001'),\n",
              "  Text(0.5999986748432572, -0.0012610259058922202, '0.001'),\n",
              "  Text(0.5999987729659155, -0.001213441138114294, '0.001'),\n",
              "  Text(0.5999988673147155, -0.0011658563627035608, '0.001'),\n",
              "  Text(0.5999989578896562, -0.0011182715799603839, '0.001'),\n",
              "  Text(0.5999990446907372, -0.0010706867901829952, '0.001'),\n",
              "  Text(0.599999127717958, -0.001023101993671758, '0.001'),\n",
              "  Text(0.599999206971318, -0.0009755171907249044, '0.001'),\n",
              "  Text(0.5999992824508168, -0.0009279323816427981, '0.001'),\n",
              "  Text(0.5999993541564539, -0.0008803475667242039, '0.001'),\n",
              "  Text(0.5999994220882287, -0.0008327627462678868, '0.001'),\n",
              "  Text(0.599999486246141, -0.0007851779205742108, '0.001'),\n",
              "  Text(0.5999995466301901, -0.0007375930899414077, '0.001'),\n",
              "  Text(0.5999996032403759, -0.0006900082546698411, '0.001'),\n",
              "  Text(0.5999996560766979, -0.0006424234150577439, '0.001'),\n",
              "  Text(0.5999997051391558, -0.0005948385714054792, '0.001'),\n",
              "  Text(0.5999997504277493, -0.0005472537240112797, '0.001'),\n",
              "  Text(0.5999997919424782, -0.0004996688731755092, '0.001'),\n",
              "  Text(0.5999998296833421, -0.00045208401919693284, '0.001'),\n",
              "  Text(0.5999998636503409, -0.0004044991623743159, '0.001'),\n",
              "  Text(0.5999998938434742, -0.00035691430300802227, '0.001'),\n",
              "  Text(0.599999920262742, -0.00030932944139628433, '0.001'),\n",
              "  Text(0.599999942908144, -0.00026174457783946606, '0.001'),\n",
              "  Text(0.59999996177968, -0.00021415971263579983, '0.001'),\n",
              "  Text(0.5999999768773501, -0.00016657484608564966, '0.001'),\n",
              "  Text(0.5999999882011541, -0.00011898997848778084, '0.001'),\n",
              "  Text(0.5999999957510919, -7.140511014095868e-05, '0.001'),\n",
              "  Text(0.5999999995271634, -2.382024134554719e-05, '0.001')])"
            ]
          },
          "metadata": {},
          "execution_count": 306
        },
        {
          "output_type": "display_data",
          "data": {
            "text/plain": [
              "<Figure size 432x288 with 1 Axes>"
            ],
            "image/png": "[encoded data removed]"
          },
          "metadata": {}
        }
      ]
    },
    {
      "cell_type": "markdown",
      "source": [
        "In percentage we can see that 95% of customer are not canceling thier booking."
      ],
      "metadata": {
        "id": "Jhi5-iYfl-v0"
      }
    },
    {
      "cell_type": "code",
      "source": [
        "df['booking_changes'].value_counts()"
      ],
      "metadata": {
        "colab": {
          "base_uri": "https://localhost:8080/",
          "height": 0
        },
        "id": "jDrQBZ_S935o",
        "outputId": "7625cbdd-8d3e-4f34-db8c-a0bae0629669"
      },
      "execution_count": 307,
      "outputs": [
        {
          "output_type": "execute_result",
          "data": {
            "text/plain": [
              "0     64398\n",
              "1     10067\n",
              "2      3324\n",
              "3       838\n",
              "4       343\n",
              "5       114\n",
              "6        55\n",
              "7        31\n",
              "8        17\n",
              "9         8\n",
              "10        6\n",
              "13        5\n",
              "14        5\n",
              "15        3\n",
              "16        2\n",
              "17        2\n",
              "12        2\n",
              "11        2\n",
              "20        1\n",
              "21        1\n",
              "18        1\n",
              "Name: booking_changes, dtype: int64"
            ]
          },
          "metadata": {},
          "execution_count": 307
        }
      ]
    },
    {
      "cell_type": "code",
      "source": [
        "sns.catplot(x='booking_changes', kind='count', data=df,height=7.27, aspect=11.7/8.27)"
      ],
      "metadata": {
        "colab": {
          "base_uri": "https://localhost:8080/",
          "height": 551
        },
        "id": "qUMMJs-AuhMD",
        "outputId": "796b99ca-373e-483e-bf61-d2b7baa65643"
      },
      "execution_count": 346,
      "outputs": [
        {
          "output_type": "execute_result",
          "data": {
            "text/plain": [
              "<seaborn.axisgrid.FacetGrid at 0x7fb22a42b590>"
            ]
          },
          "metadata": {},
          "execution_count": 346
        },
        {
          "output_type": "display_data",
          "data": {
            "text/plain": [
              "<Figure size 740.538x523.44 with 1 Axes>"
            ],
            "image/png": "[encoded data removed]"
          },
          "metadata": {
            "needs_background": "light"
          }
        }
      ]
    },
    {
      "cell_type": "markdown",
      "source": [
        "Q Did the guest make changes in thier booking ?"
      ],
      "metadata": {
        "id": "zd7vRTVzmII6"
      }
    },
    {
      "cell_type": "markdown",
      "source": [
        "65K guest are not making any changes but approx 10k guest were making changes in ther booking"
      ],
      "metadata": {
        "id": "YxD1ArFBmOVr"
      }
    },
    {
      "cell_type": "code",
      "source": [
        "l1 = df['booking_changes'].value_counts().index\n",
        "v1 = df['booking_changes'].value_counts().values\n",
        "\n",
        "plt.figure(figsize=(7,7))\n",
        "plt.pie(v1, labels = l1, autopct='%.3f')\n",
        "plt.title('Booking changes Percentage')\n",
        "plt.show()"
      ],
      "metadata": {
        "colab": {
          "base_uri": "https://localhost:8080/",
          "height": 427
        },
        "id": "OrSApUK6mp_1",
        "outputId": "8a3c49d7-079d-4669-cab7-8e9ad29d6b42"
      },
      "execution_count": 309,
      "outputs": [
        {
          "output_type": "display_data",
          "data": {
            "text/plain": [
              "<Figure size 504x504 with 1 Axes>"
            ],
            "image/png": "[encoded data removed]"
          },
          "metadata": {}
        }
      ]
    },
    {
      "cell_type": "markdown",
      "source": [
        "81% are not making any changes 12% are making single type of changes 4% make two changes."
      ],
      "metadata": {
        "id": "kuZ0zMzjmdcB"
      }
    },
    {
      "cell_type": "code",
      "source": [
        "df['deposit_type'].value_counts()"
      ],
      "metadata": {
        "colab": {
          "base_uri": "https://localhost:8080/",
          "height": 0
        },
        "id": "SxU5l9YL-A7u",
        "outputId": "4f1e0c2d-0e89-4758-f311-8a68841b17d4"
      },
      "execution_count": 310,
      "outputs": [
        {
          "output_type": "execute_result",
          "data": {
            "text/plain": [
              "No Deposit    78868\n",
              "Non Refund      271\n",
              "Refundable       86\n",
              "Name: deposit_type, dtype: int64"
            ]
          },
          "metadata": {},
          "execution_count": 310
        }
      ]
    },
    {
      "cell_type": "code",
      "source": [
        "sns.catplot(x='deposit_type', kind='count', data=df )"
      ],
      "metadata": {
        "colab": {
          "base_uri": "https://localhost:8080/",
          "height": 387
        },
        "id": "agKuSLZZvpLC",
        "outputId": "358a0872-a564-4b92-b46e-3820bac4a47d"
      },
      "execution_count": 311,
      "outputs": [
        {
          "output_type": "execute_result",
          "data": {
            "text/plain": [
              "<seaborn.axisgrid.FacetGrid at 0x7fb22df25950>"
            ]
          },
          "metadata": {},
          "execution_count": 311
        },
        {
          "output_type": "display_data",
          "data": {
            "text/plain": [
              "<Figure size 360x360 with 1 Axes>"
            ],
            "image/png": "[encoded data removed]"
          },
          "metadata": {
            "needs_background": "light"
          }
        }
      ]
    },
    {
      "cell_type": "markdown",
      "source": [
        "Q. What are the deposite type offered?"
      ],
      "metadata": {
        "id": "jHEjD0ODmt4-"
      }
    },
    {
      "cell_type": "markdown",
      "source": [
        "approx 80k guest prefered no deposite very less are intredted in refundable and no refund."
      ],
      "metadata": {
        "id": "sEq5WcgHmypv"
      }
    },
    {
      "cell_type": "code",
      "source": [
        "plt.pie(df['deposit_type'].value_counts(),autopct='%.3f')"
      ],
      "metadata": {
        "colab": {
          "base_uri": "https://localhost:8080/",
          "height": 414
        },
        "id": "HCWQI6FDm8zT",
        "outputId": "26019371-b3d4-4cbc-dc91-c3dd79f5280b"
      },
      "execution_count": 312,
      "outputs": [
        {
          "output_type": "execute_result",
          "data": {
            "text/plain": [
              "([<matplotlib.patches.Wedge at 0x7fb22c46a750>,\n",
              "  <matplotlib.patches.Wedge at 0x7fb22c46add0>,\n",
              "  <matplotlib.patches.Wedge at 0x7fb22d423650>],\n",
              " [Text(-1.099889777445945, 0.015571688087982434, ''),\n",
              "  Text(1.0998302774216295, -0.01932254814100265, ''),\n",
              "  Text(1.0999936032085793, -0.003751386437963689, '')],\n",
              " [Text(-0.5999398786068791, 0.008493648047990417, '99.549'),\n",
              "  Text(0.5999074240481616, -0.01053957171327417, '0.342'),\n",
              "  Text(0.5999965108410431, -0.00204621078434383, '0.109')])"
            ]
          },
          "metadata": {},
          "execution_count": 312
        },
        {
          "output_type": "display_data",
          "data": {
            "text/plain": [
              "<Figure size 432x288 with 1 Axes>"
            ],
            "image/png": "[encoded data removed]"
          },
          "metadata": {}
        }
      ]
    },
    {
      "cell_type": "markdown",
      "source": [
        "99% prefered no deposite"
      ],
      "metadata": {
        "id": "ADADPIRbnFzB"
      }
    },
    {
      "cell_type": "code",
      "source": [
        "df['required_car_parking_spaces'].value_counts()"
      ],
      "metadata": {
        "colab": {
          "base_uri": "https://localhost:8080/",
          "height": 0
        },
        "id": "X9rdeyl2-Kse",
        "outputId": "718a10f4-e890-4b50-ac66-a9f2c23a32b2"
      },
      "execution_count": 313,
      "outputs": [
        {
          "output_type": "execute_result",
          "data": {
            "text/plain": [
              "0    71996\n",
              "1     7196\n",
              "2       28\n",
              "3        3\n",
              "8        2\n",
              "Name: required_car_parking_spaces, dtype: int64"
            ]
          },
          "metadata": {},
          "execution_count": 313
        }
      ]
    },
    {
      "cell_type": "code",
      "source": [
        "sns.catplot(x='required_car_parking_spaces', kind='count', data=df)"
      ],
      "metadata": {
        "colab": {
          "base_uri": "https://localhost:8080/",
          "height": 387
        },
        "id": "mMbWBrpTwHwD",
        "outputId": "71d4d50f-f57a-4600-8152-b3ca556b816c"
      },
      "execution_count": 314,
      "outputs": [
        {
          "output_type": "execute_result",
          "data": {
            "text/plain": [
              "<seaborn.axisgrid.FacetGrid at 0x7fb22c49c390>"
            ]
          },
          "metadata": {},
          "execution_count": 314
        },
        {
          "output_type": "display_data",
          "data": {
            "text/plain": [
              "<Figure size 360x360 with 1 Axes>"
            ],
            "image/png": "[encoded data removed]"
          },
          "metadata": {
            "needs_background": "light"
          }
        }
      ]
    },
    {
      "cell_type": "markdown",
      "source": [
        "Q. guest ask for car parking ?"
      ],
      "metadata": {
        "id": "GWvOKpPynLzO"
      }
    },
    {
      "cell_type": "markdown",
      "source": [
        "No, more then 70k guest are not asking for car parking approx 8k guest are looking for car parking."
      ],
      "metadata": {
        "id": "F--i8o4PncnD"
      }
    },
    {
      "cell_type": "code",
      "source": [
        "df['reservation_status'].value_counts()"
      ],
      "metadata": {
        "colab": {
          "base_uri": "https://localhost:8080/",
          "height": 0
        },
        "id": "hsngbQ1w-T-j",
        "outputId": "6fe37a29-8b25-4acc-8333-0b96d5edb1c5"
      },
      "execution_count": 315,
      "outputs": [
        {
          "output_type": "execute_result",
          "data": {
            "text/plain": [
              "Check-Out    58452\n",
              "Canceled     19836\n",
              "No-Show        937\n",
              "Name: reservation_status, dtype: int64"
            ]
          },
          "metadata": {},
          "execution_count": 315
        }
      ]
    },
    {
      "cell_type": "code",
      "source": [
        "sns.catplot(x='reservation_status', kind='count', data=df)"
      ],
      "metadata": {
        "colab": {
          "base_uri": "https://localhost:8080/",
          "height": 387
        },
        "id": "oohi5RNAwiq2",
        "outputId": "ab1b1b67-0650-4940-872b-04785a4af47f"
      },
      "execution_count": 316,
      "outputs": [
        {
          "output_type": "execute_result",
          "data": {
            "text/plain": [
              "<seaborn.axisgrid.FacetGrid at 0x7fb22d5adc10>"
            ]
          },
          "metadata": {},
          "execution_count": 316
        },
        {
          "output_type": "display_data",
          "data": {
            "text/plain": [
              "<Figure size 360x360 with 1 Axes>"
            ],
            "image/png": "[encoded data removed]"
          },
          "metadata": {
            "needs_background": "light"
          }
        }
      ]
    },
    {
      "cell_type": "markdown",
      "source": [
        "Q. Is there any cancel reservation."
      ],
      "metadata": {
        "id": "O6a2PBEcntl1"
      }
    },
    {
      "cell_type": "markdown",
      "source": [
        "approx 59k guest checking out butapprox 19k guest were cancel reservation."
      ],
      "metadata": {
        "id": "FSeFowUFn19D"
      }
    },
    {
      "cell_type": "code",
      "source": [
        "df['agent'].value_counts()"
      ],
      "metadata": {
        "colab": {
          "base_uri": "https://localhost:8080/",
          "height": 0
        },
        "id": "Ew8OZFYe-diu",
        "outputId": "4060ab4a-1cad-434d-d471-69401fffb4fb"
      },
      "execution_count": 317,
      "outputs": [
        {
          "output_type": "execute_result",
          "data": {
            "text/plain": [
              "9.0      26565\n",
              "240.0    12375\n",
              "0.0      11120\n",
              "14.0      3126\n",
              "7.0       3111\n",
              "         ...  \n",
              "93.0         1\n",
              "247.0        1\n",
              "278.0        1\n",
              "114.0        1\n",
              "280.0        1\n",
              "Name: agent, Length: 322, dtype: int64"
            ]
          },
          "metadata": {},
          "execution_count": 317
        }
      ]
    },
    {
      "cell_type": "markdown",
      "source": [
        "agenet with id no 9.0 has make the maximum nuber of booking"
      ],
      "metadata": {
        "id": "mWb5fM8SMljO"
      }
    },
    {
      "cell_type": "code",
      "source": [
        "df['company'].value_counts()"
      ],
      "metadata": {
        "colab": {
          "base_uri": "https://localhost:8080/",
          "height": 0
        },
        "id": "sBQ4RQPM-m2w",
        "outputId": "d3ed094d-1a90-412d-a36f-341acd5c4495"
      },
      "execution_count": 318,
      "outputs": [
        {
          "output_type": "execute_result",
          "data": {
            "text/plain": [
              "0.0      74483\n",
              "40.0       788\n",
              "223.0      414\n",
              "45.0       228\n",
              "153.0      198\n",
              "         ...  \n",
              "376.0        1\n",
              "402.0        1\n",
              "279.0        1\n",
              "398.0        1\n",
              "140.0        1\n",
              "Name: company, Length: 341, dtype: int64"
            ]
          },
          "metadata": {},
          "execution_count": 318
        }
      ]
    },
    {
      "cell_type": "markdown",
      "source": [
        "comapany with id no 0.0 has make the maximum booking"
      ],
      "metadata": {
        "id": "gsShA1JaMxGM"
      }
    },
    {
      "cell_type": "markdown",
      "source": [
        "### bivariate analysis"
      ],
      "metadata": {
        "id": "8xfXKbofsEGg"
      }
    },
    {
      "cell_type": "code",
      "source": [
        "df['hotel'].value_counts()"
      ],
      "metadata": {
        "colab": {
          "base_uri": "https://localhost:8080/",
          "height": 0
        },
        "id": "a5UnBtVYsuOP",
        "outputId": "80042543-5453-4b9f-ca8d-6e2db6cae3f7"
      },
      "execution_count": 319,
      "outputs": [
        {
          "output_type": "execute_result",
          "data": {
            "text/plain": [
              "City Hotel      47582\n",
              "Resort Hotel    31643\n",
              "Name: hotel, dtype: int64"
            ]
          },
          "metadata": {},
          "execution_count": 319
        }
      ]
    },
    {
      "cell_type": "code",
      "source": [
        "df['is_canceled'].value_counts()"
      ],
      "metadata": {
        "colab": {
          "base_uri": "https://localhost:8080/",
          "height": 0
        },
        "id": "mCglWFZCNT3u",
        "outputId": "4325df0a-1eae-426d-a8ac-bf8719d78a03"
      },
      "execution_count": 320,
      "outputs": [
        {
          "output_type": "execute_result",
          "data": {
            "text/plain": [
              "0    58452\n",
              "1    20773\n",
              "Name: is_canceled, dtype: int64"
            ]
          },
          "metadata": {},
          "execution_count": 320
        }
      ]
    },
    {
      "cell_type": "code",
      "source": [
        "hotel_cancelation_count= pd.DataFrame(df[['hotel','is_canceled']].value_counts()).reset_index()\n",
        "hotel_cancelation_count.rename(columns = {0:'Count'}, inplace=True)\n",
        "hotel_cancelation_count"
      ],
      "metadata": {
        "colab": {
          "base_uri": "https://localhost:8080/",
          "height": 175
        },
        "id": "yka2gpD4uvZN",
        "outputId": "1ced7a8a-5605-4138-d988-59eaa7851536"
      },
      "execution_count": 321,
      "outputs": [
        {
          "output_type": "execute_result",
          "data": {
            "text/plain": [
              "          hotel  is_canceled  Count\n",
              "0    City Hotel            0  33947\n",
              "1  Resort Hotel            0  24505\n",
              "2    City Hotel            1  13635\n",
              "3  Resort Hotel            1   7138"
            ],
            "text/html": [
              "\n",
              "  <div id=\"df-bddad7e6-d46b-44e5-9fdb-f86bc3828cec\">\n",
              "    <div class=\"colab-df-container\">\n",
              "      <div>\n",
              "<style scoped>\n",
              "    .dataframe tbody tr th:only-of-type {\n",
              "        vertical-align: middle;\n",
              "    }\n",
              "\n",
              "    .dataframe tbody tr th {\n",
              "        vertical-align: top;\n",
              "    }\n",
              "\n",
              "    .dataframe thead th {\n",
              "        text-align: right;\n",
              "    }\n",
              "</style>\n",
              "<table border=\"1\" class=\"dataframe\">\n",
              "  <thead>\n",
              "    <tr style=\"text-align: right;\">\n",
              "      <th></th>\n",
              "      <th>hotel</th>\n",
              "      <th>is_canceled</th>\n",
              "      <th>Count</th>\n",
              "    </tr>\n",
              "  </thead>\n",
              "  <tbody>\n",
              "    <tr>\n",
              "      <th>0</th>\n",
              "      <td>City Hotel</td>\n",
              "      <td>0</td>\n",
              "      <td>33947</td>\n",
              "    </tr>\n",
              "    <tr>\n",
              "      <th>1</th>\n",
              "      <td>Resort Hotel</td>\n",
              "      <td>0</td>\n",
              "      <td>24505</td>\n",
              "    </tr>\n",
              "    <tr>\n",
              "      <th>2</th>\n",
              "      <td>City Hotel</td>\n",
              "      <td>1</td>\n",
              "      <td>13635</td>\n",
              "    </tr>\n",
              "    <tr>\n",
              "      <th>3</th>\n",
              "      <td>Resort Hotel</td>\n",
              "      <td>1</td>\n",
              "      <td>7138</td>\n",
              "    </tr>\n",
              "  </tbody>\n",
              "</table>\n",
              "</div>\n",
              "      <button class=\"colab-df-convert\" onclick=\"convertToInteractive('df-bddad7e6-d46b-44e5-9fdb-f86bc3828cec')\"\n",
              "              title=\"Convert this dataframe to an interactive table.\"\n",
              "              style=\"display:none;\">\n",
              "        \n",
              "  <svg xmlns=\"http://www.w3.org/2000/svg\" height=\"24px\"viewBox=\"0 0 24 24\"\n",
              "       width=\"24px\">\n",
              "    <path d=\"M0 0h24v24H0V0z\" fill=\"none\"/>\n",
              "    <path d=\"M18.56 5.44l.94 2.06.94-2.06 2.06-.94-2.06-.94-.94-2.06-.94 2.06-2.06.94zm-11 1L8.5 8.5l.94-2.06 2.06-.94-2.06-.94L8.5 2.5l-.94 2.06-2.06.94zm10 10l.94 2.06.94-2.06 2.06-.94-2.06-.94-.94-2.06-.94 2.06-2.06.94z\"/><path d=\"M17.41 7.96l-1.37-1.37c-.4-.4-.92-.59-1.43-.59-.52 0-1.04.2-1.43.59L10.3 9.45l-7.72 7.72c-.78.78-.78 2.05 0 2.83L4 21.41c.39.39.9.59 1.41.59.51 0 1.02-.2 1.41-.59l7.78-7.78 2.81-2.81c.8-.78.8-2.07 0-2.86zM5.41 20L4 18.59l7.72-7.72 1.47 1.35L5.41 20z\"/>\n",
              "  </svg>\n",
              "      </button>\n",
              "      \n",
              "  <style>\n",
              "    .colab-df-container {\n",
              "      display:flex;\n",
              "      flex-wrap:wrap;\n",
              "      gap: 12px;\n",
              "    }\n",
              "\n",
              "    .colab-df-convert {\n",
              "      background-color: #E8F0FE;\n",
              "      border: none;\n",
              "      border-radius: 50%;\n",
              "      cursor: pointer;\n",
              "      display: none;\n",
              "      fill: #1967D2;\n",
              "      height: 32px;\n",
              "      padding: 0 0 0 0;\n",
              "      width: 32px;\n",
              "    }\n",
              "\n",
              "    .colab-df-convert:hover {\n",
              "      background-color: #E2EBFA;\n",
              "      box-shadow: 0px 1px 2px rgba(60, 64, 67, 0.3), 0px 1px 3px 1px rgba(60, 64, 67, 0.15);\n",
              "      fill: #174EA6;\n",
              "    }\n",
              "\n",
              "    [theme=dark] .colab-df-convert {\n",
              "      background-color: #3B4455;\n",
              "      fill: #D2E3FC;\n",
              "    }\n",
              "\n",
              "    [theme=dark] .colab-df-convert:hover {\n",
              "      background-color: #434B5C;\n",
              "      box-shadow: 0px 1px 3px 1px rgba(0, 0, 0, 0.15);\n",
              "      filter: drop-shadow(0px 1px 2px rgba(0, 0, 0, 0.3));\n",
              "      fill: #FFFFFF;\n",
              "    }\n",
              "  </style>\n",
              "\n",
              "      <script>\n",
              "        const buttonEl =\n",
              "          document.querySelector('#df-bddad7e6-d46b-44e5-9fdb-f86bc3828cec button.colab-df-convert');\n",
              "        buttonEl.style.display =\n",
              "          google.colab.kernel.accessAllowed ? 'block' : 'none';\n",
              "\n",
              "        async function convertToInteractive(key) {\n",
              "          const element = document.querySelector('#df-bddad7e6-d46b-44e5-9fdb-f86bc3828cec');\n",
              "          const dataTable =\n",
              "            await google.colab.kernel.invokeFunction('convertToInteractive',\n",
              "                                                     [key], {});\n",
              "          if (!dataTable) return;\n",
              "\n",
              "          const docLinkHtml = 'Like what you see? Visit the ' +\n",
              "            '<a target=\"_blank\" href=https://colab.research.google.com/notebooks/data_table.ipynb>data table notebook</a>'\n",
              "            + ' to learn more about interactive tables.';\n",
              "          element.innerHTML = '';\n",
              "          dataTable['output_type'] = 'display_data';\n",
              "          await google.colab.output.renderOutput(dataTable, element);\n",
              "          const docLink = document.createElement('div');\n",
              "          docLink.innerHTML = docLinkHtml;\n",
              "          element.appendChild(docLink);\n",
              "        }\n",
              "      </script>\n",
              "    </div>\n",
              "  </div>\n",
              "  "
            ]
          },
          "metadata": {},
          "execution_count": 321
        }
      ]
    },
    {
      "cell_type": "code",
      "source": [
        "per_cancel = hotel_cancelation_count[hotel_cancelation_count['hotel']=='City Hotel']['Count']\n",
        "print('City Hotel No canceled : ', per_cancel[0]/per_cancel.sum()*100)\n",
        "per_cancel = hotel_cancelation_count[hotel_cancelation_count['hotel']=='City Hotel']['Count']\n",
        "print('City Hotel canceled : ', per_cancel[2]/per_cancel.sum()*100)\n",
        "per_cancel = hotel_cancelation_count[hotel_cancelation_count['hotel']=='Resort Hotel']['Count']\n",
        "print('Resort Hotel No canceled : ', per_cancel[1]/per_cancel.sum()*100)\n",
        "per_cancel = hotel_cancelation_count[hotel_cancelation_count['hotel']=='Resort Hotel']['Count']\n",
        "print('Resort Hotel No canceled : ', per_cancel[3]/per_cancel.sum()*100)"
      ],
      "metadata": {
        "colab": {
          "base_uri": "https://localhost:8080/",
          "height": 0
        },
        "id": "YEIAID0uuHZ9",
        "outputId": "65d881f9-7301-47c5-a1c0-3869102d410a"
      },
      "execution_count": 322,
      "outputs": [
        {
          "output_type": "stream",
          "name": "stdout",
          "text": [
            "City Hotel No canceled :  71.34420579210627\n",
            "City Hotel canceled :  28.65579420789374\n",
            "Resort Hotel No canceled :  77.44208829756977\n",
            "Resort Hotel No canceled :  22.557911702430236\n"
          ]
        }
      ]
    },
    {
      "cell_type": "markdown",
      "source": [
        "As we can see customers who canceled city hotel are are more tend to cancel reservation with 28 % rather then 22% Reaort hotel."
      ],
      "metadata": {
        "id": "MM3u7UBDx4pj"
      }
    },
    {
      "cell_type": "code",
      "source": [
        "sns.catplot(x='hotel', kind='count', hue='is_canceled', data=df)"
      ],
      "metadata": {
        "colab": {
          "base_uri": "https://localhost:8080/",
          "height": 387
        },
        "id": "sJ03U_9R-6wk",
        "outputId": "49b9d1f4-a953-4ae0-df84-03124f67561d"
      },
      "execution_count": 323,
      "outputs": [
        {
          "output_type": "execute_result",
          "data": {
            "text/plain": [
              "<seaborn.axisgrid.FacetGrid at 0x7fb22d5add10>"
            ]
          },
          "metadata": {},
          "execution_count": 323
        },
        {
          "output_type": "display_data",
          "data": {
            "text/plain": [
              "<Figure size 426.125x360 with 1 Axes>"
            ],
            "image/png": "[encoded data removed]"
          },
          "metadata": {
            "needs_background": "light"
          }
        }
      ]
    },
    {
      "cell_type": "code",
      "source": [
        "df['total_nights'] = df['stays_in_week_nights']+df['stays_in_weekend_nights']"
      ],
      "metadata": {
        "id": "uazmPlEiJKbx"
      },
      "execution_count": 342,
      "outputs": []
    },
    {
      "cell_type": "code",
      "source": [
        "sns.catplot(x='total_nights', kind='count', hue='hotel', data=df,height=7.27, aspect=11.7/8.27)"
      ],
      "metadata": {
        "colab": {
          "base_uri": "https://localhost:8080/",
          "height": 551
        },
        "id": "MYiTMplWJKZD",
        "outputId": "8f14d011-5e83-4deb-85e4-f917fc8ad706"
      },
      "execution_count": 347,
      "outputs": [
        {
          "output_type": "execute_result",
          "data": {
            "text/plain": [
              "<seaborn.axisgrid.FacetGrid at 0x7fb22df25d90>"
            ]
          },
          "metadata": {},
          "execution_count": 347
        },
        {
          "output_type": "display_data",
          "data": {
            "text/plain": [
              "<Figure size 837.788x523.44 with 1 Axes>"
            ],
            "image/png": "[encoded data removed]"
          },
          "metadata": {
            "needs_background": "light"
          }
        }
      ]
    },
    {
      "cell_type": "code",
      "source": [
        "plt.subplots(figsize=(7,5))\n",
        "sns.countplot(x='arrival_date_year', hue='hotel',  data=df);"
      ],
      "metadata": {
        "colab": {
          "base_uri": "https://localhost:8080/",
          "height": 336
        },
        "id": "epoM-FilJKV0",
        "outputId": "e8f21dac-f459-47ce-8be5-c303bfb72d51"
      },
      "execution_count": 348,
      "outputs": [
        {
          "output_type": "display_data",
          "data": {
            "text/plain": [
              "<Figure size 504x360 with 1 Axes>"
            ],
            "image/png": "[encoded data removed]"
          },
          "metadata": {
            "needs_background": "light"
          }
        }
      ]
    },
    {
      "cell_type": "code",
      "source": [
        "df[['children','babies','adults']] = df[['children','babies','adults']].astype('int64')"
      ],
      "metadata": {
        "id": "xDFBjBKQEcMs"
      },
      "execution_count": 326,
      "outputs": []
    },
    {
      "cell_type": "code",
      "source": [
        "single=df[(df.adults==1) & (df.children==0) & (df.babies ==0)]\n",
        "couple=df[(df.adults==2) & (df.children==0) & (df.babies ==0)]\n",
        "family=df[(df.adults > 0) & (df.children > 0) & (df.babies > 0)]\n",
        "\n",
        "names = ['single','couple(No children)', 'Family/Friends']\n",
        "count = [single.shape[0],couple.shape[0],family.shape[0]]\n",
        "count_percentage = [x/df.shape[0]*100 for x in count]"
      ],
      "metadata": {
        "id": "BbYJA69t-uYZ"
      },
      "execution_count": 337,
      "outputs": []
    },
    {
      "cell_type": "code",
      "source": [
        "fig = plt.figure(figsize=(10,5))\n",
        "#creating the bar plot\n",
        "plt.bar(names,count_percentage,color='maroon',width=0.4)\n",
        "plt.xlabel(\"Accomondation Type\")\n",
        "plt.ylabel(\"count percentage\\n\\n\")\n",
        "plt.show()"
      ],
      "metadata": {
        "colab": {
          "base_uri": "https://localhost:8080/",
          "height": 334
        },
        "id": "AZN7_4rqFqaZ",
        "outputId": "dd72d9d0-4e67-419b-d8ec-4f9256d4d533"
      },
      "execution_count": 340,
      "outputs": [
        {
          "output_type": "display_data",
          "data": {
            "text/plain": [
              "<Figure size 720x360 with 1 Axes>"
            ],
            "image/png": "[encoded data removed]"
          },
          "metadata": {
            "needs_background": "light"
          }
        }
      ]
    },
    {
      "cell_type": "markdown",
      "source": [],
      "metadata": {
        "id": "ViFfp7BMDUSu"
      }
    },
    {
      "cell_type": "code",
      "source": [
        "# Plot the heatmap to see correlation with columns\n",
        "fig, ax = plt.subplots(figsize=(22,15))\n",
        "sns.heatmap(df.corr(), annot=True, ax=ax);"
      ],
      "metadata": {
        "colab": {
          "base_uri": "https://localhost:8080/",
          "height": 1000
        },
        "id": "0gBdPvuk-uVO",
        "outputId": "91980a3d-20a7-4681-c75d-641116ee1e4a"
      },
      "execution_count": 341,
      "outputs": [
        {
          "output_type": "display_data",
          "data": {
            "text/plain": [
              "<Figure size 1584x1080 with 2 Axes>"
            ],
            "image/png": "[encoded data removed]"
          },
          "metadata": {
            "needs_background": "light"
          }
        }
      ]
    },
    {
      "cell_type": "code",
      "source": [],
      "metadata": {
        "id": "V9p5v2cW-uSc"
      },
      "execution_count": null,
      "outputs": []
    },
    {
      "cell_type": "code",
      "source": [],
      "metadata": {
        "id": "8NSIy1w9yhxg"
      },
      "execution_count": 323,
      "outputs": []
    },
    {
      "cell_type": "code",
      "source": [],
      "metadata": {
        "id": "AanJldUhyhTq"
      },
      "execution_count": 323,
      "outputs": []
    },
    {
      "cell_type": "markdown",
      "source": [
        "## Question and Answer"
      ],
      "metadata": {
        "id": "R4ADdge1nWg8"
      }
    },
    {
      "cell_type": "markdown",
      "source": [
        "how many bookig weher cancel?"
      ],
      "metadata": {
        "id": "WfZb_ZntqKT-"
      }
    },
    {
      "cell_type": "code",
      "source": [],
      "metadata": {
        "id": "WeJwIrPRq3Vm"
      },
      "execution_count": 323,
      "outputs": []
    },
    {
      "cell_type": "code",
      "source": [],
      "metadata": {
        "id": "KuGQ1jStnRki"
      },
      "execution_count": 323,
      "outputs": []
    },
    {
      "cell_type": "markdown",
      "metadata": {
        "id": "CAHh4yTf78KP"
      },
      "source": [
        "### Summary and Conclusion"
      ]
    },
    {
      "cell_type": "code",
      "execution_count": 323,
      "metadata": {
        "id": "08O8oxmn8AJQ"
      },
      "outputs": [],
      "source": []
    }
  ],
  "metadata": {
    "colab": {
      "collapsed_sections": [
        "7nCSLOKEmsXb",
        "DuLsQ5rXmzgB"
      ],
      "provenance": [],
      "include_colab_link": true
    },
    "kernelspec": {
      "display_name": "Python 3",
      "language": "python",
      "name": "python3"
    },
    "language_info": {
      "codemirror_mode": {
        "name": "ipython",
        "version": 3
      },
      "file_extension": ".py",
      "mimetype": "text/x-python",
      "name": "python",
      "nbconvert_exporter": "python",
      "pygments_lexer": "ipython3",
      "version": "3.6.6"
    }
  },
  "nbformat": 4,
  "nbformat_minor": 0
}